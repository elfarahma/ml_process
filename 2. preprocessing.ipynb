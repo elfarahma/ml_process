{
 "cells": [
  {
   "cell_type": "markdown",
   "metadata": {},
   "source": [
    "## 0. Load Required Libraries"
   ]
  },
  {
   "cell_type": "code",
   "execution_count": 96,
   "metadata": {},
   "outputs": [],
   "source": [
    "# !pip install imblearn"
   ]
  },
  {
   "cell_type": "code",
   "execution_count": 97,
   "metadata": {},
   "outputs": [],
   "source": [
    "import pandas as pd\n",
    "import numpy as np\n",
    "import seaborn as sns\n",
    "import src.util as util\n",
    "from imblearn.under_sampling import RandomUnderSampler\n",
    "from imblearn.over_sampling import RandomOverSampler, SMOTE\n",
    "from sklearn.preprocessing import LabelEncoder\n",
    "from sklearn.preprocessing import OneHotEncoder"
   ]
  },
  {
   "cell_type": "markdown",
   "metadata": {},
   "source": [
    "## 1. Import Configuration File"
   ]
  },
  {
   "cell_type": "code",
   "execution_count": 98,
   "metadata": {},
   "outputs": [],
   "source": [
    "config_data = util.load_config()"
   ]
  },
  {
   "cell_type": "markdown",
   "metadata": {},
   "source": [
    "## 2. Load Dataset"
   ]
  },
  {
   "cell_type": "code",
   "execution_count": 100,
   "metadata": {},
   "outputs": [],
   "source": [
    "def load_dataset(config_data: dict) -> pd.DataFrame:\n",
    "    # Load every set of data\n",
    "    x_train = util.pickle_load(config_data[\"train_set_path\"][0])\n",
    "    y_train = util.pickle_load(config_data[\"train_set_path\"][1])\n",
    "\n",
    "    x_valid = util.pickle_load(config_data[\"valid_set_path\"][0])\n",
    "    y_valid = util.pickle_load(config_data[\"valid_set_path\"][1])\n",
    "\n",
    "    x_test = util.pickle_load(config_data[\"test_set_path\"][0])\n",
    "    y_test = util.pickle_load(config_data[\"test_set_path\"][1])\n",
    "\n",
    "    # Concatenate x and y each set\n",
    "    train_set = pd.concat([x_train, y_train], axis = 1)\n",
    "    valid_set = pd.concat([x_valid, y_valid], axis = 1)\n",
    "    test_set = pd.concat([x_test, y_test], axis = 1)\n",
    "\n",
    "    # Return 3 set of data\n",
    "    return train_set, valid_set, test_set"
   ]
  },
  {
   "cell_type": "code",
   "execution_count": 101,
   "metadata": {},
   "outputs": [],
   "source": [
    "train_set, valid_set, test_set = load_dataset(config_data)"
   ]
  },
  {
   "cell_type": "markdown",
   "metadata": {},
   "source": [
    "## 3. Join Categories"
   ]
  },
  {
   "cell_type": "code",
   "execution_count": 33,
   "metadata": {},
   "outputs": [],
   "source": [
    "def join_label_categori(set_data, config_data):\n",
    "    # Check if label not found in set data\n",
    "    if config_data[\"label\"] in set_data.columns.to_list():\n",
    "        # Create copy of set data\n",
    "        set_data = set_data.copy()\n",
    "\n",
    "        # Rename sedang to tidak sehat\n",
    "        set_data.categori.replace(config_data[\"label_categories\"][1], config_data[\"label_categories\"][2], inplace = True)\n",
    "\n",
    "        # Renam tidak sehat to tidak baik\n",
    "        set_data.categori.replace(config_data[\"label_categories\"][2], config_data[\"label_categories_new\"][1], inplace = True)\n",
    "\n",
    "        # Return renamed set data\n",
    "        return set_data\n",
    "    else:\n",
    "        raise RuntimeError(\"Kolom label tidak terdeteksi pada set data yang diberikan!\")"
   ]
  },
  {
   "cell_type": "markdown",
   "metadata": {},
   "source": [
    "### 3.1. Train Set"
   ]
  },
  {
   "cell_type": "code",
   "execution_count": 49,
   "metadata": {},
   "outputs": [
    {
     "data": {
      "text/plain": [
       "Africa           504\n",
       "Europe           432\n",
       "Asia             381\n",
       "North America    181\n",
       "South America    132\n",
       "Oceania           95\n",
       "Name: continent, dtype: int64"
      ]
     },
     "execution_count": 49,
     "metadata": {},
     "output_type": "execute_result"
    }
   ],
   "source": [
    "train_set.continent.value_counts()"
   ]
  },
  {
   "cell_type": "code",
   "execution_count": 8,
   "metadata": {},
   "outputs": [],
   "source": [
    "train_set = join_label_categori(train_set, config_data)"
   ]
  },
  {
   "cell_type": "code",
   "execution_count": 9,
   "metadata": {},
   "outputs": [
    {
     "data": {
      "text/plain": [
       "TIDAK BAIK    1137\n",
       "BAIK           132\n",
       "Name: categori, dtype: int64"
      ]
     },
     "execution_count": 9,
     "metadata": {},
     "output_type": "execute_result"
    }
   ],
   "source": [
    "train_set.categori.value_counts()"
   ]
  },
  {
   "cell_type": "code",
   "execution_count": null,
   "metadata": {},
   "outputs": [],
   "source": []
  },
  {
   "cell_type": "markdown",
   "metadata": {},
   "source": [
    "### 3.2. Valid Set"
   ]
  },
  {
   "cell_type": "code",
   "execution_count": 10,
   "metadata": {},
   "outputs": [
    {
     "data": {
      "text/plain": [
       "SEDANG         196\n",
       "TIDAK SEHAT     48\n",
       "BAIK            28\n",
       "Name: categori, dtype: int64"
      ]
     },
     "execution_count": 10,
     "metadata": {},
     "output_type": "execute_result"
    }
   ],
   "source": [
    "valid_set.categori.value_counts()"
   ]
  },
  {
   "cell_type": "code",
   "execution_count": 11,
   "metadata": {},
   "outputs": [],
   "source": [
    "valid_set = join_label_categori(valid_set, config_data)"
   ]
  },
  {
   "cell_type": "code",
   "execution_count": 12,
   "metadata": {},
   "outputs": [
    {
     "data": {
      "text/plain": [
       "TIDAK BAIK    244\n",
       "BAIK           28\n",
       "Name: categori, dtype: int64"
      ]
     },
     "execution_count": 12,
     "metadata": {},
     "output_type": "execute_result"
    }
   ],
   "source": [
    "valid_set.categori.value_counts()"
   ]
  },
  {
   "cell_type": "code",
   "execution_count": null,
   "metadata": {},
   "outputs": [],
   "source": []
  },
  {
   "cell_type": "markdown",
   "metadata": {},
   "source": [
    "### 3.3. Test Set"
   ]
  },
  {
   "cell_type": "code",
   "execution_count": 13,
   "metadata": {},
   "outputs": [
    {
     "data": {
      "text/plain": [
       "SEDANG         195\n",
       "TIDAK SEHAT     48\n",
       "BAIK            29\n",
       "Name: categori, dtype: int64"
      ]
     },
     "execution_count": 13,
     "metadata": {},
     "output_type": "execute_result"
    }
   ],
   "source": [
    "test_set.categori.value_counts()"
   ]
  },
  {
   "cell_type": "code",
   "execution_count": 14,
   "metadata": {},
   "outputs": [],
   "source": [
    "test_set = join_label_categori(test_set, config_data)"
   ]
  },
  {
   "cell_type": "code",
   "execution_count": 15,
   "metadata": {},
   "outputs": [
    {
     "data": {
      "text/plain": [
       "TIDAK BAIK    243\n",
       "BAIK           29\n",
       "Name: categori, dtype: int64"
      ]
     },
     "execution_count": 15,
     "metadata": {},
     "output_type": "execute_result"
    }
   ],
   "source": [
    "test_set.categori.value_counts()"
   ]
  },
  {
   "cell_type": "code",
   "execution_count": null,
   "metadata": {},
   "outputs": [],
   "source": []
  },
  {
   "cell_type": "markdown",
   "metadata": {},
   "source": [
    "## 4. Handling Missing Value"
   ]
  },
  {
   "cell_type": "code",
   "execution_count": 102,
   "metadata": {},
   "outputs": [],
   "source": [
    "def nan_detector(set_data: pd.DataFrame) -> pd.DataFrame:\n",
    "    # Create copy of set data\n",
    "    set_data = set_data.copy()\n",
    "\n",
    "    # Replace -1 with NaN\n",
    "    set_data.replace(-1, np.nan, inplace = True)\n",
    "\n",
    "    # Return replaced set data\n",
    "    return set_data"
   ]
  },
  {
   "cell_type": "markdown",
   "metadata": {},
   "source": [
    "### 4.1. Convert -1 to NaN"
   ]
  },
  {
   "cell_type": "markdown",
   "metadata": {},
   "source": [
    "#### 4.1.1. Train Set"
   ]
  },
  {
   "cell_type": "code",
   "execution_count": 103,
   "metadata": {},
   "outputs": [
    {
     "data": {
      "text/html": [
       "<div>\n",
       "<style scoped>\n",
       "    .dataframe tbody tr th:only-of-type {\n",
       "        vertical-align: middle;\n",
       "    }\n",
       "\n",
       "    .dataframe tbody tr th {\n",
       "        vertical-align: top;\n",
       "    }\n",
       "\n",
       "    .dataframe thead th {\n",
       "        text-align: right;\n",
       "    }\n",
       "</style>\n",
       "<table border=\"1\" class=\"dataframe\">\n",
       "  <thead>\n",
       "    <tr style=\"text-align: right;\">\n",
       "      <th></th>\n",
       "      <th>hdi</th>\n",
       "      <th>EFConsPerCap</th>\n",
       "    </tr>\n",
       "  </thead>\n",
       "  <tbody>\n",
       "    <tr>\n",
       "      <th>count</th>\n",
       "      <td>1725.000000</td>\n",
       "      <td>1725.000000</td>\n",
       "    </tr>\n",
       "    <tr>\n",
       "      <th>mean</th>\n",
       "      <td>0.663634</td>\n",
       "      <td>3.312210</td>\n",
       "    </tr>\n",
       "    <tr>\n",
       "      <th>std</th>\n",
       "      <td>0.168019</td>\n",
       "      <td>2.566883</td>\n",
       "    </tr>\n",
       "    <tr>\n",
       "      <th>min</th>\n",
       "      <td>0.261000</td>\n",
       "      <td>0.428228</td>\n",
       "    </tr>\n",
       "    <tr>\n",
       "      <th>25%</th>\n",
       "      <td>0.520000</td>\n",
       "      <td>1.421106</td>\n",
       "    </tr>\n",
       "    <tr>\n",
       "      <th>50%</th>\n",
       "      <td>0.692000</td>\n",
       "      <td>2.410972</td>\n",
       "    </tr>\n",
       "    <tr>\n",
       "      <th>75%</th>\n",
       "      <td>0.798000</td>\n",
       "      <td>4.733861</td>\n",
       "    </tr>\n",
       "    <tr>\n",
       "      <th>max</th>\n",
       "      <td>0.945000</td>\n",
       "      <td>17.021936</td>\n",
       "    </tr>\n",
       "  </tbody>\n",
       "</table>\n",
       "</div>"
      ],
      "text/plain": [
       "               hdi  EFConsPerCap\n",
       "count  1725.000000   1725.000000\n",
       "mean      0.663634      3.312210\n",
       "std       0.168019      2.566883\n",
       "min       0.261000      0.428228\n",
       "25%       0.520000      1.421106\n",
       "50%       0.692000      2.410972\n",
       "75%       0.798000      4.733861\n",
       "max       0.945000     17.021936"
      ]
     },
     "execution_count": 103,
     "metadata": {},
     "output_type": "execute_result"
    }
   ],
   "source": [
    "train_set.describe()"
   ]
  },
  {
   "cell_type": "code",
   "execution_count": 18,
   "metadata": {},
   "outputs": [
    {
     "data": {
      "text/plain": [
       "stasiun     0\n",
       "pm10        0\n",
       "pm25        0\n",
       "so2         0\n",
       "co          0\n",
       "o3          0\n",
       "no2         0\n",
       "categori    0\n",
       "dtype: int64"
      ]
     },
     "execution_count": 18,
     "metadata": {},
     "output_type": "execute_result"
    }
   ],
   "source": [
    "train_set.isnull().sum()"
   ]
  },
  {
   "cell_type": "code",
   "execution_count": 19,
   "metadata": {},
   "outputs": [],
   "source": [
    "train_set = nan_detector(train_set)"
   ]
  },
  {
   "cell_type": "code",
   "execution_count": 20,
   "metadata": {},
   "outputs": [
    {
     "data": {
      "text/plain": [
       "stasiun      0\n",
       "pm10        35\n",
       "pm25        55\n",
       "so2         68\n",
       "co          10\n",
       "o3          35\n",
       "no2          9\n",
       "categori     0\n",
       "dtype: int64"
      ]
     },
     "execution_count": 20,
     "metadata": {},
     "output_type": "execute_result"
    }
   ],
   "source": [
    "train_set.isnull().sum()"
   ]
  },
  {
   "cell_type": "code",
   "execution_count": null,
   "metadata": {},
   "outputs": [],
   "source": []
  },
  {
   "cell_type": "markdown",
   "metadata": {},
   "source": [
    "#### 4.1.2. Valid Set"
   ]
  },
  {
   "cell_type": "code",
   "execution_count": 51,
   "metadata": {},
   "outputs": [
    {
     "data": {
      "text/html": [
       "<div>\n",
       "<style scoped>\n",
       "    .dataframe tbody tr th:only-of-type {\n",
       "        vertical-align: middle;\n",
       "    }\n",
       "\n",
       "    .dataframe tbody tr th {\n",
       "        vertical-align: top;\n",
       "    }\n",
       "\n",
       "    .dataframe thead th {\n",
       "        text-align: right;\n",
       "    }\n",
       "</style>\n",
       "<table border=\"1\" class=\"dataframe\">\n",
       "  <thead>\n",
       "    <tr style=\"text-align: right;\">\n",
       "      <th></th>\n",
       "      <th>hdi</th>\n",
       "      <th>EFConsPerCap</th>\n",
       "    </tr>\n",
       "  </thead>\n",
       "  <tbody>\n",
       "    <tr>\n",
       "      <th>count</th>\n",
       "      <td>345.000000</td>\n",
       "      <td>345.000000</td>\n",
       "    </tr>\n",
       "    <tr>\n",
       "      <th>mean</th>\n",
       "      <td>0.667125</td>\n",
       "      <td>3.476903</td>\n",
       "    </tr>\n",
       "    <tr>\n",
       "      <th>std</th>\n",
       "      <td>0.174083</td>\n",
       "      <td>2.854837</td>\n",
       "    </tr>\n",
       "    <tr>\n",
       "      <th>min</th>\n",
       "      <td>0.255000</td>\n",
       "      <td>0.468001</td>\n",
       "    </tr>\n",
       "    <tr>\n",
       "      <th>25%</th>\n",
       "      <td>0.501000</td>\n",
       "      <td>1.378405</td>\n",
       "    </tr>\n",
       "    <tr>\n",
       "      <th>50%</th>\n",
       "      <td>0.697000</td>\n",
       "      <td>2.492806</td>\n",
       "    </tr>\n",
       "    <tr>\n",
       "      <th>75%</th>\n",
       "      <td>0.812000</td>\n",
       "      <td>4.768094</td>\n",
       "    </tr>\n",
       "    <tr>\n",
       "      <th>max</th>\n",
       "      <td>0.948000</td>\n",
       "      <td>15.653982</td>\n",
       "    </tr>\n",
       "  </tbody>\n",
       "</table>\n",
       "</div>"
      ],
      "text/plain": [
       "              hdi  EFConsPerCap\n",
       "count  345.000000    345.000000\n",
       "mean     0.667125      3.476903\n",
       "std      0.174083      2.854837\n",
       "min      0.255000      0.468001\n",
       "25%      0.501000      1.378405\n",
       "50%      0.697000      2.492806\n",
       "75%      0.812000      4.768094\n",
       "max      0.948000     15.653982"
      ]
     },
     "execution_count": 51,
     "metadata": {},
     "output_type": "execute_result"
    }
   ],
   "source": [
    "valid_set.describe()"
   ]
  },
  {
   "cell_type": "code",
   "execution_count": 22,
   "metadata": {},
   "outputs": [
    {
     "data": {
      "text/plain": [
       "stasiun     0\n",
       "pm10        0\n",
       "pm25        0\n",
       "so2         0\n",
       "co          0\n",
       "o3          0\n",
       "no2         0\n",
       "categori    0\n",
       "dtype: int64"
      ]
     },
     "execution_count": 22,
     "metadata": {},
     "output_type": "execute_result"
    }
   ],
   "source": [
    "valid_set.isnull().sum()"
   ]
  },
  {
   "cell_type": "code",
   "execution_count": 23,
   "metadata": {},
   "outputs": [],
   "source": [
    "valid_set = nan_detector(valid_set)"
   ]
  },
  {
   "cell_type": "code",
   "execution_count": 24,
   "metadata": {},
   "outputs": [
    {
     "data": {
      "text/plain": [
       "stasiun      0\n",
       "pm10         9\n",
       "pm25        13\n",
       "so2         15\n",
       "co           3\n",
       "o3           3\n",
       "no2          4\n",
       "categori     0\n",
       "dtype: int64"
      ]
     },
     "execution_count": 24,
     "metadata": {},
     "output_type": "execute_result"
    }
   ],
   "source": [
    "valid_set.isnull().sum()"
   ]
  },
  {
   "cell_type": "code",
   "execution_count": null,
   "metadata": {},
   "outputs": [],
   "source": []
  },
  {
   "cell_type": "markdown",
   "metadata": {},
   "source": [
    "#### 4.1.3. Test Set"
   ]
  },
  {
   "cell_type": "code",
   "execution_count": 25,
   "metadata": {},
   "outputs": [
    {
     "data": {
      "text/html": [
       "<div>\n",
       "<style scoped>\n",
       "    .dataframe tbody tr th:only-of-type {\n",
       "        vertical-align: middle;\n",
       "    }\n",
       "\n",
       "    .dataframe tbody tr th {\n",
       "        vertical-align: top;\n",
       "    }\n",
       "\n",
       "    .dataframe thead th {\n",
       "        text-align: right;\n",
       "    }\n",
       "</style>\n",
       "<table border=\"1\" class=\"dataframe\">\n",
       "  <thead>\n",
       "    <tr style=\"text-align: right;\">\n",
       "      <th></th>\n",
       "      <th>pm10</th>\n",
       "      <th>pm25</th>\n",
       "      <th>so2</th>\n",
       "      <th>co</th>\n",
       "      <th>o3</th>\n",
       "      <th>no2</th>\n",
       "    </tr>\n",
       "  </thead>\n",
       "  <tbody>\n",
       "    <tr>\n",
       "      <th>count</th>\n",
       "      <td>272.000000</td>\n",
       "      <td>272.000000</td>\n",
       "      <td>272.000000</td>\n",
       "      <td>272.000000</td>\n",
       "      <td>272.000000</td>\n",
       "      <td>272.000000</td>\n",
       "    </tr>\n",
       "    <tr>\n",
       "      <th>mean</th>\n",
       "      <td>51.121324</td>\n",
       "      <td>73.444853</td>\n",
       "      <td>32.360294</td>\n",
       "      <td>11.816176</td>\n",
       "      <td>31.194853</td>\n",
       "      <td>18.669118</td>\n",
       "    </tr>\n",
       "    <tr>\n",
       "      <th>std</th>\n",
       "      <td>18.589466</td>\n",
       "      <td>29.945903</td>\n",
       "      <td>14.567148</td>\n",
       "      <td>5.170456</td>\n",
       "      <td>16.550122</td>\n",
       "      <td>8.879725</td>\n",
       "    </tr>\n",
       "    <tr>\n",
       "      <th>min</th>\n",
       "      <td>-1.000000</td>\n",
       "      <td>-1.000000</td>\n",
       "      <td>-1.000000</td>\n",
       "      <td>-1.000000</td>\n",
       "      <td>-1.000000</td>\n",
       "      <td>-1.000000</td>\n",
       "    </tr>\n",
       "    <tr>\n",
       "      <th>25%</th>\n",
       "      <td>40.000000</td>\n",
       "      <td>59.000000</td>\n",
       "      <td>23.000000</td>\n",
       "      <td>9.000000</td>\n",
       "      <td>21.000000</td>\n",
       "      <td>13.000000</td>\n",
       "    </tr>\n",
       "    <tr>\n",
       "      <th>50%</th>\n",
       "      <td>54.000000</td>\n",
       "      <td>76.000000</td>\n",
       "      <td>32.000000</td>\n",
       "      <td>11.000000</td>\n",
       "      <td>28.000000</td>\n",
       "      <td>18.000000</td>\n",
       "    </tr>\n",
       "    <tr>\n",
       "      <th>75%</th>\n",
       "      <td>61.000000</td>\n",
       "      <td>91.000000</td>\n",
       "      <td>43.000000</td>\n",
       "      <td>14.000000</td>\n",
       "      <td>38.250000</td>\n",
       "      <td>24.000000</td>\n",
       "    </tr>\n",
       "    <tr>\n",
       "      <th>max</th>\n",
       "      <td>179.000000</td>\n",
       "      <td>150.000000</td>\n",
       "      <td>64.000000</td>\n",
       "      <td>44.000000</td>\n",
       "      <td>93.000000</td>\n",
       "      <td>49.000000</td>\n",
       "    </tr>\n",
       "  </tbody>\n",
       "</table>\n",
       "</div>"
      ],
      "text/plain": [
       "             pm10        pm25         so2          co          o3         no2\n",
       "count  272.000000  272.000000  272.000000  272.000000  272.000000  272.000000\n",
       "mean    51.121324   73.444853   32.360294   11.816176   31.194853   18.669118\n",
       "std     18.589466   29.945903   14.567148    5.170456   16.550122    8.879725\n",
       "min     -1.000000   -1.000000   -1.000000   -1.000000   -1.000000   -1.000000\n",
       "25%     40.000000   59.000000   23.000000    9.000000   21.000000   13.000000\n",
       "50%     54.000000   76.000000   32.000000   11.000000   28.000000   18.000000\n",
       "75%     61.000000   91.000000   43.000000   14.000000   38.250000   24.000000\n",
       "max    179.000000  150.000000   64.000000   44.000000   93.000000   49.000000"
      ]
     },
     "execution_count": 25,
     "metadata": {},
     "output_type": "execute_result"
    }
   ],
   "source": [
    "test_set.describe()"
   ]
  },
  {
   "cell_type": "code",
   "execution_count": 26,
   "metadata": {},
   "outputs": [
    {
     "data": {
      "text/plain": [
       "stasiun     0\n",
       "pm10        0\n",
       "pm25        0\n",
       "so2         0\n",
       "co          0\n",
       "o3          0\n",
       "no2         0\n",
       "categori    0\n",
       "dtype: int64"
      ]
     },
     "execution_count": 26,
     "metadata": {},
     "output_type": "execute_result"
    }
   ],
   "source": [
    "test_set.isnull().sum()"
   ]
  },
  {
   "cell_type": "code",
   "execution_count": 27,
   "metadata": {},
   "outputs": [],
   "source": [
    "test_set = nan_detector(test_set)"
   ]
  },
  {
   "cell_type": "code",
   "execution_count": 28,
   "metadata": {},
   "outputs": [
    {
     "data": {
      "text/plain": [
       "stasiun      0\n",
       "pm10         9\n",
       "pm25        18\n",
       "so2         14\n",
       "co           3\n",
       "o3          10\n",
       "no2          6\n",
       "categori     0\n",
       "dtype: int64"
      ]
     },
     "execution_count": 28,
     "metadata": {},
     "output_type": "execute_result"
    }
   ],
   "source": [
    "test_set.isnull().sum()"
   ]
  },
  {
   "cell_type": "code",
   "execution_count": null,
   "metadata": {},
   "outputs": [],
   "source": []
  },
  {
   "cell_type": "markdown",
   "metadata": {},
   "source": [
    "### 4.2. Handling in PM10"
   ]
  },
  {
   "cell_type": "markdown",
   "metadata": {},
   "source": [
    "#### 4.2.1. Train Set"
   ]
  },
  {
   "cell_type": "code",
   "execution_count": 29,
   "metadata": {},
   "outputs": [],
   "source": [
    "# Extract mean value from pm10 by target label\n",
    "impute_1 = int(train_set[train_set.categori == \"BAIK\"].pm10.mean())\n",
    "impute_0 = int(train_set[train_set.categori == \"TIDAK BAIK\"].pm10.mean())"
   ]
  },
  {
   "cell_type": "code",
   "execution_count": 30,
   "metadata": {},
   "outputs": [
    {
     "data": {
      "text/plain": [
       "(28, 55)"
      ]
     },
     "execution_count": 30,
     "metadata": {},
     "output_type": "execute_result"
    }
   ],
   "source": [
    "# Check the value\n",
    "impute_1, impute_0"
   ]
  },
  {
   "cell_type": "code",
   "execution_count": 31,
   "metadata": {},
   "outputs": [
    {
     "data": {
      "text/plain": [
       "(5, 30)"
      ]
     },
     "execution_count": 31,
     "metadata": {},
     "output_type": "execute_result"
    }
   ],
   "source": [
    "# Check number of null value\n",
    "train_set[train_set.categori == \"BAIK\"].pm10.isnull().sum(), train_set[train_set.categori == \"TIDAK BAIK\"].pm10.isnull().sum()"
   ]
  },
  {
   "cell_type": "code",
   "execution_count": 32,
   "metadata": {},
   "outputs": [],
   "source": [
    "# Replace NaN\n",
    "train_set.loc[train_set[(train_set.categori == \"BAIK\") & (train_set.pm10.isnull() == True)].index, \"pm10\"] = impute_1\n",
    "train_set.loc[train_set[(train_set.categori == \"TIDAK BAIK\") & (train_set.pm10.isnull() == True)].index, \"pm10\"] = impute_0"
   ]
  },
  {
   "cell_type": "code",
   "execution_count": 33,
   "metadata": {},
   "outputs": [
    {
     "data": {
      "text/plain": [
       "(0, 0)"
      ]
     },
     "execution_count": 33,
     "metadata": {},
     "output_type": "execute_result"
    }
   ],
   "source": [
    "# Check number of null value after imputation\n",
    "train_set[train_set.categori == \"BAIK\"].pm10.isnull().sum(), train_set[train_set.categori == \"TIDAK BAIK\"].pm10.isnull().sum()"
   ]
  },
  {
   "cell_type": "code",
   "execution_count": null,
   "metadata": {},
   "outputs": [],
   "source": []
  },
  {
   "cell_type": "markdown",
   "metadata": {},
   "source": [
    "#### 4.2.2. Valid Set"
   ]
  },
  {
   "cell_type": "code",
   "execution_count": 34,
   "metadata": {},
   "outputs": [
    {
     "data": {
      "text/plain": [
       "(2, 7)"
      ]
     },
     "execution_count": 34,
     "metadata": {},
     "output_type": "execute_result"
    }
   ],
   "source": [
    "valid_set[valid_set.categori == \"BAIK\"].pm10.isnull().sum(), valid_set[valid_set.categori == \"TIDAK BAIK\"].pm10.isnull().sum()"
   ]
  },
  {
   "cell_type": "code",
   "execution_count": 35,
   "metadata": {},
   "outputs": [],
   "source": [
    "valid_set.loc[valid_set[(valid_set.categori == \"BAIK\") & (valid_set.pm10.isnull() == True)].index, \"pm10\"] = impute_1\n",
    "valid_set.loc[valid_set[(valid_set.categori == \"TIDAK BAIK\") & (valid_set.pm10.isnull() == True)].index, \"pm10\"] = impute_0"
   ]
  },
  {
   "cell_type": "code",
   "execution_count": 36,
   "metadata": {},
   "outputs": [
    {
     "data": {
      "text/plain": [
       "(0, 0)"
      ]
     },
     "execution_count": 36,
     "metadata": {},
     "output_type": "execute_result"
    }
   ],
   "source": [
    "valid_set[valid_set.categori == \"BAIK\"].pm10.isnull().sum(), valid_set[valid_set.categori == \"TIDAK BAIK\"].pm10.isnull().sum()"
   ]
  },
  {
   "cell_type": "code",
   "execution_count": null,
   "metadata": {},
   "outputs": [],
   "source": []
  },
  {
   "cell_type": "markdown",
   "metadata": {},
   "source": [
    "#### 4.2.3. Test Set"
   ]
  },
  {
   "cell_type": "code",
   "execution_count": 37,
   "metadata": {},
   "outputs": [
    {
     "data": {
      "text/plain": [
       "(3, 6)"
      ]
     },
     "execution_count": 37,
     "metadata": {},
     "output_type": "execute_result"
    }
   ],
   "source": [
    "test_set[test_set.categori == \"BAIK\"].pm10.isnull().sum(), test_set[test_set.categori == \"TIDAK BAIK\"].pm10.isnull().sum()"
   ]
  },
  {
   "cell_type": "code",
   "execution_count": 38,
   "metadata": {},
   "outputs": [],
   "source": [
    "test_set.loc[test_set[(test_set.categori == \"BAIK\") & (test_set.pm10.isnull() == True)].index, \"pm10\"] = impute_1\n",
    "test_set.loc[test_set[(test_set.categori == \"TIDAK BAIK\") & (test_set.pm10.isnull() == True)].index, \"pm10\"] = impute_0"
   ]
  },
  {
   "cell_type": "code",
   "execution_count": 39,
   "metadata": {},
   "outputs": [
    {
     "data": {
      "text/plain": [
       "(0, 0)"
      ]
     },
     "execution_count": 39,
     "metadata": {},
     "output_type": "execute_result"
    }
   ],
   "source": [
    "test_set[test_set.categori == \"BAIK\"].pm10.isnull().sum(), test_set[test_set.categori == \"TIDAK BAIK\"].pm10.isnull().sum()"
   ]
  },
  {
   "cell_type": "code",
   "execution_count": null,
   "metadata": {},
   "outputs": [],
   "source": []
  },
  {
   "cell_type": "markdown",
   "metadata": {},
   "source": [
    "### 5.3. Handling in PM25"
   ]
  },
  {
   "cell_type": "markdown",
   "metadata": {},
   "source": [
    "#### 5.3.1. Train Set"
   ]
  },
  {
   "cell_type": "code",
   "execution_count": 40,
   "metadata": {},
   "outputs": [],
   "source": [
    "impute_1 = int(train_set[train_set.categori == \"BAIK\"].pm25.mean())\n",
    "impute_0 = int(train_set[train_set.categori == \"TIDAK BAIK\"].pm25.mean())"
   ]
  },
  {
   "cell_type": "code",
   "execution_count": 41,
   "metadata": {},
   "outputs": [
    {
     "data": {
      "text/plain": [
       "(38, 82)"
      ]
     },
     "execution_count": 41,
     "metadata": {},
     "output_type": "execute_result"
    }
   ],
   "source": [
    "impute_1, impute_0"
   ]
  },
  {
   "cell_type": "code",
   "execution_count": 42,
   "metadata": {},
   "outputs": [
    {
     "data": {
      "text/plain": [
       "(35, 20)"
      ]
     },
     "execution_count": 42,
     "metadata": {},
     "output_type": "execute_result"
    }
   ],
   "source": [
    "train_set[train_set.categori == \"BAIK\"].pm25.isnull().sum(), train_set[train_set.categori == \"TIDAK BAIK\"].pm25.isnull().sum()"
   ]
  },
  {
   "cell_type": "code",
   "execution_count": 43,
   "metadata": {},
   "outputs": [],
   "source": [
    "train_set.loc[train_set[(train_set.categori == \"BAIK\") & (train_set.pm25.isnull() == True)].index, \"pm25\"] = impute_1\n",
    "train_set.loc[train_set[(train_set.categori == \"TIDAK BAIK\") & (train_set.pm25.isnull() == True)].index, \"pm25\"] = impute_0"
   ]
  },
  {
   "cell_type": "code",
   "execution_count": 44,
   "metadata": {},
   "outputs": [
    {
     "data": {
      "text/plain": [
       "(0, 0)"
      ]
     },
     "execution_count": 44,
     "metadata": {},
     "output_type": "execute_result"
    }
   ],
   "source": [
    "train_set[train_set.categori == \"BAIK\"].pm10.isnull().sum(), train_set[train_set.categori == \"TIDAK BAIK\"].pm10.isnull().sum()"
   ]
  },
  {
   "cell_type": "code",
   "execution_count": null,
   "metadata": {},
   "outputs": [],
   "source": []
  },
  {
   "cell_type": "markdown",
   "metadata": {},
   "source": [
    "#### 5.3.2. Valid Set"
   ]
  },
  {
   "cell_type": "code",
   "execution_count": 45,
   "metadata": {},
   "outputs": [
    {
     "data": {
      "text/plain": [
       "(5, 8)"
      ]
     },
     "execution_count": 45,
     "metadata": {},
     "output_type": "execute_result"
    }
   ],
   "source": [
    "valid_set[valid_set.categori == \"BAIK\"].pm25.isnull().sum(), valid_set[valid_set.categori == \"TIDAK BAIK\"].pm25.isnull().sum()"
   ]
  },
  {
   "cell_type": "code",
   "execution_count": 46,
   "metadata": {},
   "outputs": [],
   "source": [
    "valid_set.loc[valid_set[(valid_set.categori == \"BAIK\") & (valid_set.pm25.isnull() == True)].index, \"pm25\"] = impute_1\n",
    "valid_set.loc[valid_set[(valid_set.categori == \"TIDAK BAIK\") & (valid_set.pm25.isnull() == True)].index, \"pm25\"] = impute_0"
   ]
  },
  {
   "cell_type": "code",
   "execution_count": 47,
   "metadata": {},
   "outputs": [
    {
     "data": {
      "text/plain": [
       "(0, 0)"
      ]
     },
     "execution_count": 47,
     "metadata": {},
     "output_type": "execute_result"
    }
   ],
   "source": [
    "valid_set[valid_set.categori == \"BAIK\"].pm25.isnull().sum(), valid_set[valid_set.categori == \"TIDAK BAIK\"].pm25.isnull().sum()"
   ]
  },
  {
   "cell_type": "code",
   "execution_count": null,
   "metadata": {},
   "outputs": [],
   "source": []
  },
  {
   "cell_type": "markdown",
   "metadata": {},
   "source": [
    "#### 5.3.3. Test Set"
   ]
  },
  {
   "cell_type": "code",
   "execution_count": 48,
   "metadata": {},
   "outputs": [
    {
     "data": {
      "text/plain": [
       "(10, 8)"
      ]
     },
     "execution_count": 48,
     "metadata": {},
     "output_type": "execute_result"
    }
   ],
   "source": [
    "test_set[test_set.categori == \"BAIK\"].pm25.isnull().sum(), test_set[test_set.categori == \"TIDAK BAIK\"].pm25.isnull().sum()"
   ]
  },
  {
   "cell_type": "code",
   "execution_count": 49,
   "metadata": {},
   "outputs": [],
   "source": [
    "test_set.loc[test_set[(test_set.categori == \"BAIK\") & (test_set.pm25.isnull() == True)].index, \"pm25\"] = impute_1\n",
    "test_set.loc[test_set[(test_set.categori == \"TIDAK BAIK\") & (test_set.pm25.isnull() == True)].index, \"pm25\"] = impute_0"
   ]
  },
  {
   "cell_type": "code",
   "execution_count": 50,
   "metadata": {},
   "outputs": [
    {
     "data": {
      "text/plain": [
       "(0, 0)"
      ]
     },
     "execution_count": 50,
     "metadata": {},
     "output_type": "execute_result"
    }
   ],
   "source": [
    "test_set[test_set.categori == \"BAIK\"].pm10.isnull().sum(), test_set[test_set.categori == \"TIDAK BAIK\"].pm10.isnull().sum()"
   ]
  },
  {
   "cell_type": "code",
   "execution_count": null,
   "metadata": {},
   "outputs": [],
   "source": []
  },
  {
   "cell_type": "markdown",
   "metadata": {},
   "source": [
    "### 5.4. Handling in SO2, CO, O3, dan NO2"
   ]
  },
  {
   "cell_type": "markdown",
   "metadata": {},
   "source": [
    "#### 5.4.1. Train Set"
   ]
  },
  {
   "cell_type": "code",
   "execution_count": 51,
   "metadata": {},
   "outputs": [],
   "source": [
    "impute_so2 = int(train_set.so2.mean())\n",
    "impute_co = int(train_set.co.median())\n",
    "impute_o3 = int(train_set.o3.median())\n",
    "impute_no2 = int(train_set.no2.median())\n"
   ]
  },
  {
   "cell_type": "code",
   "execution_count": 52,
   "metadata": {},
   "outputs": [
    {
     "data": {
      "text/plain": [
       "{'so2': 35, 'co': 11, 'o3': 29, 'no2': 18}"
      ]
     },
     "execution_count": 52,
     "metadata": {},
     "output_type": "execute_result"
    }
   ],
   "source": [
    "impute_values = {\"so2\" : impute_so2, \"co\" : impute_co, \"o3\" : impute_o3, \"no2\" : impute_no2}\n",
    "impute_values"
   ]
  },
  {
   "cell_type": "code",
   "execution_count": 53,
   "metadata": {},
   "outputs": [
    {
     "data": {
      "text/plain": [
       "stasiun      0\n",
       "pm10         0\n",
       "pm25         0\n",
       "so2         68\n",
       "co          10\n",
       "o3          35\n",
       "no2          9\n",
       "categori     0\n",
       "dtype: int64"
      ]
     },
     "execution_count": 53,
     "metadata": {},
     "output_type": "execute_result"
    }
   ],
   "source": [
    "train_set.isnull().sum()"
   ]
  },
  {
   "cell_type": "code",
   "execution_count": 54,
   "metadata": {},
   "outputs": [],
   "source": [
    "train_set.fillna(value = impute_values, inplace = True)"
   ]
  },
  {
   "cell_type": "code",
   "execution_count": 55,
   "metadata": {},
   "outputs": [
    {
     "data": {
      "text/plain": [
       "stasiun     0\n",
       "pm10        0\n",
       "pm25        0\n",
       "so2         0\n",
       "co          0\n",
       "o3          0\n",
       "no2         0\n",
       "categori    0\n",
       "dtype: int64"
      ]
     },
     "execution_count": 55,
     "metadata": {},
     "output_type": "execute_result"
    }
   ],
   "source": [
    "train_set.isnull().sum()"
   ]
  },
  {
   "cell_type": "code",
   "execution_count": null,
   "metadata": {},
   "outputs": [],
   "source": []
  },
  {
   "cell_type": "markdown",
   "metadata": {},
   "source": [
    "#### 5.4.2. Valid Set"
   ]
  },
  {
   "cell_type": "code",
   "execution_count": 56,
   "metadata": {},
   "outputs": [
    {
     "data": {
      "text/plain": [
       "stasiun      0\n",
       "pm10         0\n",
       "pm25         0\n",
       "so2         15\n",
       "co           3\n",
       "o3           3\n",
       "no2          4\n",
       "categori     0\n",
       "dtype: int64"
      ]
     },
     "execution_count": 56,
     "metadata": {},
     "output_type": "execute_result"
    }
   ],
   "source": [
    "valid_set.isnull().sum()"
   ]
  },
  {
   "cell_type": "code",
   "execution_count": 57,
   "metadata": {},
   "outputs": [],
   "source": [
    "valid_set.fillna(value = impute_values, inplace = True)"
   ]
  },
  {
   "cell_type": "code",
   "execution_count": 58,
   "metadata": {},
   "outputs": [
    {
     "data": {
      "text/plain": [
       "stasiun     0\n",
       "pm10        0\n",
       "pm25        0\n",
       "so2         0\n",
       "co          0\n",
       "o3          0\n",
       "no2         0\n",
       "categori    0\n",
       "dtype: int64"
      ]
     },
     "execution_count": 58,
     "metadata": {},
     "output_type": "execute_result"
    }
   ],
   "source": [
    "valid_set.isnull().sum()"
   ]
  },
  {
   "cell_type": "code",
   "execution_count": null,
   "metadata": {},
   "outputs": [],
   "source": []
  },
  {
   "cell_type": "markdown",
   "metadata": {},
   "source": [
    "#### 5.4.3. Test Set"
   ]
  },
  {
   "cell_type": "code",
   "execution_count": 59,
   "metadata": {},
   "outputs": [
    {
     "data": {
      "text/plain": [
       "stasiun      0\n",
       "pm10         0\n",
       "pm25         0\n",
       "so2         14\n",
       "co           3\n",
       "o3          10\n",
       "no2          6\n",
       "categori     0\n",
       "dtype: int64"
      ]
     },
     "execution_count": 59,
     "metadata": {},
     "output_type": "execute_result"
    }
   ],
   "source": [
    "test_set.isnull().sum()"
   ]
  },
  {
   "cell_type": "code",
   "execution_count": 60,
   "metadata": {},
   "outputs": [],
   "source": [
    "test_set.fillna(value = impute_values, inplace = True)"
   ]
  },
  {
   "cell_type": "code",
   "execution_count": 61,
   "metadata": {},
   "outputs": [
    {
     "data": {
      "text/plain": [
       "stasiun     0\n",
       "pm10        0\n",
       "pm25        0\n",
       "so2         0\n",
       "co          0\n",
       "o3          0\n",
       "no2         0\n",
       "categori    0\n",
       "dtype: int64"
      ]
     },
     "execution_count": 61,
     "metadata": {},
     "output_type": "execute_result"
    }
   ],
   "source": [
    "test_set.isnull().sum()"
   ]
  },
  {
   "cell_type": "code",
   "execution_count": null,
   "metadata": {},
   "outputs": [],
   "source": []
  },
  {
   "cell_type": "code",
   "execution_count": null,
   "metadata": {},
   "outputs": [],
   "source": []
  },
  {
   "cell_type": "markdown",
   "metadata": {},
   "source": [
    "## 5. Encoding Stasiun"
   ]
  },
  {
   "cell_type": "markdown",
   "metadata": {},
   "source": [
    "### 5.1. Prepare Replacement for Columns Name"
   ]
  },
  {
   "cell_type": "code",
   "execution_count": 62,
   "metadata": {},
   "outputs": [],
   "source": [
    "# # Create mapping dict for replacement\n",
    "#replacement_stasiun = dict(zip(list(config_data[\"range_continent\"]), list(config_data[\"range_stasiun_str\"])))"
   ]
  },
  {
   "cell_type": "code",
   "execution_count": 63,
   "metadata": {},
   "outputs": [],
   "source": [
    "# # Replacing data\n",
    "# train_set.stasiun = train_set.stasiun.map(replacement_stasiun)\n",
    "# valid_set.stasiun = valid_set.stasiun.map(replacement_stasiun)\n",
    "# test_set.stasiun = test_set.stasiun.map(replacement_stasiun)"
   ]
  },
  {
   "cell_type": "markdown",
   "metadata": {},
   "source": [
    "### 5.1. Fit OHE to Stasiun Data"
   ]
  },
  {
   "cell_type": "code",
   "execution_count": 104,
   "metadata": {},
   "outputs": [],
   "source": [
    "def ohe_fit(data_tobe_fitted: dict, ohe_path: str) -> OneHotEncoder:\n",
    "    # Create ohe object\n",
    "    ohe_continent = OneHotEncoder(sparse = False)\n",
    "\n",
    "    # Fit ohe\n",
    "    ohe_continent.fit(np.array(data_tobe_fitted).reshape(-1, 1))\n",
    "\n",
    "    # Save ohe object\n",
    "    util.pickle_dump(ohe_continent, ohe_path)\n",
    "\n",
    "    # Return trained ohe\n",
    "    return ohe_continent"
   ]
  },
  {
   "cell_type": "code",
   "execution_count": 106,
   "metadata": {},
   "outputs": [],
   "source": [
    "def ohe_transform(set_data: pd.DataFrame, tranformed_column: str, ohe_path: str) -> pd.DataFrame:\n",
    "    # Create copy of set data\n",
    "    set_data = set_data.copy()\n",
    "\n",
    "    # Load ohe stasiun\n",
    "    ohe_continent = util.pickle_load(ohe_path)\n",
    "\n",
    "    # Transform variable stasiun of set data, resulting array\n",
    "    continent_features = ohe_continent.transform(np.array(set_data[tranformed_column].to_list()).reshape(-1, 1))\n",
    "\n",
    "    # Convert to dataframe\n",
    "    continent_features = pd.DataFrame(continent_features.tolist(), columns = list(ohe_continent.categories_[0]))\n",
    "\n",
    "    # Set index by original set data index\n",
    "    continent_features.set_index(set_data.index, inplace = True)\n",
    "\n",
    "    # Concatenate new features with original set data\n",
    "    set_data = pd.concat([continent_features, set_data], axis = 1)\n",
    "\n",
    "    # Drop stasiun column\n",
    "    #set_data.drop(columns = \"continent\", inplace = True)\n",
    "\n",
    "    # Convert columns type to string\n",
    "    new_col = [str(col_name) for col_name in set_data.columns.to_list()]\n",
    "    set_data.columns = new_col\n",
    "\n",
    "    # Return new feature engineered set data\n",
    "    return set_data"
   ]
  },
  {
   "cell_type": "code",
   "execution_count": null,
   "metadata": {},
   "outputs": [],
   "source": []
  },
  {
   "cell_type": "code",
   "execution_count": 107,
   "metadata": {},
   "outputs": [],
   "source": [
    "ohe_continent = ohe_fit(config_data[\"range_continent\"], config_data[\"ohe_continent_path\"])"
   ]
  },
  {
   "cell_type": "markdown",
   "metadata": {},
   "source": [
    "### 5.2. Train Set"
   ]
  },
  {
   "cell_type": "code",
   "execution_count": 108,
   "metadata": {},
   "outputs": [],
   "source": [
    "train_set = ohe_transform(train_set, \"continent\", config_data[\"ohe_continent_path\"])"
   ]
  },
  {
   "cell_type": "code",
   "execution_count": 109,
   "metadata": {},
   "outputs": [
    {
     "data": {
      "text/html": [
       "<div>\n",
       "<style scoped>\n",
       "    .dataframe tbody tr th:only-of-type {\n",
       "        vertical-align: middle;\n",
       "    }\n",
       "\n",
       "    .dataframe tbody tr th {\n",
       "        vertical-align: top;\n",
       "    }\n",
       "\n",
       "    .dataframe thead th {\n",
       "        text-align: right;\n",
       "    }\n",
       "</style>\n",
       "<table border=\"1\" class=\"dataframe\">\n",
       "  <thead>\n",
       "    <tr style=\"text-align: right;\">\n",
       "      <th></th>\n",
       "      <th>Africa</th>\n",
       "      <th>Asia</th>\n",
       "      <th>Europe</th>\n",
       "      <th>North America</th>\n",
       "      <th>Oceania</th>\n",
       "      <th>South America</th>\n",
       "      <th>hdi</th>\n",
       "      <th>continent</th>\n",
       "      <th>EFConsPerCap</th>\n",
       "    </tr>\n",
       "  </thead>\n",
       "  <tbody>\n",
       "    <tr>\n",
       "      <th>471</th>\n",
       "      <td>1.0</td>\n",
       "      <td>0.0</td>\n",
       "      <td>0.0</td>\n",
       "      <td>0.0</td>\n",
       "      <td>0.0</td>\n",
       "      <td>0.0</td>\n",
       "      <td>0.413</td>\n",
       "      <td>Africa</td>\n",
       "      <td>1.055530</td>\n",
       "    </tr>\n",
       "    <tr>\n",
       "      <th>925</th>\n",
       "      <td>0.0</td>\n",
       "      <td>0.0</td>\n",
       "      <td>1.0</td>\n",
       "      <td>0.0</td>\n",
       "      <td>0.0</td>\n",
       "      <td>0.0</td>\n",
       "      <td>0.910</td>\n",
       "      <td>Europe</td>\n",
       "      <td>4.602575</td>\n",
       "    </tr>\n",
       "    <tr>\n",
       "      <th>322</th>\n",
       "      <td>1.0</td>\n",
       "      <td>0.0</td>\n",
       "      <td>0.0</td>\n",
       "      <td>0.0</td>\n",
       "      <td>0.0</td>\n",
       "      <td>0.0</td>\n",
       "      <td>0.456</td>\n",
       "      <td>Africa</td>\n",
       "      <td>1.065831</td>\n",
       "    </tr>\n",
       "    <tr>\n",
       "      <th>168</th>\n",
       "      <td>0.0</td>\n",
       "      <td>0.0</td>\n",
       "      <td>0.0</td>\n",
       "      <td>1.0</td>\n",
       "      <td>0.0</td>\n",
       "      <td>0.0</td>\n",
       "      <td>0.757</td>\n",
       "      <td>North America</td>\n",
       "      <td>4.614050</td>\n",
       "    </tr>\n",
       "    <tr>\n",
       "      <th>1170</th>\n",
       "      <td>1.0</td>\n",
       "      <td>0.0</td>\n",
       "      <td>0.0</td>\n",
       "      <td>0.0</td>\n",
       "      <td>0.0</td>\n",
       "      <td>0.0</td>\n",
       "      <td>0.366</td>\n",
       "      <td>Africa</td>\n",
       "      <td>0.738863</td>\n",
       "    </tr>\n",
       "    <tr>\n",
       "      <th>...</th>\n",
       "      <td>...</td>\n",
       "      <td>...</td>\n",
       "      <td>...</td>\n",
       "      <td>...</td>\n",
       "      <td>...</td>\n",
       "      <td>...</td>\n",
       "      <td>...</td>\n",
       "      <td>...</td>\n",
       "      <td>...</td>\n",
       "    </tr>\n",
       "    <tr>\n",
       "      <th>183</th>\n",
       "      <td>0.0</td>\n",
       "      <td>0.0</td>\n",
       "      <td>1.0</td>\n",
       "      <td>0.0</td>\n",
       "      <td>0.0</td>\n",
       "      <td>0.0</td>\n",
       "      <td>0.703</td>\n",
       "      <td>Europe</td>\n",
       "      <td>3.957488</td>\n",
       "    </tr>\n",
       "    <tr>\n",
       "      <th>783</th>\n",
       "      <td>0.0</td>\n",
       "      <td>0.0</td>\n",
       "      <td>0.0</td>\n",
       "      <td>1.0</td>\n",
       "      <td>0.0</td>\n",
       "      <td>0.0</td>\n",
       "      <td>0.578</td>\n",
       "      <td>North America</td>\n",
       "      <td>1.763312</td>\n",
       "    </tr>\n",
       "    <tr>\n",
       "      <th>1422</th>\n",
       "      <td>0.0</td>\n",
       "      <td>0.0</td>\n",
       "      <td>0.0</td>\n",
       "      <td>1.0</td>\n",
       "      <td>0.0</td>\n",
       "      <td>0.0</td>\n",
       "      <td>0.577</td>\n",
       "      <td>North America</td>\n",
       "      <td>1.709146</td>\n",
       "    </tr>\n",
       "    <tr>\n",
       "      <th>1993</th>\n",
       "      <td>0.0</td>\n",
       "      <td>0.0</td>\n",
       "      <td>1.0</td>\n",
       "      <td>0.0</td>\n",
       "      <td>0.0</td>\n",
       "      <td>0.0</td>\n",
       "      <td>0.658</td>\n",
       "      <td>Europe</td>\n",
       "      <td>2.339436</td>\n",
       "    </tr>\n",
       "    <tr>\n",
       "      <th>1168</th>\n",
       "      <td>1.0</td>\n",
       "      <td>0.0</td>\n",
       "      <td>0.0</td>\n",
       "      <td>0.0</td>\n",
       "      <td>0.0</td>\n",
       "      <td>0.0</td>\n",
       "      <td>0.388</td>\n",
       "      <td>Africa</td>\n",
       "      <td>0.776107</td>\n",
       "    </tr>\n",
       "  </tbody>\n",
       "</table>\n",
       "<p>1725 rows × 9 columns</p>\n",
       "</div>"
      ],
      "text/plain": [
       "      Africa  Asia  Europe  North America  Oceania  South America    hdi  \\\n",
       "471      1.0   0.0     0.0            0.0      0.0            0.0  0.413   \n",
       "925      0.0   0.0     1.0            0.0      0.0            0.0  0.910   \n",
       "322      1.0   0.0     0.0            0.0      0.0            0.0  0.456   \n",
       "168      0.0   0.0     0.0            1.0      0.0            0.0  0.757   \n",
       "1170     1.0   0.0     0.0            0.0      0.0            0.0  0.366   \n",
       "...      ...   ...     ...            ...      ...            ...    ...   \n",
       "183      0.0   0.0     1.0            0.0      0.0            0.0  0.703   \n",
       "783      0.0   0.0     0.0            1.0      0.0            0.0  0.578   \n",
       "1422     0.0   0.0     0.0            1.0      0.0            0.0  0.577   \n",
       "1993     0.0   0.0     1.0            0.0      0.0            0.0  0.658   \n",
       "1168     1.0   0.0     0.0            0.0      0.0            0.0  0.388   \n",
       "\n",
       "          continent  EFConsPerCap  \n",
       "471          Africa      1.055530  \n",
       "925          Europe      4.602575  \n",
       "322          Africa      1.065831  \n",
       "168   North America      4.614050  \n",
       "1170         Africa      0.738863  \n",
       "...             ...           ...  \n",
       "183          Europe      3.957488  \n",
       "783   North America      1.763312  \n",
       "1422  North America      1.709146  \n",
       "1993         Europe      2.339436  \n",
       "1168         Africa      0.776107  \n",
       "\n",
       "[1725 rows x 9 columns]"
      ]
     },
     "execution_count": 109,
     "metadata": {},
     "output_type": "execute_result"
    }
   ],
   "source": [
    "train_set"
   ]
  },
  {
   "cell_type": "markdown",
   "metadata": {},
   "source": [
    "### 5.3. Valid Set"
   ]
  },
  {
   "cell_type": "code",
   "execution_count": 65,
   "metadata": {},
   "outputs": [],
   "source": [
    "valid_set = ohe_transform(valid_set, \"continent\", config_data[\"ohe_continent_path\"])"
   ]
  },
  {
   "cell_type": "markdown",
   "metadata": {},
   "source": [
    "### 5.4. Test Set"
   ]
  },
  {
   "cell_type": "code",
   "execution_count": 66,
   "metadata": {},
   "outputs": [],
   "source": [
    "test_set = ohe_transform(test_set, \"continent\", config_data[\"ohe_continent_path\"])"
   ]
  },
  {
   "cell_type": "markdown",
   "metadata": {},
   "source": [
    "## 6. Balancing Label"
   ]
  },
  {
   "cell_type": "code",
   "execution_count": 110,
   "metadata": {},
   "outputs": [
    {
     "data": {
      "text/plain": [
       "<Axes: xlabel='continent', ylabel='Count'>"
      ]
     },
     "execution_count": 110,
     "metadata": {},
     "output_type": "execute_result"
    },
    {
     "data": {
      "image/png": "[encoded data removed]",
      "text/plain": [
       "<Figure size 640x480 with 1 Axes>"
      ]
     },
     "metadata": {},
     "output_type": "display_data"
    }
   ],
   "source": [
    "sns.histplot(data = train_set, x = \"continent\", hue = \"continent\")"
   ]
  },
  {
   "cell_type": "code",
   "execution_count": 69,
   "metadata": {},
   "outputs": [
    {
     "data": {
      "text/html": [
       "<div>\n",
       "<style scoped>\n",
       "    .dataframe tbody tr th:only-of-type {\n",
       "        vertical-align: middle;\n",
       "    }\n",
       "\n",
       "    .dataframe tbody tr th {\n",
       "        vertical-align: top;\n",
       "    }\n",
       "\n",
       "    .dataframe thead th {\n",
       "        text-align: right;\n",
       "    }\n",
       "</style>\n",
       "<table border=\"1\" class=\"dataframe\">\n",
       "  <thead>\n",
       "    <tr style=\"text-align: right;\">\n",
       "      <th></th>\n",
       "      <th>Africa</th>\n",
       "      <th>Asia</th>\n",
       "      <th>Europe</th>\n",
       "      <th>North America</th>\n",
       "      <th>Oceania</th>\n",
       "      <th>South America</th>\n",
       "      <th>hdi</th>\n",
       "      <th>EFConsPerCap</th>\n",
       "    </tr>\n",
       "  </thead>\n",
       "  <tbody>\n",
       "    <tr>\n",
       "      <th>471</th>\n",
       "      <td>1.0</td>\n",
       "      <td>0.0</td>\n",
       "      <td>0.0</td>\n",
       "      <td>0.0</td>\n",
       "      <td>0.0</td>\n",
       "      <td>0.0</td>\n",
       "      <td>0.413</td>\n",
       "      <td>1.055530</td>\n",
       "    </tr>\n",
       "    <tr>\n",
       "      <th>925</th>\n",
       "      <td>0.0</td>\n",
       "      <td>0.0</td>\n",
       "      <td>1.0</td>\n",
       "      <td>0.0</td>\n",
       "      <td>0.0</td>\n",
       "      <td>0.0</td>\n",
       "      <td>0.910</td>\n",
       "      <td>4.602575</td>\n",
       "    </tr>\n",
       "    <tr>\n",
       "      <th>322</th>\n",
       "      <td>1.0</td>\n",
       "      <td>0.0</td>\n",
       "      <td>0.0</td>\n",
       "      <td>0.0</td>\n",
       "      <td>0.0</td>\n",
       "      <td>0.0</td>\n",
       "      <td>0.456</td>\n",
       "      <td>1.065831</td>\n",
       "    </tr>\n",
       "    <tr>\n",
       "      <th>168</th>\n",
       "      <td>0.0</td>\n",
       "      <td>0.0</td>\n",
       "      <td>0.0</td>\n",
       "      <td>1.0</td>\n",
       "      <td>0.0</td>\n",
       "      <td>0.0</td>\n",
       "      <td>0.757</td>\n",
       "      <td>4.614050</td>\n",
       "    </tr>\n",
       "    <tr>\n",
       "      <th>1170</th>\n",
       "      <td>1.0</td>\n",
       "      <td>0.0</td>\n",
       "      <td>0.0</td>\n",
       "      <td>0.0</td>\n",
       "      <td>0.0</td>\n",
       "      <td>0.0</td>\n",
       "      <td>0.366</td>\n",
       "      <td>0.738863</td>\n",
       "    </tr>\n",
       "    <tr>\n",
       "      <th>...</th>\n",
       "      <td>...</td>\n",
       "      <td>...</td>\n",
       "      <td>...</td>\n",
       "      <td>...</td>\n",
       "      <td>...</td>\n",
       "      <td>...</td>\n",
       "      <td>...</td>\n",
       "      <td>...</td>\n",
       "    </tr>\n",
       "    <tr>\n",
       "      <th>183</th>\n",
       "      <td>0.0</td>\n",
       "      <td>0.0</td>\n",
       "      <td>1.0</td>\n",
       "      <td>0.0</td>\n",
       "      <td>0.0</td>\n",
       "      <td>0.0</td>\n",
       "      <td>0.703</td>\n",
       "      <td>3.957488</td>\n",
       "    </tr>\n",
       "    <tr>\n",
       "      <th>783</th>\n",
       "      <td>0.0</td>\n",
       "      <td>0.0</td>\n",
       "      <td>0.0</td>\n",
       "      <td>1.0</td>\n",
       "      <td>0.0</td>\n",
       "      <td>0.0</td>\n",
       "      <td>0.578</td>\n",
       "      <td>1.763312</td>\n",
       "    </tr>\n",
       "    <tr>\n",
       "      <th>1422</th>\n",
       "      <td>0.0</td>\n",
       "      <td>0.0</td>\n",
       "      <td>0.0</td>\n",
       "      <td>1.0</td>\n",
       "      <td>0.0</td>\n",
       "      <td>0.0</td>\n",
       "      <td>0.577</td>\n",
       "      <td>1.709146</td>\n",
       "    </tr>\n",
       "    <tr>\n",
       "      <th>1993</th>\n",
       "      <td>0.0</td>\n",
       "      <td>0.0</td>\n",
       "      <td>1.0</td>\n",
       "      <td>0.0</td>\n",
       "      <td>0.0</td>\n",
       "      <td>0.0</td>\n",
       "      <td>0.658</td>\n",
       "      <td>2.339436</td>\n",
       "    </tr>\n",
       "    <tr>\n",
       "      <th>1168</th>\n",
       "      <td>1.0</td>\n",
       "      <td>0.0</td>\n",
       "      <td>0.0</td>\n",
       "      <td>0.0</td>\n",
       "      <td>0.0</td>\n",
       "      <td>0.0</td>\n",
       "      <td>0.388</td>\n",
       "      <td>0.776107</td>\n",
       "    </tr>\n",
       "  </tbody>\n",
       "</table>\n",
       "<p>1725 rows × 8 columns</p>\n",
       "</div>"
      ],
      "text/plain": [
       "      Africa  Asia  Europe  North America  Oceania  South America    hdi  \\\n",
       "471      1.0   0.0     0.0            0.0      0.0            0.0  0.413   \n",
       "925      0.0   0.0     1.0            0.0      0.0            0.0  0.910   \n",
       "322      1.0   0.0     0.0            0.0      0.0            0.0  0.456   \n",
       "168      0.0   0.0     0.0            1.0      0.0            0.0  0.757   \n",
       "1170     1.0   0.0     0.0            0.0      0.0            0.0  0.366   \n",
       "...      ...   ...     ...            ...      ...            ...    ...   \n",
       "183      0.0   0.0     1.0            0.0      0.0            0.0  0.703   \n",
       "783      0.0   0.0     0.0            1.0      0.0            0.0  0.578   \n",
       "1422     0.0   0.0     0.0            1.0      0.0            0.0  0.577   \n",
       "1993     0.0   0.0     1.0            0.0      0.0            0.0  0.658   \n",
       "1168     1.0   0.0     0.0            0.0      0.0            0.0  0.388   \n",
       "\n",
       "      EFConsPerCap  \n",
       "471       1.055530  \n",
       "925       4.602575  \n",
       "322       1.065831  \n",
       "168       4.614050  \n",
       "1170      0.738863  \n",
       "...            ...  \n",
       "183       3.957488  \n",
       "783       1.763312  \n",
       "1422      1.709146  \n",
       "1993      2.339436  \n",
       "1168      0.776107  \n",
       "\n",
       "[1725 rows x 8 columns]"
      ]
     },
     "execution_count": 69,
     "metadata": {},
     "output_type": "execute_result"
    }
   ],
   "source": [
    "train_set"
   ]
  },
  {
   "cell_type": "markdown",
   "metadata": {},
   "source": [
    "### 6.1. Undersampling"
   ]
  },
  {
   "cell_type": "code",
   "execution_count": 111,
   "metadata": {},
   "outputs": [],
   "source": [
    "def rus_fit_resample(set_data: pd.DataFrame) -> pd.DataFrame:\n",
    "    # Create copy of set data\n",
    "    set_data = set_data.copy()\n",
    "\n",
    "    # Create sampling object\n",
    "    rus = RandomUnderSampler(random_state = 26)\n",
    "\n",
    "    # Balancing set data\n",
    "    x_rus, y_rus = rus.fit_resample(set_data.drop(\"continent\", axis = 1), set_data.continent)\n",
    "\n",
    "    # Concatenate balanced data\n",
    "    set_data_rus = pd.concat([x_rus, y_rus], axis = 1)\n",
    "\n",
    "    # Return balanced data\n",
    "    return set_data_rus"
   ]
  },
  {
   "cell_type": "code",
   "execution_count": 112,
   "metadata": {},
   "outputs": [],
   "source": [
    "train_set_rus = rus_fit_resample(train_set)"
   ]
  },
  {
   "cell_type": "code",
   "execution_count": null,
   "metadata": {},
   "outputs": [],
   "source": []
  },
  {
   "cell_type": "code",
   "execution_count": 113,
   "metadata": {},
   "outputs": [
    {
     "data": {
      "text/plain": [
       "<Axes: xlabel='continent', ylabel='Count'>"
      ]
     },
     "execution_count": 113,
     "metadata": {},
     "output_type": "execute_result"
    },
    {
     "data": {
      "image/png": "[encoded data removed]",
      "text/plain": [
       "<Figure size 640x480 with 1 Axes>"
      ]
     },
     "metadata": {},
     "output_type": "display_data"
    }
   ],
   "source": [
    "sns.histplot(train_set_rus, x = \"continent\", hue = \"continent\")"
   ]
  },
  {
   "cell_type": "code",
   "execution_count": null,
   "metadata": {},
   "outputs": [],
   "source": []
  },
  {
   "cell_type": "markdown",
   "metadata": {},
   "source": [
    "### 6.2. Oversampling"
   ]
  },
  {
   "cell_type": "code",
   "execution_count": 85,
   "metadata": {},
   "outputs": [],
   "source": [
    "def ros_fit_resample(set_data: pd.DataFrame) -> pd.DataFrame:\n",
    "    # Create copy of set data\n",
    "    set_data = set_data.copy()\n",
    "\n",
    "    # Create sampling object\n",
    "    ros = RandomOverSampler(random_state = 11)\n",
    "\n",
    "    # Balancing set data\n",
    "    x_ros, y_ros = ros.fit_resample(set_data.drop(\"continent\", axis = 1), set_data.continent)\n",
    "\n",
    "    # Concatenate balanced data\n",
    "    set_data_ros = pd.concat([x_ros, y_ros], axis = 1)\n",
    "\n",
    "    # Return balanced data\n",
    "    return set_data_ros"
   ]
  },
  {
   "cell_type": "code",
   "execution_count": 86,
   "metadata": {},
   "outputs": [],
   "source": [
    "train_set_ros = ros_fit_resample(train_set)"
   ]
  },
  {
   "cell_type": "code",
   "execution_count": 95,
   "metadata": {},
   "outputs": [
    {
     "data": {
      "text/html": [
       "<div>\n",
       "<style scoped>\n",
       "    .dataframe tbody tr th:only-of-type {\n",
       "        vertical-align: middle;\n",
       "    }\n",
       "\n",
       "    .dataframe tbody tr th {\n",
       "        vertical-align: top;\n",
       "    }\n",
       "\n",
       "    .dataframe thead th {\n",
       "        text-align: right;\n",
       "    }\n",
       "</style>\n",
       "<table border=\"1\" class=\"dataframe\">\n",
       "  <thead>\n",
       "    <tr style=\"text-align: right;\">\n",
       "      <th></th>\n",
       "      <th>hdi</th>\n",
       "      <th>EFConsPerCap</th>\n",
       "      <th>continent</th>\n",
       "    </tr>\n",
       "  </thead>\n",
       "  <tbody>\n",
       "    <tr>\n",
       "      <th>0</th>\n",
       "      <td>0.413</td>\n",
       "      <td>1.055530</td>\n",
       "      <td>Africa</td>\n",
       "    </tr>\n",
       "    <tr>\n",
       "      <th>1</th>\n",
       "      <td>0.910</td>\n",
       "      <td>4.602575</td>\n",
       "      <td>Europe</td>\n",
       "    </tr>\n",
       "    <tr>\n",
       "      <th>2</th>\n",
       "      <td>0.456</td>\n",
       "      <td>1.065831</td>\n",
       "      <td>Africa</td>\n",
       "    </tr>\n",
       "    <tr>\n",
       "      <th>3</th>\n",
       "      <td>0.757</td>\n",
       "      <td>4.614050</td>\n",
       "      <td>North America</td>\n",
       "    </tr>\n",
       "    <tr>\n",
       "      <th>4</th>\n",
       "      <td>0.366</td>\n",
       "      <td>0.738863</td>\n",
       "      <td>Africa</td>\n",
       "    </tr>\n",
       "    <tr>\n",
       "      <th>...</th>\n",
       "      <td>...</td>\n",
       "      <td>...</td>\n",
       "      <td>...</td>\n",
       "    </tr>\n",
       "    <tr>\n",
       "      <th>3019</th>\n",
       "      <td>0.725</td>\n",
       "      <td>2.305922</td>\n",
       "      <td>South America</td>\n",
       "    </tr>\n",
       "    <tr>\n",
       "      <th>3020</th>\n",
       "      <td>0.624</td>\n",
       "      <td>2.619154</td>\n",
       "      <td>South America</td>\n",
       "    </tr>\n",
       "    <tr>\n",
       "      <th>3021</th>\n",
       "      <td>0.648</td>\n",
       "      <td>2.974306</td>\n",
       "      <td>South America</td>\n",
       "    </tr>\n",
       "    <tr>\n",
       "      <th>3022</th>\n",
       "      <td>0.784</td>\n",
       "      <td>4.051971</td>\n",
       "      <td>South America</td>\n",
       "    </tr>\n",
       "    <tr>\n",
       "      <th>3023</th>\n",
       "      <td>0.771</td>\n",
       "      <td>3.140876</td>\n",
       "      <td>South America</td>\n",
       "    </tr>\n",
       "  </tbody>\n",
       "</table>\n",
       "<p>3024 rows × 3 columns</p>\n",
       "</div>"
      ],
      "text/plain": [
       "        hdi  EFConsPerCap      continent\n",
       "0     0.413      1.055530         Africa\n",
       "1     0.910      4.602575         Europe\n",
       "2     0.456      1.065831         Africa\n",
       "3     0.757      4.614050  North America\n",
       "4     0.366      0.738863         Africa\n",
       "...     ...           ...            ...\n",
       "3019  0.725      2.305922  South America\n",
       "3020  0.624      2.619154  South America\n",
       "3021  0.648      2.974306  South America\n",
       "3022  0.784      4.051971  South America\n",
       "3023  0.771      3.140876  South America\n",
       "\n",
       "[3024 rows x 3 columns]"
      ]
     },
     "execution_count": 95,
     "metadata": {},
     "output_type": "execute_result"
    }
   ],
   "source": [
    "train_set_ros"
   ]
  },
  {
   "cell_type": "code",
   "execution_count": 89,
   "metadata": {},
   "outputs": [
    {
     "data": {
      "text/plain": [
       "<Axes: xlabel='continent', ylabel='Count'>"
      ]
     },
     "execution_count": 89,
     "metadata": {},
     "output_type": "execute_result"
    },
    {
     "data": {
      "image/png": "[encoded data removed]",
      "text/plain": [
       "<Figure size 640x480 with 1 Axes>"
      ]
     },
     "metadata": {},
     "output_type": "display_data"
    }
   ],
   "source": [
    "sns.histplot(train_set_ros, x = \"continent\", hue = \"continent\")"
   ]
  },
  {
   "cell_type": "code",
   "execution_count": null,
   "metadata": {},
   "outputs": [],
   "source": []
  },
  {
   "cell_type": "markdown",
   "metadata": {},
   "source": [
    "### 6.3. SMOTE"
   ]
  },
  {
   "cell_type": "code",
   "execution_count": 92,
   "metadata": {},
   "outputs": [],
   "source": [
    "def sm_fit_resample(set_data: pd.DataFrame) -> pd.DataFrame:\n",
    "    # Create copy of set data\n",
    "    set_data = set_data.copy()\n",
    "\n",
    "    # Create sampling object\n",
    "    sm = SMOTE(random_state = 112)\n",
    "\n",
    "    # Balancing set data\n",
    "    x_sm, y_sm = sm.fit_resample(set_data.drop(\"continent\", axis = 1), set_data.continent)\n",
    "\n",
    "    # Concatenate balanced data\n",
    "    set_data_sm = pd.concat([x_sm, y_sm], axis = 1)\n",
    "\n",
    "    # Return balanced data\n",
    "    return set_data_sm"
   ]
  },
  {
   "cell_type": "code",
   "execution_count": 93,
   "metadata": {},
   "outputs": [],
   "source": [
    "train_set_sm = sm_fit_resample(train_set)"
   ]
  },
  {
   "cell_type": "code",
   "execution_count": 94,
   "metadata": {},
   "outputs": [
    {
     "data": {
      "text/plain": [
       "<Axes: xlabel='continent', ylabel='Count'>"
      ]
     },
     "execution_count": 94,
     "metadata": {},
     "output_type": "execute_result"
    },
    {
     "data": {
      "image/png": "[encoded data removed]",
      "text/plain": [
       "<Figure size 640x480 with 1 Axes>"
      ]
     },
     "metadata": {},
     "output_type": "display_data"
    }
   ],
   "source": [
    "sns.histplot(train_set_sm, x = \"continent\", hue = \"continent\")"
   ]
  },
  {
   "cell_type": "code",
   "execution_count": null,
   "metadata": {},
   "outputs": [],
   "source": []
  },
  {
   "cell_type": "markdown",
   "metadata": {},
   "source": [
    "## 7. Label Encoding"
   ]
  },
  {
   "cell_type": "markdown",
   "metadata": {},
   "source": [
    "### 7.1. Fit LE to Label Data"
   ]
  },
  {
   "cell_type": "code",
   "execution_count": 114,
   "metadata": {},
   "outputs": [],
   "source": [
    "def le_fit(data_tobe_fitted: dict, le_path: str) -> LabelEncoder:\n",
    "    # Create le object\n",
    "    le_encoder = LabelEncoder()\n",
    "\n",
    "    # Fit le\n",
    "    le_encoder.fit(data_tobe_fitted)\n",
    "\n",
    "    # Save le object\n",
    "    util.pickle_dump(le_encoder, le_path)\n",
    "\n",
    "    # Return trained le\n",
    "    return le_encoder"
   ]
  },
  {
   "cell_type": "code",
   "execution_count": 115,
   "metadata": {},
   "outputs": [
    {
     "ename": "KeyError",
     "evalue": "'label_categories_new'",
     "output_type": "error",
     "traceback": [
      "\u001b[1;31m---------------------------------------------------------------------------\u001b[0m",
      "\u001b[1;31mKeyError\u001b[0m                                  Traceback (most recent call last)",
      "Cell \u001b[1;32mIn[115], line 1\u001b[0m\n\u001b[1;32m----> 1\u001b[0m le_encoder \u001b[39m=\u001b[39m le_fit(config_data[\u001b[39m\"\u001b[39;49m\u001b[39mlabel_categories_new\u001b[39;49m\u001b[39m\"\u001b[39;49m], config_data[\u001b[39m\"\u001b[39m\u001b[39mle_encoder_path\u001b[39m\u001b[39m\"\u001b[39m])\n",
      "\u001b[1;31mKeyError\u001b[0m: 'label_categories_new'"
     ]
    }
   ],
   "source": [
    "le_encoder = le_fit(config_data[\"label_categories_new\"], config_data[\"le_encoder_path\"])"
   ]
  },
  {
   "cell_type": "code",
   "execution_count": 82,
   "metadata": {},
   "outputs": [],
   "source": [
    "def le_transform(label_data: pd.Series, config_data: dict) -> pd.Series:\n",
    "    # Create copy of label_data\n",
    "    label_data = label_data.copy()\n",
    "\n",
    "    # Load le encoder\n",
    "    le_encoder = util.pickle_load(config_data[\"le_encoder_path\"])\n",
    "\n",
    "    # If categories both label data and trained le matched\n",
    "    if len(set(label_data.unique()) - set(le_encoder.classes_) | set(le_encoder.classes_) - set(label_data.unique())) == 0:\n",
    "        # Transform label data\n",
    "        label_data = le_encoder.transform(label_data)\n",
    "    else:\n",
    "        raise RuntimeError(\"Check category in label data and label encoder.\")\n",
    "    \n",
    "    # Return transformed label data\n",
    "    return label_data\n"
   ]
  },
  {
   "cell_type": "markdown",
   "metadata": {},
   "source": [
    "### 7.2. Undersampling set"
   ]
  },
  {
   "cell_type": "code",
   "execution_count": 83,
   "metadata": {},
   "outputs": [],
   "source": [
    "train_set_rus.categori = le_transform(train_set_rus.categori, config_data)\n"
   ]
  },
  {
   "cell_type": "markdown",
   "metadata": {},
   "source": [
    "### 7.3. Oversampling set"
   ]
  },
  {
   "cell_type": "code",
   "execution_count": 84,
   "metadata": {},
   "outputs": [],
   "source": [
    "train_set_ros.categori = le_transform(train_set_ros.categori, config_data)"
   ]
  },
  {
   "cell_type": "markdown",
   "metadata": {},
   "source": [
    "#### 7.4. SMOTE"
   ]
  },
  {
   "cell_type": "code",
   "execution_count": 85,
   "metadata": {},
   "outputs": [],
   "source": [
    "train_set_sm.categori = le_transform(train_set_sm.categori, config_data)"
   ]
  },
  {
   "cell_type": "markdown",
   "metadata": {},
   "source": [
    "#### 7.4. Validation Set"
   ]
  },
  {
   "cell_type": "code",
   "execution_count": 86,
   "metadata": {},
   "outputs": [],
   "source": [
    "valid_set.categori = le_transform(valid_set.categori, config_data)"
   ]
  },
  {
   "cell_type": "markdown",
   "metadata": {},
   "source": [
    "#### 7.5. Test Set"
   ]
  },
  {
   "cell_type": "code",
   "execution_count": 87,
   "metadata": {},
   "outputs": [],
   "source": [
    "test_set.categori = le_transform(test_set.categori, config_data)"
   ]
  },
  {
   "cell_type": "markdown",
   "metadata": {},
   "source": [
    "## 8. Dump Dataset"
   ]
  },
  {
   "cell_type": "code",
   "execution_count": 117,
   "metadata": {},
   "outputs": [],
   "source": [
    "x_train = {\n",
    "    \"Undersampling\" : train_set_rus.drop(columns = \"continent\"),\n",
    "    \"Oversampling\" : train_set_ros.drop(columns = \"continent\"),\n",
    "    \"SMOTE\" : train_set_sm.drop(columns = \"continent\")\n",
    "}\n",
    "\n",
    "y_train = {\n",
    "    \"Undersampling\" : train_set_rus.continent,\n",
    "    \"Oversampling\" : train_set_ros.continent,\n",
    "    \"SMOTE\" : train_set_sm.continent\n",
    "}"
   ]
  },
  {
   "cell_type": "code",
   "execution_count": 121,
   "metadata": {},
   "outputs": [
    {
     "data": {
      "text/plain": [
       "{'Undersampling':      Africa  Asia  Europe  North America  Oceania  South America    hdi  \\\n",
       " 0       1.0   0.0     0.0            0.0      0.0            0.0  0.476   \n",
       " 1       1.0   0.0     0.0            0.0      0.0            0.0  0.553   \n",
       " 2       1.0   0.0     0.0            0.0      0.0            0.0  0.740   \n",
       " 3       1.0   0.0     0.0            0.0      0.0            0.0  0.735   \n",
       " 4       1.0   0.0     0.0            0.0      0.0            0.0  0.604   \n",
       " ..      ...   ...     ...            ...      ...            ...    ...   \n",
       " 565     0.0   0.0     0.0            0.0      0.0            1.0  0.620   \n",
       " 566     0.0   0.0     0.0            0.0      0.0            1.0  0.609   \n",
       " 567     0.0   0.0     0.0            0.0      0.0            1.0  0.826   \n",
       " 568     0.0   0.0     0.0            0.0      0.0            1.0  0.685   \n",
       " 569     0.0   0.0     0.0            0.0      0.0            1.0  0.683   \n",
       " \n",
       "      EFConsPerCap  \n",
       " 0        2.292387  \n",
       " 1        3.933084  \n",
       " 2        3.052847  \n",
       " 3        4.036621  \n",
       " 4        2.414154  \n",
       " ..            ...  \n",
       " 565      2.543909  \n",
       " 566      2.155914  \n",
       " 567      3.689728  \n",
       " 568      3.083565  \n",
       " 569      1.946818  \n",
       " \n",
       " [570 rows x 8 columns],\n",
       " 'Oversampling':         hdi  EFConsPerCap\n",
       " 0     0.413      1.055530\n",
       " 1     0.910      4.602575\n",
       " 2     0.456      1.065831\n",
       " 3     0.757      4.614050\n",
       " 4     0.366      0.738863\n",
       " ...     ...           ...\n",
       " 3019  0.725      2.305922\n",
       " 3020  0.624      2.619154\n",
       " 3021  0.648      2.974306\n",
       " 3022  0.784      4.051971\n",
       " 3023  0.771      3.140876\n",
       " \n",
       " [3024 rows x 2 columns],\n",
       " 'SMOTE':            hdi  EFConsPerCap\n",
       " 0     0.413000      1.055530\n",
       " 1     0.910000      4.602575\n",
       " 2     0.456000      1.065831\n",
       " 3     0.757000      4.614050\n",
       " 4     0.366000      0.738863\n",
       " ...        ...           ...\n",
       " 3019  0.675603      1.947002\n",
       " 3020  0.621348      2.532041\n",
       " 3021  0.771776      3.290770\n",
       " 3022  0.668186      1.956714\n",
       " 3023  0.772447      9.406886\n",
       " \n",
       " [3024 rows x 2 columns]}"
      ]
     },
     "execution_count": 121,
     "metadata": {},
     "output_type": "execute_result"
    }
   ],
   "source": [
    "x_train"
   ]
  },
  {
   "cell_type": "code",
   "execution_count": 120,
   "metadata": {},
   "outputs": [],
   "source": [
    "util.pickle_dump(x_train, \"data/processed/x_train_feng.pkl\")\n",
    "util.pickle_dump(y_train, \"data/processed/y_train_feng.pkl\")\n",
    "\n",
    "util.pickle_dump(valid_set.drop(columns = \"continent\"), \"data/processed/x_valid_feng.pkl\")\n",
    "util.pickle_dump(valid_set.continent, \"data/processed/y_valid_feng.pkl\")\n",
    "\n",
    "util.pickle_dump(test_set.drop(columns = \"continent\"), \"data/processed/x_test_feng.pkl\")\n",
    "util.pickle_dump(test_set.continent, \"data/processed/y_test_feng.pkl\")"
   ]
  },
  {
   "cell_type": "code",
   "execution_count": null,
   "metadata": {},
   "outputs": [],
   "source": []
  }
 ],
 "metadata": {
  "kernelspec": {
   "display_name": "Python 3 (ipykernel)",
   "language": "python",
   "name": "python3"
  },
  "language_info": {
   "codemirror_mode": {
    "name": "ipython",
    "version": 3
   },
   "file_extension": ".py",
   "mimetype": "text/x-python",
   "name": "python",
   "nbconvert_exporter": "python",
   "pygments_lexer": "ipython3",
   "version": "3.10.10"
  },
  "vscode": {
   "interpreter": {
    "hash": "f6b5ba345f865ccab9c1d1dba86e394ca61d67366183ce7e182371ee31a721f6"
   }
  }
 },
 "nbformat": 4,
 "nbformat_minor": 4
}
