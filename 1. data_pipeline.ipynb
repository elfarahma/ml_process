{
 "cells": [
  {
   "cell_type": "markdown",
   "id": "e3a494b8",
   "metadata": {},
   "source": [
    "# Data Pipeline Demo"
   ]
  },
  {
   "cell_type": "markdown",
   "id": "0c535d48",
   "metadata": {},
   "source": [
    "## 0. Load Required Libraries"
   ]
  },
  {
   "cell_type": "code",
   "execution_count": 1,
   "id": "cc0f09f1",
   "metadata": {},
   "outputs": [],
   "source": [
    "from sklearn.model_selection import train_test_split\n",
    "from tqdm import tqdm\n",
    "import pandas as pd\n",
    "import numpy as np \n",
    "import joblib\n",
    "import os\n",
    "import yaml\n",
    "import src.util as util"
   ]
  },
  {
   "cell_type": "markdown",
   "id": "b041b823",
   "metadata": {},
   "source": [
    "## 1. Load Configuration File"
   ]
  },
  {
   "cell_type": "code",
   "execution_count": 13,
   "id": "defbc1a4",
   "metadata": {},
   "outputs": [],
   "source": [
    "config_data = util.load_config()"
   ]
  },
  {
   "cell_type": "markdown",
   "id": "f1d0b9f3",
   "metadata": {},
   "source": [
    "## 2. Data Collection"
   ]
  },
  {
   "cell_type": "code",
   "execution_count": 14,
   "id": "45cbb4be",
   "metadata": {},
   "outputs": [],
   "source": [
    "def read_raw_data(config: dict) -> pd.DataFrame:\n",
    "    # Create variable to store raw dataset\n",
    "    raw_dataset = pd.DataFrame()\n",
    "\n",
    "    # Raw dataset dir\n",
    "    raw_dataset_dir = config[\"raw_dataset_dir\"]\n",
    "\n",
    "    # Columns to keep\n",
    "    columns_to_keep = config[\"columns_to_keep\"]\n",
    "\n",
    "    # Look and load add CSV files\n",
    "    for file in tqdm(os.listdir(raw_dataset_dir)):\n",
    "        # Only read CSV files\n",
    "        if file.endswith('.csv'):  \n",
    "            csv_data = pd.read_csv(os.path.join(raw_dataset_dir, file))\n",
    "            raw_dataset = pd.concat([csv_data, raw_dataset])\n",
    "\n",
    "    # Keep only specified columns\n",
    "    raw_dataset = raw_dataset[columns_to_keep]\n",
    "\n",
    "    # Return raw dataset\n",
    "    return raw_dataset"
   ]
  },
  {
   "cell_type": "code",
   "execution_count": 15,
   "id": "52e2e0d4",
   "metadata": {},
   "outputs": [
    {
     "name": "stderr",
     "output_type": "stream",
     "text": [
      "100%|██████████| 1/1 [00:00<00:00, 126.44it/s]\n"
     ]
    }
   ],
   "source": [
    "raw_dataset = read_raw_data(config_data)"
   ]
  },
  {
   "cell_type": "code",
   "execution_count": 16,
   "id": "3fb5f4c3",
   "metadata": {},
   "outputs": [
    {
     "data": {
      "text/html": [
       "<div>\n",
       "<style scoped>\n",
       "    .dataframe tbody tr th:only-of-type {\n",
       "        vertical-align: middle;\n",
       "    }\n",
       "\n",
       "    .dataframe tbody tr th {\n",
       "        vertical-align: top;\n",
       "    }\n",
       "\n",
       "    .dataframe thead th {\n",
       "        text-align: right;\n",
       "    }\n",
       "</style>\n",
       "<table border=\"1\" class=\"dataframe\">\n",
       "  <thead>\n",
       "    <tr style=\"text-align: right;\">\n",
       "      <th></th>\n",
       "      <th>hdi</th>\n",
       "      <th>continent</th>\n",
       "      <th>EFConsPerCap</th>\n",
       "    </tr>\n",
       "  </thead>\n",
       "  <tbody>\n",
       "    <tr>\n",
       "      <th>0</th>\n",
       "      <td>0.340</td>\n",
       "      <td>Asia</td>\n",
       "      <td>0.648085</td>\n",
       "    </tr>\n",
       "    <tr>\n",
       "      <th>1</th>\n",
       "      <td>0.341</td>\n",
       "      <td>Asia</td>\n",
       "      <td>0.605820</td>\n",
       "    </tr>\n",
       "    <tr>\n",
       "      <th>2</th>\n",
       "      <td>0.373</td>\n",
       "      <td>Asia</td>\n",
       "      <td>0.704061</td>\n",
       "    </tr>\n",
       "    <tr>\n",
       "      <th>3</th>\n",
       "      <td>0.381</td>\n",
       "      <td>Asia</td>\n",
       "      <td>0.708856</td>\n",
       "    </tr>\n",
       "    <tr>\n",
       "      <th>4</th>\n",
       "      <td>0.396</td>\n",
       "      <td>Asia</td>\n",
       "      <td>0.619414</td>\n",
       "    </tr>\n",
       "    <tr>\n",
       "      <th>...</th>\n",
       "      <td>...</td>\n",
       "      <td>...</td>\n",
       "      <td>...</td>\n",
       "    </tr>\n",
       "    <tr>\n",
       "      <th>2152</th>\n",
       "      <td>0.452</td>\n",
       "      <td>Africa</td>\n",
       "      <td>1.241330</td>\n",
       "    </tr>\n",
       "    <tr>\n",
       "      <th>2153</th>\n",
       "      <td>0.464</td>\n",
       "      <td>Africa</td>\n",
       "      <td>1.306024</td>\n",
       "    </tr>\n",
       "    <tr>\n",
       "      <th>2154</th>\n",
       "      <td>0.488</td>\n",
       "      <td>Africa</td>\n",
       "      <td>1.173113</td>\n",
       "    </tr>\n",
       "    <tr>\n",
       "      <th>2155</th>\n",
       "      <td>0.498</td>\n",
       "      <td>Africa</td>\n",
       "      <td>1.140062</td>\n",
       "    </tr>\n",
       "    <tr>\n",
       "      <th>2156</th>\n",
       "      <td>0.507</td>\n",
       "      <td>Africa</td>\n",
       "      <td>1.088133</td>\n",
       "    </tr>\n",
       "  </tbody>\n",
       "</table>\n",
       "<p>2157 rows × 3 columns</p>\n",
       "</div>"
      ],
      "text/plain": [
       "        hdi continent  EFConsPerCap\n",
       "0     0.340      Asia      0.648085\n",
       "1     0.341      Asia      0.605820\n",
       "2     0.373      Asia      0.704061\n",
       "3     0.381      Asia      0.708856\n",
       "4     0.396      Asia      0.619414\n",
       "...     ...       ...           ...\n",
       "2152  0.452    Africa      1.241330\n",
       "2153  0.464    Africa      1.306024\n",
       "2154  0.488    Africa      1.173113\n",
       "2155  0.498    Africa      1.140062\n",
       "2156  0.507    Africa      1.088133\n",
       "\n",
       "[2157 rows x 3 columns]"
      ]
     },
     "execution_count": 16,
     "metadata": {},
     "output_type": "execute_result"
    }
   ],
   "source": [
    "# Check our data\n",
    "raw_dataset"
   ]
  },
  {
   "cell_type": "code",
   "execution_count": 6,
   "id": "6b3d9bf7",
   "metadata": {},
   "outputs": [],
   "source": [
    "# We found something here, at a glance:\n",
    "# 1. Index only ranged from 0 to 154, we know that there are 1830 rows\n",
    "# 2. Date only ranged from month 8 to 9, we know that our data ranged from month 1 to 12 \n",
    "\n",
    "# We need more investigation about this"
   ]
  },
  {
   "cell_type": "code",
   "execution_count": 17,
   "id": "3e942bb3",
   "metadata": {},
   "outputs": [],
   "source": [
    "# Try to reset the index to solve first problem\n",
    "raw_dataset.reset_index(inplace = True, drop = True)"
   ]
  },
  {
   "cell_type": "code",
   "execution_count": 18,
   "id": "112f15b4",
   "metadata": {},
   "outputs": [
    {
     "data": {
      "text/html": [
       "<div>\n",
       "<style scoped>\n",
       "    .dataframe tbody tr th:only-of-type {\n",
       "        vertical-align: middle;\n",
       "    }\n",
       "\n",
       "    .dataframe tbody tr th {\n",
       "        vertical-align: top;\n",
       "    }\n",
       "\n",
       "    .dataframe thead th {\n",
       "        text-align: right;\n",
       "    }\n",
       "</style>\n",
       "<table border=\"1\" class=\"dataframe\">\n",
       "  <thead>\n",
       "    <tr style=\"text-align: right;\">\n",
       "      <th></th>\n",
       "      <th>hdi</th>\n",
       "      <th>continent</th>\n",
       "      <th>EFConsPerCap</th>\n",
       "    </tr>\n",
       "  </thead>\n",
       "  <tbody>\n",
       "    <tr>\n",
       "      <th>0</th>\n",
       "      <td>0.340</td>\n",
       "      <td>Asia</td>\n",
       "      <td>0.648085</td>\n",
       "    </tr>\n",
       "    <tr>\n",
       "      <th>1</th>\n",
       "      <td>0.341</td>\n",
       "      <td>Asia</td>\n",
       "      <td>0.605820</td>\n",
       "    </tr>\n",
       "    <tr>\n",
       "      <th>2</th>\n",
       "      <td>0.373</td>\n",
       "      <td>Asia</td>\n",
       "      <td>0.704061</td>\n",
       "    </tr>\n",
       "    <tr>\n",
       "      <th>3</th>\n",
       "      <td>0.381</td>\n",
       "      <td>Asia</td>\n",
       "      <td>0.708856</td>\n",
       "    </tr>\n",
       "    <tr>\n",
       "      <th>4</th>\n",
       "      <td>0.396</td>\n",
       "      <td>Asia</td>\n",
       "      <td>0.619414</td>\n",
       "    </tr>\n",
       "    <tr>\n",
       "      <th>...</th>\n",
       "      <td>...</td>\n",
       "      <td>...</td>\n",
       "      <td>...</td>\n",
       "    </tr>\n",
       "    <tr>\n",
       "      <th>2152</th>\n",
       "      <td>0.452</td>\n",
       "      <td>Africa</td>\n",
       "      <td>1.241330</td>\n",
       "    </tr>\n",
       "    <tr>\n",
       "      <th>2153</th>\n",
       "      <td>0.464</td>\n",
       "      <td>Africa</td>\n",
       "      <td>1.306024</td>\n",
       "    </tr>\n",
       "    <tr>\n",
       "      <th>2154</th>\n",
       "      <td>0.488</td>\n",
       "      <td>Africa</td>\n",
       "      <td>1.173113</td>\n",
       "    </tr>\n",
       "    <tr>\n",
       "      <th>2155</th>\n",
       "      <td>0.498</td>\n",
       "      <td>Africa</td>\n",
       "      <td>1.140062</td>\n",
       "    </tr>\n",
       "    <tr>\n",
       "      <th>2156</th>\n",
       "      <td>0.507</td>\n",
       "      <td>Africa</td>\n",
       "      <td>1.088133</td>\n",
       "    </tr>\n",
       "  </tbody>\n",
       "</table>\n",
       "<p>2157 rows × 3 columns</p>\n",
       "</div>"
      ],
      "text/plain": [
       "        hdi continent  EFConsPerCap\n",
       "0     0.340      Asia      0.648085\n",
       "1     0.341      Asia      0.605820\n",
       "2     0.373      Asia      0.704061\n",
       "3     0.381      Asia      0.708856\n",
       "4     0.396      Asia      0.619414\n",
       "...     ...       ...           ...\n",
       "2152  0.452    Africa      1.241330\n",
       "2153  0.464    Africa      1.306024\n",
       "2154  0.488    Africa      1.173113\n",
       "2155  0.498    Africa      1.140062\n",
       "2156  0.507    Africa      1.088133\n",
       "\n",
       "[2157 rows x 3 columns]"
      ]
     },
     "execution_count": 18,
     "metadata": {},
     "output_type": "execute_result"
    }
   ],
   "source": [
    "# Now check the result\n",
    "raw_dataset"
   ]
  },
  {
   "cell_type": "code",
   "execution_count": 9,
   "id": "a64eb1a5",
   "metadata": {},
   "outputs": [],
   "source": [
    "# Seems like problem number 1 has benn fixed"
   ]
  },
  {
   "cell_type": "code",
   "execution_count": 19,
   "id": "655ffb6f",
   "metadata": {},
   "outputs": [],
   "source": [
    "# Save raw dataset to file\n",
    "util.pickle_dump(raw_dataset, config_data[\"raw_dataset_path\"])"
   ]
  },
  {
   "cell_type": "markdown",
   "id": "b48ed0c8",
   "metadata": {},
   "source": [
    "## 2. Data Definition"
   ]
  },
  {
   "cell_type": "code",
   "execution_count": 11,
   "id": "15280f7c",
   "metadata": {},
   "outputs": [],
   "source": [
    "# Define data type, range of data and some explanation out data for each variable"
   ]
  },
  {
   "cell_type": "raw",
   "id": "05088ba8",
   "metadata": {},
   "source": [
    "\n",
    "\n",
    "continent     :\n",
    "    [object]\n",
    "    ['Asia', 'DKI2 (Kelapa Gading)', 'DKI3 (Jagakarsa)', 'DKI4 (Lubang Buaya)', 'DKI5 (Kebon Jeruk) Jakarta Barat']\n",
    "    lokasi saat pengambilan sampel\n",
    "\n",
    "hdi            :\n",
    "    [integer]\n",
    "    [0 - 10]\n",
    "    partikel udara yang berukuran lebih kecil dari 10 mikron\n",
    "\n",
    "EFConsPerCap            :\n",
    "    [integer]\n",
    "    [0 - 20]\n",
    "    partikel udara yang berukuran lebih kecil dari 2.5 mikron\n",
    "\n",
    "so2             :\n",
    "    [integer]\n",
    "    [0 - 500]\n",
    "    sulfur dioksida\n",
    "\n",
    "co              :\n",
    "    [integer]\n",
    "    [0 - 100]\n",
    "    karbon monoksida\n",
    "\n",
    "o3              :\n",
    "    [integer]\n",
    "    [0 - 140]\n",
    "    ozone\n",
    "\n",
    "no2             :\n",
    "    [integer]\n",
    "    [0 - 100]\n",
    "    nitrogen dioksida\n",
    "\n",
    "max             :\n",
    "    [integer]\n",
    "    [0 - 800]\n",
    "    nilai paling besar diantara pm10, pm25, so2, co, o3, dan no2\n",
    "\n",
    "critical        :\n",
    "    [object]\n",
    "    [PM10, PM25, SO2, CO, O3, dan NO2]\n",
    "    nama kolom untuk nilai max\n",
    "\n",
    "categori        :\n",
    "    [object]\n",
    "    [BAIK, SEDANG, TIDAK SEHAT]\n",
    "    kategori untuk data pengukuran udara\n",
    "\n",
    "location        : tidak termasuk karena ada data yang nama kolomnya tidak standar"
   ]
  },
  {
   "cell_type": "markdown",
   "id": "a61fcf40",
   "metadata": {},
   "source": [
    "## 3. Data Validation"
   ]
  },
  {
   "cell_type": "markdown",
   "id": "e0856438",
   "metadata": {},
   "source": [
    "### 3.1. Tipe Data"
   ]
  },
  {
   "cell_type": "code",
   "execution_count": 12,
   "id": "205cfd7d",
   "metadata": {},
   "outputs": [
    {
     "data": {
      "text/plain": [
       "tanggal     object\n",
       "stasiun     object\n",
       "pm10        object\n",
       "pm25        object\n",
       "so2         object\n",
       "co          object\n",
       "o3          object\n",
       "no2         object\n",
       "max         object\n",
       "critical    object\n",
       "categori    object\n",
       "dtype: object"
      ]
     },
     "execution_count": 12,
     "metadata": {},
     "output_type": "execute_result"
    }
   ],
   "source": [
    "# Check data type each variable\n",
    "raw_dataset.dtypes"
   ]
  },
  {
   "cell_type": "code",
   "execution_count": 13,
   "id": "3dc27f56",
   "metadata": {},
   "outputs": [],
   "source": [
    "# The result shows us that all variable data type is object, which is not true. We need more investigation about it later"
   ]
  },
  {
   "cell_type": "markdown",
   "id": "5a05cb8d",
   "metadata": {},
   "source": [
    "### 3.2. Range"
   ]
  },
  {
   "cell_type": "code",
   "execution_count": 14,
   "id": "13b69bca",
   "metadata": {},
   "outputs": [
    {
     "data": {
      "text/html": [
       "<div>\n",
       "<style scoped>\n",
       "    .dataframe tbody tr th:only-of-type {\n",
       "        vertical-align: middle;\n",
       "    }\n",
       "\n",
       "    .dataframe tbody tr th {\n",
       "        vertical-align: top;\n",
       "    }\n",
       "\n",
       "    .dataframe thead th {\n",
       "        text-align: right;\n",
       "    }\n",
       "</style>\n",
       "<table border=\"1\" class=\"dataframe\">\n",
       "  <thead>\n",
       "    <tr style=\"text-align: right;\">\n",
       "      <th></th>\n",
       "      <th>tanggal</th>\n",
       "      <th>stasiun</th>\n",
       "      <th>pm10</th>\n",
       "      <th>pm25</th>\n",
       "      <th>so2</th>\n",
       "      <th>co</th>\n",
       "      <th>o3</th>\n",
       "      <th>no2</th>\n",
       "      <th>max</th>\n",
       "      <th>critical</th>\n",
       "      <th>categori</th>\n",
       "    </tr>\n",
       "  </thead>\n",
       "  <tbody>\n",
       "    <tr>\n",
       "      <th>count</th>\n",
       "      <td>1830</td>\n",
       "      <td>1830</td>\n",
       "      <td>1830</td>\n",
       "      <td>1768</td>\n",
       "      <td>1830</td>\n",
       "      <td>1830</td>\n",
       "      <td>1830</td>\n",
       "      <td>1830</td>\n",
       "      <td>1830</td>\n",
       "      <td>1813</td>\n",
       "      <td>1829</td>\n",
       "    </tr>\n",
       "    <tr>\n",
       "      <th>unique</th>\n",
       "      <td>335</td>\n",
       "      <td>5</td>\n",
       "      <td>122</td>\n",
       "      <td>191</td>\n",
       "      <td>121</td>\n",
       "      <td>54</td>\n",
       "      <td>120</td>\n",
       "      <td>86</td>\n",
       "      <td>186</td>\n",
       "      <td>6</td>\n",
       "      <td>4</td>\n",
       "    </tr>\n",
       "    <tr>\n",
       "      <th>top</th>\n",
       "      <td>2021-07-15</td>\n",
       "      <td>DKI1 (Bunderan HI)</td>\n",
       "      <td>51</td>\n",
       "      <td>81</td>\n",
       "      <td>---</td>\n",
       "      <td>10</td>\n",
       "      <td>24</td>\n",
       "      <td>17</td>\n",
       "      <td>77</td>\n",
       "      <td>PM25</td>\n",
       "      <td>SEDANG</td>\n",
       "    </tr>\n",
       "    <tr>\n",
       "      <th>freq</th>\n",
       "      <td>10</td>\n",
       "      <td>366</td>\n",
       "      <td>72</td>\n",
       "      <td>41</td>\n",
       "      <td>114</td>\n",
       "      <td>171</td>\n",
       "      <td>67</td>\n",
       "      <td>90</td>\n",
       "      <td>45</td>\n",
       "      <td>1631</td>\n",
       "      <td>1305</td>\n",
       "    </tr>\n",
       "  </tbody>\n",
       "</table>\n",
       "</div>"
      ],
      "text/plain": [
       "           tanggal             stasiun  pm10  pm25   so2    co    o3   no2  \\\n",
       "count         1830                1830  1830  1768  1830  1830  1830  1830   \n",
       "unique         335                   5   122   191   121    54   120    86   \n",
       "top     2021-07-15  DKI1 (Bunderan HI)    51    81   ---    10    24    17   \n",
       "freq            10                 366    72    41   114   171    67    90   \n",
       "\n",
       "         max critical categori  \n",
       "count   1830     1813     1829  \n",
       "unique   186        6        4  \n",
       "top       77     PM25   SEDANG  \n",
       "freq      45     1631     1305  "
      ]
     },
     "execution_count": 14,
     "metadata": {},
     "output_type": "execute_result"
    }
   ],
   "source": [
    "# Check the range of data for each variable\n",
    "raw_dataset.describe()"
   ]
  },
  {
   "cell_type": "code",
   "execution_count": 15,
   "id": "c660451e",
   "metadata": {},
   "outputs": [],
   "source": [
    "# This is messed up because the data type don't match with actual values for each variabel"
   ]
  },
  {
   "cell_type": "markdown",
   "id": "1c575fe1",
   "metadata": {},
   "source": [
    "### 3.3. Dimensi Data"
   ]
  },
  {
   "cell_type": "code",
   "execution_count": 16,
   "id": "05b0b3b7",
   "metadata": {},
   "outputs": [
    {
     "data": {
      "text/plain": [
       "(1830, 11)"
      ]
     },
     "execution_count": 16,
     "metadata": {},
     "output_type": "execute_result"
    }
   ],
   "source": [
    "# It will not be affected\n",
    "raw_dataset.shape"
   ]
  },
  {
   "cell_type": "markdown",
   "id": "d367b98c",
   "metadata": {},
   "source": [
    "### 3.4. Handling Variables Error"
   ]
  },
  {
   "cell_type": "markdown",
   "id": "e0185698",
   "metadata": {},
   "source": [
    "#### 3.4.1. Handing Variabel \"Tanggal\""
   ]
  },
  {
   "cell_type": "code",
   "execution_count": 17,
   "id": "433ffda8",
   "metadata": {},
   "outputs": [],
   "source": [
    "# Try to cast data in variable tanggal to datetime\n",
    "raw_dataset.tanggal = pd.to_datetime(raw_dataset.tanggal)"
   ]
  },
  {
   "cell_type": "code",
   "execution_count": 18,
   "id": "7b464cab",
   "metadata": {},
   "outputs": [
    {
     "name": "stdout",
     "output_type": "stream",
     "text": [
      "<class 'pandas.core.frame.DataFrame'>\n",
      "RangeIndex: 1830 entries, 0 to 1829\n",
      "Data columns (total 11 columns):\n",
      " #   Column    Non-Null Count  Dtype         \n",
      "---  ------    --------------  -----         \n",
      " 0   tanggal   1830 non-null   datetime64[ns]\n",
      " 1   stasiun   1830 non-null   object        \n",
      " 2   pm10      1830 non-null   object        \n",
      " 3   pm25      1768 non-null   object        \n",
      " 4   so2       1830 non-null   object        \n",
      " 5   co        1830 non-null   object        \n",
      " 6   o3        1830 non-null   object        \n",
      " 7   no2       1830 non-null   object        \n",
      " 8   max       1830 non-null   object        \n",
      " 9   critical  1813 non-null   object        \n",
      " 10  categori  1829 non-null   object        \n",
      "dtypes: datetime64[ns](1), object(10)\n",
      "memory usage: 157.4+ KB\n"
     ]
    }
   ],
   "source": [
    "# Check the result\n",
    "raw_dataset.info()"
   ]
  },
  {
   "cell_type": "markdown",
   "id": "4e0b1bef",
   "metadata": {},
   "source": [
    "#### 3.4.2. Handling Variable \"PM10\""
   ]
  },
  {
   "cell_type": "code",
   "execution_count": 19,
   "id": "3b3252d7",
   "metadata": {},
   "outputs": [
    {
     "ename": "ValueError",
     "evalue": "invalid literal for int() with base 10: '---'",
     "output_type": "error",
     "traceback": [
      "\u001b[1;31m---------------------------------------------------------------------------\u001b[0m",
      "\u001b[1;31mValueError\u001b[0m                                Traceback (most recent call last)",
      "Cell \u001b[1;32mIn [19], line 2\u001b[0m\n\u001b[0;32m      1\u001b[0m \u001b[39m# Try direrctly casting to integer\u001b[39;00m\n\u001b[1;32m----> 2\u001b[0m raw_dataset\u001b[39m.\u001b[39mpm10 \u001b[39m=\u001b[39m raw_dataset\u001b[39m.\u001b[39;49mpm10\u001b[39m.\u001b[39;49mastype(\u001b[39mint\u001b[39;49m)\n",
      "File \u001b[1;32mc:\\Users\\nvic\\Desktop\\Exercise\\venv_win\\lib\\site-packages\\pandas\\core\\generic.py:6245\u001b[0m, in \u001b[0;36mNDFrame.astype\u001b[1;34m(self, dtype, copy, errors)\u001b[0m\n\u001b[0;32m   6238\u001b[0m     results \u001b[39m=\u001b[39m [\n\u001b[0;32m   6239\u001b[0m         \u001b[39mself\u001b[39m\u001b[39m.\u001b[39miloc[:, i]\u001b[39m.\u001b[39mastype(dtype, copy\u001b[39m=\u001b[39mcopy)\n\u001b[0;32m   6240\u001b[0m         \u001b[39mfor\u001b[39;00m i \u001b[39min\u001b[39;00m \u001b[39mrange\u001b[39m(\u001b[39mlen\u001b[39m(\u001b[39mself\u001b[39m\u001b[39m.\u001b[39mcolumns))\n\u001b[0;32m   6241\u001b[0m     ]\n\u001b[0;32m   6243\u001b[0m \u001b[39melse\u001b[39;00m:\n\u001b[0;32m   6244\u001b[0m     \u001b[39m# else, only a single dtype is given\u001b[39;00m\n\u001b[1;32m-> 6245\u001b[0m     new_data \u001b[39m=\u001b[39m \u001b[39mself\u001b[39;49m\u001b[39m.\u001b[39;49m_mgr\u001b[39m.\u001b[39;49mastype(dtype\u001b[39m=\u001b[39;49mdtype, copy\u001b[39m=\u001b[39;49mcopy, errors\u001b[39m=\u001b[39;49merrors)\n\u001b[0;32m   6246\u001b[0m     \u001b[39mreturn\u001b[39;00m \u001b[39mself\u001b[39m\u001b[39m.\u001b[39m_constructor(new_data)\u001b[39m.\u001b[39m__finalize__(\u001b[39mself\u001b[39m, method\u001b[39m=\u001b[39m\u001b[39m\"\u001b[39m\u001b[39mastype\u001b[39m\u001b[39m\"\u001b[39m)\n\u001b[0;32m   6248\u001b[0m \u001b[39m# GH 33113: handle empty frame or series\u001b[39;00m\n",
      "File \u001b[1;32mc:\\Users\\nvic\\Desktop\\Exercise\\venv_win\\lib\\site-packages\\pandas\\core\\internals\\managers.py:446\u001b[0m, in \u001b[0;36mBaseBlockManager.astype\u001b[1;34m(self, dtype, copy, errors)\u001b[0m\n\u001b[0;32m    445\u001b[0m \u001b[39mdef\u001b[39;00m \u001b[39mastype\u001b[39m(\u001b[39mself\u001b[39m: T, dtype, copy: \u001b[39mbool\u001b[39m \u001b[39m=\u001b[39m \u001b[39mFalse\u001b[39;00m, errors: \u001b[39mstr\u001b[39m \u001b[39m=\u001b[39m \u001b[39m\"\u001b[39m\u001b[39mraise\u001b[39m\u001b[39m\"\u001b[39m) \u001b[39m-\u001b[39m\u001b[39m>\u001b[39m T:\n\u001b[1;32m--> 446\u001b[0m     \u001b[39mreturn\u001b[39;00m \u001b[39mself\u001b[39;49m\u001b[39m.\u001b[39;49mapply(\u001b[39m\"\u001b[39;49m\u001b[39mastype\u001b[39;49m\u001b[39m\"\u001b[39;49m, dtype\u001b[39m=\u001b[39;49mdtype, copy\u001b[39m=\u001b[39;49mcopy, errors\u001b[39m=\u001b[39;49merrors)\n",
      "File \u001b[1;32mc:\\Users\\nvic\\Desktop\\Exercise\\venv_win\\lib\\site-packages\\pandas\\core\\internals\\managers.py:348\u001b[0m, in \u001b[0;36mBaseBlockManager.apply\u001b[1;34m(self, f, align_keys, ignore_failures, **kwargs)\u001b[0m\n\u001b[0;32m    346\u001b[0m         applied \u001b[39m=\u001b[39m b\u001b[39m.\u001b[39mapply(f, \u001b[39m*\u001b[39m\u001b[39m*\u001b[39mkwargs)\n\u001b[0;32m    347\u001b[0m     \u001b[39melse\u001b[39;00m:\n\u001b[1;32m--> 348\u001b[0m         applied \u001b[39m=\u001b[39m \u001b[39mgetattr\u001b[39m(b, f)(\u001b[39m*\u001b[39m\u001b[39m*\u001b[39mkwargs)\n\u001b[0;32m    349\u001b[0m \u001b[39mexcept\u001b[39;00m (\u001b[39mTypeError\u001b[39;00m, \u001b[39mNotImplementedError\u001b[39;00m):\n\u001b[0;32m    350\u001b[0m     \u001b[39mif\u001b[39;00m \u001b[39mnot\u001b[39;00m ignore_failures:\n",
      "File \u001b[1;32mc:\\Users\\nvic\\Desktop\\Exercise\\venv_win\\lib\\site-packages\\pandas\\core\\internals\\blocks.py:527\u001b[0m, in \u001b[0;36mBlock.astype\u001b[1;34m(self, dtype, copy, errors)\u001b[0m\n\u001b[0;32m    509\u001b[0m \u001b[39m\"\"\"\u001b[39;00m\n\u001b[0;32m    510\u001b[0m \u001b[39mCoerce to the new dtype.\u001b[39;00m\n\u001b[0;32m    511\u001b[0m \n\u001b[1;32m   (...)\u001b[0m\n\u001b[0;32m    523\u001b[0m \u001b[39mBlock\u001b[39;00m\n\u001b[0;32m    524\u001b[0m \u001b[39m\"\"\"\u001b[39;00m\n\u001b[0;32m    525\u001b[0m values \u001b[39m=\u001b[39m \u001b[39mself\u001b[39m\u001b[39m.\u001b[39mvalues\n\u001b[1;32m--> 527\u001b[0m new_values \u001b[39m=\u001b[39m astype_array_safe(values, dtype, copy\u001b[39m=\u001b[39;49mcopy, errors\u001b[39m=\u001b[39;49merrors)\n\u001b[0;32m    529\u001b[0m new_values \u001b[39m=\u001b[39m maybe_coerce_values(new_values)\n\u001b[0;32m    530\u001b[0m newb \u001b[39m=\u001b[39m \u001b[39mself\u001b[39m\u001b[39m.\u001b[39mmake_block(new_values)\n",
      "File \u001b[1;32mc:\\Users\\nvic\\Desktop\\Exercise\\venv_win\\lib\\site-packages\\pandas\\core\\dtypes\\astype.py:299\u001b[0m, in \u001b[0;36mastype_array_safe\u001b[1;34m(values, dtype, copy, errors)\u001b[0m\n\u001b[0;32m    296\u001b[0m     \u001b[39mreturn\u001b[39;00m values\u001b[39m.\u001b[39mcopy()\n\u001b[0;32m    298\u001b[0m \u001b[39mtry\u001b[39;00m:\n\u001b[1;32m--> 299\u001b[0m     new_values \u001b[39m=\u001b[39m astype_array(values, dtype, copy\u001b[39m=\u001b[39;49mcopy)\n\u001b[0;32m    300\u001b[0m \u001b[39mexcept\u001b[39;00m (\u001b[39mValueError\u001b[39;00m, \u001b[39mTypeError\u001b[39;00m):\n\u001b[0;32m    301\u001b[0m     \u001b[39m# e.g. astype_nansafe can fail on object-dtype of strings\u001b[39;00m\n\u001b[0;32m    302\u001b[0m     \u001b[39m#  trying to convert to float\u001b[39;00m\n\u001b[0;32m    303\u001b[0m     \u001b[39mif\u001b[39;00m errors \u001b[39m==\u001b[39m \u001b[39m\"\u001b[39m\u001b[39mignore\u001b[39m\u001b[39m\"\u001b[39m:\n",
      "File \u001b[1;32mc:\\Users\\nvic\\Desktop\\Exercise\\venv_win\\lib\\site-packages\\pandas\\core\\dtypes\\astype.py:230\u001b[0m, in \u001b[0;36mastype_array\u001b[1;34m(values, dtype, copy)\u001b[0m\n\u001b[0;32m    227\u001b[0m     values \u001b[39m=\u001b[39m values\u001b[39m.\u001b[39mastype(dtype, copy\u001b[39m=\u001b[39mcopy)\n\u001b[0;32m    229\u001b[0m \u001b[39melse\u001b[39;00m:\n\u001b[1;32m--> 230\u001b[0m     values \u001b[39m=\u001b[39m astype_nansafe(values, dtype, copy\u001b[39m=\u001b[39;49mcopy)\n\u001b[0;32m    232\u001b[0m \u001b[39m# in pandas we don't store numpy str dtypes, so convert to object\u001b[39;00m\n\u001b[0;32m    233\u001b[0m \u001b[39mif\u001b[39;00m \u001b[39misinstance\u001b[39m(dtype, np\u001b[39m.\u001b[39mdtype) \u001b[39mand\u001b[39;00m \u001b[39missubclass\u001b[39m(values\u001b[39m.\u001b[39mdtype\u001b[39m.\u001b[39mtype, \u001b[39mstr\u001b[39m):\n",
      "File \u001b[1;32mc:\\Users\\nvic\\Desktop\\Exercise\\venv_win\\lib\\site-packages\\pandas\\core\\dtypes\\astype.py:170\u001b[0m, in \u001b[0;36mastype_nansafe\u001b[1;34m(arr, dtype, copy, skipna)\u001b[0m\n\u001b[0;32m    166\u001b[0m     \u001b[39mraise\u001b[39;00m \u001b[39mValueError\u001b[39;00m(msg)\n\u001b[0;32m    168\u001b[0m \u001b[39mif\u001b[39;00m copy \u001b[39mor\u001b[39;00m is_object_dtype(arr\u001b[39m.\u001b[39mdtype) \u001b[39mor\u001b[39;00m is_object_dtype(dtype):\n\u001b[0;32m    169\u001b[0m     \u001b[39m# Explicit copy, or required since NumPy can't view from / to object.\u001b[39;00m\n\u001b[1;32m--> 170\u001b[0m     \u001b[39mreturn\u001b[39;00m arr\u001b[39m.\u001b[39;49mastype(dtype, copy\u001b[39m=\u001b[39;49m\u001b[39mTrue\u001b[39;49;00m)\n\u001b[0;32m    172\u001b[0m \u001b[39mreturn\u001b[39;00m arr\u001b[39m.\u001b[39mastype(dtype, copy\u001b[39m=\u001b[39mcopy)\n",
      "\u001b[1;31mValueError\u001b[0m: invalid literal for int() with base 10: '---'"
     ]
    }
   ],
   "source": [
    "# Try direrctly casting to integer\n",
    "raw_dataset.pm10 = raw_dataset.pm10.astype(int)"
   ]
  },
  {
   "cell_type": "code",
   "execution_count": 20,
   "id": "0c795b60",
   "metadata": {},
   "outputs": [],
   "source": [
    "# Error occurs, it tells us that there is data that isn't integer (\"---\")\n",
    "# We need to determine representative number for this kind of data\n",
    "# We can't replace with NaN right now because splitting data can't tolerate NaN"
   ]
  },
  {
   "cell_type": "code",
   "execution_count": 21,
   "id": "0a74bebc",
   "metadata": {},
   "outputs": [
    {
     "name": "stderr",
     "output_type": "stream",
     "text": [
      "C:\\Users\\nvic\\AppData\\Local\\Temp\\ipykernel_4104\\3939095443.py:3: FutureWarning: In a future version of pandas all arguments of DataFrame.any and Series.any will be keyword-only.\n",
      "  raw_dataset[(raw_dataset.eq(\"-1\").any(1)) | (raw_dataset.eq(-1).any(1))]\n"
     ]
    },
    {
     "data": {
      "text/html": [
       "<div>\n",
       "<style scoped>\n",
       "    .dataframe tbody tr th:only-of-type {\n",
       "        vertical-align: middle;\n",
       "    }\n",
       "\n",
       "    .dataframe tbody tr th {\n",
       "        vertical-align: top;\n",
       "    }\n",
       "\n",
       "    .dataframe thead th {\n",
       "        text-align: right;\n",
       "    }\n",
       "</style>\n",
       "<table border=\"1\" class=\"dataframe\">\n",
       "  <thead>\n",
       "    <tr style=\"text-align: right;\">\n",
       "      <th></th>\n",
       "      <th>tanggal</th>\n",
       "      <th>stasiun</th>\n",
       "      <th>pm10</th>\n",
       "      <th>pm25</th>\n",
       "      <th>so2</th>\n",
       "      <th>co</th>\n",
       "      <th>o3</th>\n",
       "      <th>no2</th>\n",
       "      <th>max</th>\n",
       "      <th>critical</th>\n",
       "      <th>categori</th>\n",
       "    </tr>\n",
       "  </thead>\n",
       "  <tbody>\n",
       "  </tbody>\n",
       "</table>\n",
       "</div>"
      ],
      "text/plain": [
       "Empty DataFrame\n",
       "Columns: [tanggal, stasiun, pm10, pm25, so2, co, o3, no2, max, critical, categori]\n",
       "Index: []"
      ]
     },
     "execution_count": 21,
     "metadata": {},
     "output_type": "execute_result"
    }
   ],
   "source": [
    "# Based on data definition, number -1 is free to use\n",
    "# But we want to make sure that there is no single data that contain -1\n",
    "raw_dataset[(raw_dataset.eq(\"-1\").any(1)) | (raw_dataset.eq(-1).any(1))]"
   ]
  },
  {
   "cell_type": "code",
   "execution_count": 22,
   "id": "318cc79d",
   "metadata": {},
   "outputs": [],
   "source": [
    "# Replace \"---\" with -1 and convert -1 to NaN later in preprocessing and feature Engineering step\n",
    "raw_dataset.pm10 = raw_dataset.pm10.replace(\"---\", -1).astype(int)"
   ]
  },
  {
   "cell_type": "code",
   "execution_count": 23,
   "id": "2b636f0b",
   "metadata": {},
   "outputs": [
    {
     "name": "stdout",
     "output_type": "stream",
     "text": [
      "<class 'pandas.core.frame.DataFrame'>\n",
      "RangeIndex: 1830 entries, 0 to 1829\n",
      "Data columns (total 11 columns):\n",
      " #   Column    Non-Null Count  Dtype         \n",
      "---  ------    --------------  -----         \n",
      " 0   tanggal   1830 non-null   datetime64[ns]\n",
      " 1   stasiun   1830 non-null   object        \n",
      " 2   pm10      1830 non-null   int32         \n",
      " 3   pm25      1768 non-null   object        \n",
      " 4   so2       1830 non-null   object        \n",
      " 5   co        1830 non-null   object        \n",
      " 6   o3        1830 non-null   object        \n",
      " 7   no2       1830 non-null   object        \n",
      " 8   max       1830 non-null   object        \n",
      " 9   critical  1813 non-null   object        \n",
      " 10  categori  1829 non-null   object        \n",
      "dtypes: datetime64[ns](1), int32(1), object(9)\n",
      "memory usage: 150.2+ KB\n"
     ]
    }
   ],
   "source": [
    "# Check the result\n",
    "raw_dataset.info()"
   ]
  },
  {
   "cell_type": "code",
   "execution_count": 24,
   "id": "855399c3",
   "metadata": {},
   "outputs": [],
   "source": [
    "# Some feature has NaN value, pm25, critical and categori"
   ]
  },
  {
   "cell_type": "markdown",
   "id": "eced1f3e",
   "metadata": {},
   "source": [
    "#### 3.4.3. Handling Variable \"PM25\""
   ]
  },
  {
   "cell_type": "code",
   "execution_count": 25,
   "id": "ad34ea12",
   "metadata": {},
   "outputs": [
    {
     "ename": "ValueError",
     "evalue": "invalid literal for int() with base 10: '---'",
     "output_type": "error",
     "traceback": [
      "\u001b[1;31m---------------------------------------------------------------------------\u001b[0m",
      "\u001b[1;31mValueError\u001b[0m                                Traceback (most recent call last)",
      "Cell \u001b[1;32mIn [25], line 2\u001b[0m\n\u001b[0;32m      1\u001b[0m \u001b[39m# Same like in pm10, try directly casting to int\u001b[39;00m\n\u001b[1;32m----> 2\u001b[0m raw_dataset\u001b[39m.\u001b[39mpm25 \u001b[39m=\u001b[39m raw_dataset\u001b[39m.\u001b[39;49mpm25\u001b[39m.\u001b[39;49mastype(\u001b[39mint\u001b[39;49m)\n",
      "File \u001b[1;32mc:\\Users\\nvic\\Desktop\\Exercise\\venv_win\\lib\\site-packages\\pandas\\core\\generic.py:6245\u001b[0m, in \u001b[0;36mNDFrame.astype\u001b[1;34m(self, dtype, copy, errors)\u001b[0m\n\u001b[0;32m   6238\u001b[0m     results \u001b[39m=\u001b[39m [\n\u001b[0;32m   6239\u001b[0m         \u001b[39mself\u001b[39m\u001b[39m.\u001b[39miloc[:, i]\u001b[39m.\u001b[39mastype(dtype, copy\u001b[39m=\u001b[39mcopy)\n\u001b[0;32m   6240\u001b[0m         \u001b[39mfor\u001b[39;00m i \u001b[39min\u001b[39;00m \u001b[39mrange\u001b[39m(\u001b[39mlen\u001b[39m(\u001b[39mself\u001b[39m\u001b[39m.\u001b[39mcolumns))\n\u001b[0;32m   6241\u001b[0m     ]\n\u001b[0;32m   6243\u001b[0m \u001b[39melse\u001b[39;00m:\n\u001b[0;32m   6244\u001b[0m     \u001b[39m# else, only a single dtype is given\u001b[39;00m\n\u001b[1;32m-> 6245\u001b[0m     new_data \u001b[39m=\u001b[39m \u001b[39mself\u001b[39;49m\u001b[39m.\u001b[39;49m_mgr\u001b[39m.\u001b[39;49mastype(dtype\u001b[39m=\u001b[39;49mdtype, copy\u001b[39m=\u001b[39;49mcopy, errors\u001b[39m=\u001b[39;49merrors)\n\u001b[0;32m   6246\u001b[0m     \u001b[39mreturn\u001b[39;00m \u001b[39mself\u001b[39m\u001b[39m.\u001b[39m_constructor(new_data)\u001b[39m.\u001b[39m__finalize__(\u001b[39mself\u001b[39m, method\u001b[39m=\u001b[39m\u001b[39m\"\u001b[39m\u001b[39mastype\u001b[39m\u001b[39m\"\u001b[39m)\n\u001b[0;32m   6248\u001b[0m \u001b[39m# GH 33113: handle empty frame or series\u001b[39;00m\n",
      "File \u001b[1;32mc:\\Users\\nvic\\Desktop\\Exercise\\venv_win\\lib\\site-packages\\pandas\\core\\internals\\managers.py:446\u001b[0m, in \u001b[0;36mBaseBlockManager.astype\u001b[1;34m(self, dtype, copy, errors)\u001b[0m\n\u001b[0;32m    445\u001b[0m \u001b[39mdef\u001b[39;00m \u001b[39mastype\u001b[39m(\u001b[39mself\u001b[39m: T, dtype, copy: \u001b[39mbool\u001b[39m \u001b[39m=\u001b[39m \u001b[39mFalse\u001b[39;00m, errors: \u001b[39mstr\u001b[39m \u001b[39m=\u001b[39m \u001b[39m\"\u001b[39m\u001b[39mraise\u001b[39m\u001b[39m\"\u001b[39m) \u001b[39m-\u001b[39m\u001b[39m>\u001b[39m T:\n\u001b[1;32m--> 446\u001b[0m     \u001b[39mreturn\u001b[39;00m \u001b[39mself\u001b[39;49m\u001b[39m.\u001b[39;49mapply(\u001b[39m\"\u001b[39;49m\u001b[39mastype\u001b[39;49m\u001b[39m\"\u001b[39;49m, dtype\u001b[39m=\u001b[39;49mdtype, copy\u001b[39m=\u001b[39;49mcopy, errors\u001b[39m=\u001b[39;49merrors)\n",
      "File \u001b[1;32mc:\\Users\\nvic\\Desktop\\Exercise\\venv_win\\lib\\site-packages\\pandas\\core\\internals\\managers.py:348\u001b[0m, in \u001b[0;36mBaseBlockManager.apply\u001b[1;34m(self, f, align_keys, ignore_failures, **kwargs)\u001b[0m\n\u001b[0;32m    346\u001b[0m         applied \u001b[39m=\u001b[39m b\u001b[39m.\u001b[39mapply(f, \u001b[39m*\u001b[39m\u001b[39m*\u001b[39mkwargs)\n\u001b[0;32m    347\u001b[0m     \u001b[39melse\u001b[39;00m:\n\u001b[1;32m--> 348\u001b[0m         applied \u001b[39m=\u001b[39m \u001b[39mgetattr\u001b[39m(b, f)(\u001b[39m*\u001b[39m\u001b[39m*\u001b[39mkwargs)\n\u001b[0;32m    349\u001b[0m \u001b[39mexcept\u001b[39;00m (\u001b[39mTypeError\u001b[39;00m, \u001b[39mNotImplementedError\u001b[39;00m):\n\u001b[0;32m    350\u001b[0m     \u001b[39mif\u001b[39;00m \u001b[39mnot\u001b[39;00m ignore_failures:\n",
      "File \u001b[1;32mc:\\Users\\nvic\\Desktop\\Exercise\\venv_win\\lib\\site-packages\\pandas\\core\\internals\\blocks.py:527\u001b[0m, in \u001b[0;36mBlock.astype\u001b[1;34m(self, dtype, copy, errors)\u001b[0m\n\u001b[0;32m    509\u001b[0m \u001b[39m\"\"\"\u001b[39;00m\n\u001b[0;32m    510\u001b[0m \u001b[39mCoerce to the new dtype.\u001b[39;00m\n\u001b[0;32m    511\u001b[0m \n\u001b[1;32m   (...)\u001b[0m\n\u001b[0;32m    523\u001b[0m \u001b[39mBlock\u001b[39;00m\n\u001b[0;32m    524\u001b[0m \u001b[39m\"\"\"\u001b[39;00m\n\u001b[0;32m    525\u001b[0m values \u001b[39m=\u001b[39m \u001b[39mself\u001b[39m\u001b[39m.\u001b[39mvalues\n\u001b[1;32m--> 527\u001b[0m new_values \u001b[39m=\u001b[39m astype_array_safe(values, dtype, copy\u001b[39m=\u001b[39;49mcopy, errors\u001b[39m=\u001b[39;49merrors)\n\u001b[0;32m    529\u001b[0m new_values \u001b[39m=\u001b[39m maybe_coerce_values(new_values)\n\u001b[0;32m    530\u001b[0m newb \u001b[39m=\u001b[39m \u001b[39mself\u001b[39m\u001b[39m.\u001b[39mmake_block(new_values)\n",
      "File \u001b[1;32mc:\\Users\\nvic\\Desktop\\Exercise\\venv_win\\lib\\site-packages\\pandas\\core\\dtypes\\astype.py:299\u001b[0m, in \u001b[0;36mastype_array_safe\u001b[1;34m(values, dtype, copy, errors)\u001b[0m\n\u001b[0;32m    296\u001b[0m     \u001b[39mreturn\u001b[39;00m values\u001b[39m.\u001b[39mcopy()\n\u001b[0;32m    298\u001b[0m \u001b[39mtry\u001b[39;00m:\n\u001b[1;32m--> 299\u001b[0m     new_values \u001b[39m=\u001b[39m astype_array(values, dtype, copy\u001b[39m=\u001b[39;49mcopy)\n\u001b[0;32m    300\u001b[0m \u001b[39mexcept\u001b[39;00m (\u001b[39mValueError\u001b[39;00m, \u001b[39mTypeError\u001b[39;00m):\n\u001b[0;32m    301\u001b[0m     \u001b[39m# e.g. astype_nansafe can fail on object-dtype of strings\u001b[39;00m\n\u001b[0;32m    302\u001b[0m     \u001b[39m#  trying to convert to float\u001b[39;00m\n\u001b[0;32m    303\u001b[0m     \u001b[39mif\u001b[39;00m errors \u001b[39m==\u001b[39m \u001b[39m\"\u001b[39m\u001b[39mignore\u001b[39m\u001b[39m\"\u001b[39m:\n",
      "File \u001b[1;32mc:\\Users\\nvic\\Desktop\\Exercise\\venv_win\\lib\\site-packages\\pandas\\core\\dtypes\\astype.py:230\u001b[0m, in \u001b[0;36mastype_array\u001b[1;34m(values, dtype, copy)\u001b[0m\n\u001b[0;32m    227\u001b[0m     values \u001b[39m=\u001b[39m values\u001b[39m.\u001b[39mastype(dtype, copy\u001b[39m=\u001b[39mcopy)\n\u001b[0;32m    229\u001b[0m \u001b[39melse\u001b[39;00m:\n\u001b[1;32m--> 230\u001b[0m     values \u001b[39m=\u001b[39m astype_nansafe(values, dtype, copy\u001b[39m=\u001b[39;49mcopy)\n\u001b[0;32m    232\u001b[0m \u001b[39m# in pandas we don't store numpy str dtypes, so convert to object\u001b[39;00m\n\u001b[0;32m    233\u001b[0m \u001b[39mif\u001b[39;00m \u001b[39misinstance\u001b[39m(dtype, np\u001b[39m.\u001b[39mdtype) \u001b[39mand\u001b[39;00m \u001b[39missubclass\u001b[39m(values\u001b[39m.\u001b[39mdtype\u001b[39m.\u001b[39mtype, \u001b[39mstr\u001b[39m):\n",
      "File \u001b[1;32mc:\\Users\\nvic\\Desktop\\Exercise\\venv_win\\lib\\site-packages\\pandas\\core\\dtypes\\astype.py:170\u001b[0m, in \u001b[0;36mastype_nansafe\u001b[1;34m(arr, dtype, copy, skipna)\u001b[0m\n\u001b[0;32m    166\u001b[0m     \u001b[39mraise\u001b[39;00m \u001b[39mValueError\u001b[39;00m(msg)\n\u001b[0;32m    168\u001b[0m \u001b[39mif\u001b[39;00m copy \u001b[39mor\u001b[39;00m is_object_dtype(arr\u001b[39m.\u001b[39mdtype) \u001b[39mor\u001b[39;00m is_object_dtype(dtype):\n\u001b[0;32m    169\u001b[0m     \u001b[39m# Explicit copy, or required since NumPy can't view from / to object.\u001b[39;00m\n\u001b[1;32m--> 170\u001b[0m     \u001b[39mreturn\u001b[39;00m arr\u001b[39m.\u001b[39;49mastype(dtype, copy\u001b[39m=\u001b[39;49m\u001b[39mTrue\u001b[39;49;00m)\n\u001b[0;32m    172\u001b[0m \u001b[39mreturn\u001b[39;00m arr\u001b[39m.\u001b[39mastype(dtype, copy\u001b[39m=\u001b[39mcopy)\n",
      "\u001b[1;31mValueError\u001b[0m: invalid literal for int() with base 10: '---'"
     ]
    }
   ],
   "source": [
    "# Same like in pm10, try directly casting to int\n",
    "raw_dataset.pm25 = raw_dataset.pm25.astype(int)"
   ]
  },
  {
   "cell_type": "code",
   "execution_count": 26,
   "id": "23640cfc",
   "metadata": {},
   "outputs": [],
   "source": [
    "# Same error occurs, so we will replace it with -1 like before"
   ]
  },
  {
   "cell_type": "code",
   "execution_count": 27,
   "id": "3bbc811d",
   "metadata": {},
   "outputs": [],
   "source": [
    "# From analyzing in pm10 we know that pm25 has NaN value, so we just replace it with -1\n",
    "raw_dataset.pm25.fillna(-1, inplace = True)"
   ]
  },
  {
   "cell_type": "code",
   "execution_count": 28,
   "id": "174c40ae",
   "metadata": {},
   "outputs": [],
   "source": [
    "# Also replace \"---\" with -1\n",
    "raw_dataset.pm25 = raw_dataset.pm25.replace(\"---\", -1).astype(int)"
   ]
  },
  {
   "cell_type": "code",
   "execution_count": 29,
   "id": "59fafafb",
   "metadata": {},
   "outputs": [
    {
     "name": "stdout",
     "output_type": "stream",
     "text": [
      "<class 'pandas.core.frame.DataFrame'>\n",
      "RangeIndex: 1830 entries, 0 to 1829\n",
      "Data columns (total 11 columns):\n",
      " #   Column    Non-Null Count  Dtype         \n",
      "---  ------    --------------  -----         \n",
      " 0   tanggal   1830 non-null   datetime64[ns]\n",
      " 1   stasiun   1830 non-null   object        \n",
      " 2   pm10      1830 non-null   int32         \n",
      " 3   pm25      1830 non-null   int32         \n",
      " 4   so2       1830 non-null   object        \n",
      " 5   co        1830 non-null   object        \n",
      " 6   o3        1830 non-null   object        \n",
      " 7   no2       1830 non-null   object        \n",
      " 8   max       1830 non-null   object        \n",
      " 9   critical  1813 non-null   object        \n",
      " 10  categori  1829 non-null   object        \n",
      "dtypes: datetime64[ns](1), int32(2), object(8)\n",
      "memory usage: 143.1+ KB\n"
     ]
    }
   ],
   "source": [
    "# Check the result\n",
    "raw_dataset.info()"
   ]
  },
  {
   "cell_type": "code",
   "execution_count": 30,
   "id": "9db92e91",
   "metadata": {},
   "outputs": [],
   "source": [
    "# We do this to all variables"
   ]
  },
  {
   "cell_type": "markdown",
   "id": "35edfc2f",
   "metadata": {},
   "source": [
    "#### 3.4.4. Handling Variable \"SO2\""
   ]
  },
  {
   "cell_type": "code",
   "execution_count": 31,
   "id": "76788561",
   "metadata": {},
   "outputs": [
    {
     "ename": "ValueError",
     "evalue": "invalid literal for int() with base 10: '---'",
     "output_type": "error",
     "traceback": [
      "\u001b[1;31m---------------------------------------------------------------------------\u001b[0m",
      "\u001b[1;31mValueError\u001b[0m                                Traceback (most recent call last)",
      "Cell \u001b[1;32mIn [31], line 1\u001b[0m\n\u001b[1;32m----> 1\u001b[0m raw_dataset\u001b[39m.\u001b[39mso2 \u001b[39m=\u001b[39m raw_dataset\u001b[39m.\u001b[39;49mso2\u001b[39m.\u001b[39;49mastype(\u001b[39mint\u001b[39;49m)\n",
      "File \u001b[1;32mc:\\Users\\nvic\\Desktop\\Exercise\\venv_win\\lib\\site-packages\\pandas\\core\\generic.py:6245\u001b[0m, in \u001b[0;36mNDFrame.astype\u001b[1;34m(self, dtype, copy, errors)\u001b[0m\n\u001b[0;32m   6238\u001b[0m     results \u001b[39m=\u001b[39m [\n\u001b[0;32m   6239\u001b[0m         \u001b[39mself\u001b[39m\u001b[39m.\u001b[39miloc[:, i]\u001b[39m.\u001b[39mastype(dtype, copy\u001b[39m=\u001b[39mcopy)\n\u001b[0;32m   6240\u001b[0m         \u001b[39mfor\u001b[39;00m i \u001b[39min\u001b[39;00m \u001b[39mrange\u001b[39m(\u001b[39mlen\u001b[39m(\u001b[39mself\u001b[39m\u001b[39m.\u001b[39mcolumns))\n\u001b[0;32m   6241\u001b[0m     ]\n\u001b[0;32m   6243\u001b[0m \u001b[39melse\u001b[39;00m:\n\u001b[0;32m   6244\u001b[0m     \u001b[39m# else, only a single dtype is given\u001b[39;00m\n\u001b[1;32m-> 6245\u001b[0m     new_data \u001b[39m=\u001b[39m \u001b[39mself\u001b[39;49m\u001b[39m.\u001b[39;49m_mgr\u001b[39m.\u001b[39;49mastype(dtype\u001b[39m=\u001b[39;49mdtype, copy\u001b[39m=\u001b[39;49mcopy, errors\u001b[39m=\u001b[39;49merrors)\n\u001b[0;32m   6246\u001b[0m     \u001b[39mreturn\u001b[39;00m \u001b[39mself\u001b[39m\u001b[39m.\u001b[39m_constructor(new_data)\u001b[39m.\u001b[39m__finalize__(\u001b[39mself\u001b[39m, method\u001b[39m=\u001b[39m\u001b[39m\"\u001b[39m\u001b[39mastype\u001b[39m\u001b[39m\"\u001b[39m)\n\u001b[0;32m   6248\u001b[0m \u001b[39m# GH 33113: handle empty frame or series\u001b[39;00m\n",
      "File \u001b[1;32mc:\\Users\\nvic\\Desktop\\Exercise\\venv_win\\lib\\site-packages\\pandas\\core\\internals\\managers.py:446\u001b[0m, in \u001b[0;36mBaseBlockManager.astype\u001b[1;34m(self, dtype, copy, errors)\u001b[0m\n\u001b[0;32m    445\u001b[0m \u001b[39mdef\u001b[39;00m \u001b[39mastype\u001b[39m(\u001b[39mself\u001b[39m: T, dtype, copy: \u001b[39mbool\u001b[39m \u001b[39m=\u001b[39m \u001b[39mFalse\u001b[39;00m, errors: \u001b[39mstr\u001b[39m \u001b[39m=\u001b[39m \u001b[39m\"\u001b[39m\u001b[39mraise\u001b[39m\u001b[39m\"\u001b[39m) \u001b[39m-\u001b[39m\u001b[39m>\u001b[39m T:\n\u001b[1;32m--> 446\u001b[0m     \u001b[39mreturn\u001b[39;00m \u001b[39mself\u001b[39;49m\u001b[39m.\u001b[39;49mapply(\u001b[39m\"\u001b[39;49m\u001b[39mastype\u001b[39;49m\u001b[39m\"\u001b[39;49m, dtype\u001b[39m=\u001b[39;49mdtype, copy\u001b[39m=\u001b[39;49mcopy, errors\u001b[39m=\u001b[39;49merrors)\n",
      "File \u001b[1;32mc:\\Users\\nvic\\Desktop\\Exercise\\venv_win\\lib\\site-packages\\pandas\\core\\internals\\managers.py:348\u001b[0m, in \u001b[0;36mBaseBlockManager.apply\u001b[1;34m(self, f, align_keys, ignore_failures, **kwargs)\u001b[0m\n\u001b[0;32m    346\u001b[0m         applied \u001b[39m=\u001b[39m b\u001b[39m.\u001b[39mapply(f, \u001b[39m*\u001b[39m\u001b[39m*\u001b[39mkwargs)\n\u001b[0;32m    347\u001b[0m     \u001b[39melse\u001b[39;00m:\n\u001b[1;32m--> 348\u001b[0m         applied \u001b[39m=\u001b[39m \u001b[39mgetattr\u001b[39m(b, f)(\u001b[39m*\u001b[39m\u001b[39m*\u001b[39mkwargs)\n\u001b[0;32m    349\u001b[0m \u001b[39mexcept\u001b[39;00m (\u001b[39mTypeError\u001b[39;00m, \u001b[39mNotImplementedError\u001b[39;00m):\n\u001b[0;32m    350\u001b[0m     \u001b[39mif\u001b[39;00m \u001b[39mnot\u001b[39;00m ignore_failures:\n",
      "File \u001b[1;32mc:\\Users\\nvic\\Desktop\\Exercise\\venv_win\\lib\\site-packages\\pandas\\core\\internals\\blocks.py:527\u001b[0m, in \u001b[0;36mBlock.astype\u001b[1;34m(self, dtype, copy, errors)\u001b[0m\n\u001b[0;32m    509\u001b[0m \u001b[39m\"\"\"\u001b[39;00m\n\u001b[0;32m    510\u001b[0m \u001b[39mCoerce to the new dtype.\u001b[39;00m\n\u001b[0;32m    511\u001b[0m \n\u001b[1;32m   (...)\u001b[0m\n\u001b[0;32m    523\u001b[0m \u001b[39mBlock\u001b[39;00m\n\u001b[0;32m    524\u001b[0m \u001b[39m\"\"\"\u001b[39;00m\n\u001b[0;32m    525\u001b[0m values \u001b[39m=\u001b[39m \u001b[39mself\u001b[39m\u001b[39m.\u001b[39mvalues\n\u001b[1;32m--> 527\u001b[0m new_values \u001b[39m=\u001b[39m astype_array_safe(values, dtype, copy\u001b[39m=\u001b[39;49mcopy, errors\u001b[39m=\u001b[39;49merrors)\n\u001b[0;32m    529\u001b[0m new_values \u001b[39m=\u001b[39m maybe_coerce_values(new_values)\n\u001b[0;32m    530\u001b[0m newb \u001b[39m=\u001b[39m \u001b[39mself\u001b[39m\u001b[39m.\u001b[39mmake_block(new_values)\n",
      "File \u001b[1;32mc:\\Users\\nvic\\Desktop\\Exercise\\venv_win\\lib\\site-packages\\pandas\\core\\dtypes\\astype.py:299\u001b[0m, in \u001b[0;36mastype_array_safe\u001b[1;34m(values, dtype, copy, errors)\u001b[0m\n\u001b[0;32m    296\u001b[0m     \u001b[39mreturn\u001b[39;00m values\u001b[39m.\u001b[39mcopy()\n\u001b[0;32m    298\u001b[0m \u001b[39mtry\u001b[39;00m:\n\u001b[1;32m--> 299\u001b[0m     new_values \u001b[39m=\u001b[39m astype_array(values, dtype, copy\u001b[39m=\u001b[39;49mcopy)\n\u001b[0;32m    300\u001b[0m \u001b[39mexcept\u001b[39;00m (\u001b[39mValueError\u001b[39;00m, \u001b[39mTypeError\u001b[39;00m):\n\u001b[0;32m    301\u001b[0m     \u001b[39m# e.g. astype_nansafe can fail on object-dtype of strings\u001b[39;00m\n\u001b[0;32m    302\u001b[0m     \u001b[39m#  trying to convert to float\u001b[39;00m\n\u001b[0;32m    303\u001b[0m     \u001b[39mif\u001b[39;00m errors \u001b[39m==\u001b[39m \u001b[39m\"\u001b[39m\u001b[39mignore\u001b[39m\u001b[39m\"\u001b[39m:\n",
      "File \u001b[1;32mc:\\Users\\nvic\\Desktop\\Exercise\\venv_win\\lib\\site-packages\\pandas\\core\\dtypes\\astype.py:230\u001b[0m, in \u001b[0;36mastype_array\u001b[1;34m(values, dtype, copy)\u001b[0m\n\u001b[0;32m    227\u001b[0m     values \u001b[39m=\u001b[39m values\u001b[39m.\u001b[39mastype(dtype, copy\u001b[39m=\u001b[39mcopy)\n\u001b[0;32m    229\u001b[0m \u001b[39melse\u001b[39;00m:\n\u001b[1;32m--> 230\u001b[0m     values \u001b[39m=\u001b[39m astype_nansafe(values, dtype, copy\u001b[39m=\u001b[39;49mcopy)\n\u001b[0;32m    232\u001b[0m \u001b[39m# in pandas we don't store numpy str dtypes, so convert to object\u001b[39;00m\n\u001b[0;32m    233\u001b[0m \u001b[39mif\u001b[39;00m \u001b[39misinstance\u001b[39m(dtype, np\u001b[39m.\u001b[39mdtype) \u001b[39mand\u001b[39;00m \u001b[39missubclass\u001b[39m(values\u001b[39m.\u001b[39mdtype\u001b[39m.\u001b[39mtype, \u001b[39mstr\u001b[39m):\n",
      "File \u001b[1;32mc:\\Users\\nvic\\Desktop\\Exercise\\venv_win\\lib\\site-packages\\pandas\\core\\dtypes\\astype.py:170\u001b[0m, in \u001b[0;36mastype_nansafe\u001b[1;34m(arr, dtype, copy, skipna)\u001b[0m\n\u001b[0;32m    166\u001b[0m     \u001b[39mraise\u001b[39;00m \u001b[39mValueError\u001b[39;00m(msg)\n\u001b[0;32m    168\u001b[0m \u001b[39mif\u001b[39;00m copy \u001b[39mor\u001b[39;00m is_object_dtype(arr\u001b[39m.\u001b[39mdtype) \u001b[39mor\u001b[39;00m is_object_dtype(dtype):\n\u001b[0;32m    169\u001b[0m     \u001b[39m# Explicit copy, or required since NumPy can't view from / to object.\u001b[39;00m\n\u001b[1;32m--> 170\u001b[0m     \u001b[39mreturn\u001b[39;00m arr\u001b[39m.\u001b[39;49mastype(dtype, copy\u001b[39m=\u001b[39;49m\u001b[39mTrue\u001b[39;49;00m)\n\u001b[0;32m    172\u001b[0m \u001b[39mreturn\u001b[39;00m arr\u001b[39m.\u001b[39mastype(dtype, copy\u001b[39m=\u001b[39mcopy)\n",
      "\u001b[1;31mValueError\u001b[0m: invalid literal for int() with base 10: '---'"
     ]
    }
   ],
   "source": [
    "raw_dataset.so2 = raw_dataset.so2.astype(int)"
   ]
  },
  {
   "cell_type": "code",
   "execution_count": 32,
   "id": "c717194b",
   "metadata": {},
   "outputs": [],
   "source": [
    "raw_dataset.so2 = raw_dataset.so2.replace(\"---\", -1).astype(int)"
   ]
  },
  {
   "cell_type": "code",
   "execution_count": 33,
   "id": "e68ab65b",
   "metadata": {},
   "outputs": [
    {
     "name": "stdout",
     "output_type": "stream",
     "text": [
      "<class 'pandas.core.frame.DataFrame'>\n",
      "RangeIndex: 1830 entries, 0 to 1829\n",
      "Data columns (total 11 columns):\n",
      " #   Column    Non-Null Count  Dtype         \n",
      "---  ------    --------------  -----         \n",
      " 0   tanggal   1830 non-null   datetime64[ns]\n",
      " 1   stasiun   1830 non-null   object        \n",
      " 2   pm10      1830 non-null   int32         \n",
      " 3   pm25      1830 non-null   int32         \n",
      " 4   so2       1830 non-null   int32         \n",
      " 5   co        1830 non-null   object        \n",
      " 6   o3        1830 non-null   object        \n",
      " 7   no2       1830 non-null   object        \n",
      " 8   max       1830 non-null   object        \n",
      " 9   critical  1813 non-null   object        \n",
      " 10  categori  1829 non-null   object        \n",
      "dtypes: datetime64[ns](1), int32(3), object(7)\n",
      "memory usage: 135.9+ KB\n"
     ]
    }
   ],
   "source": [
    "raw_dataset.info()"
   ]
  },
  {
   "cell_type": "markdown",
   "id": "b72244f1",
   "metadata": {},
   "source": [
    "#### 3.4.5. Handling Variable \"CO\""
   ]
  },
  {
   "cell_type": "code",
   "execution_count": 34,
   "id": "c8d4be6d",
   "metadata": {},
   "outputs": [
    {
     "ename": "ValueError",
     "evalue": "invalid literal for int() with base 10: '---'",
     "output_type": "error",
     "traceback": [
      "\u001b[1;31m---------------------------------------------------------------------------\u001b[0m",
      "\u001b[1;31mValueError\u001b[0m                                Traceback (most recent call last)",
      "Cell \u001b[1;32mIn [34], line 1\u001b[0m\n\u001b[1;32m----> 1\u001b[0m raw_dataset\u001b[39m.\u001b[39mco \u001b[39m=\u001b[39m raw_dataset\u001b[39m.\u001b[39;49mco\u001b[39m.\u001b[39;49mastype(\u001b[39mint\u001b[39;49m)\n",
      "File \u001b[1;32mc:\\Users\\nvic\\Desktop\\Exercise\\venv_win\\lib\\site-packages\\pandas\\core\\generic.py:6245\u001b[0m, in \u001b[0;36mNDFrame.astype\u001b[1;34m(self, dtype, copy, errors)\u001b[0m\n\u001b[0;32m   6238\u001b[0m     results \u001b[39m=\u001b[39m [\n\u001b[0;32m   6239\u001b[0m         \u001b[39mself\u001b[39m\u001b[39m.\u001b[39miloc[:, i]\u001b[39m.\u001b[39mastype(dtype, copy\u001b[39m=\u001b[39mcopy)\n\u001b[0;32m   6240\u001b[0m         \u001b[39mfor\u001b[39;00m i \u001b[39min\u001b[39;00m \u001b[39mrange\u001b[39m(\u001b[39mlen\u001b[39m(\u001b[39mself\u001b[39m\u001b[39m.\u001b[39mcolumns))\n\u001b[0;32m   6241\u001b[0m     ]\n\u001b[0;32m   6243\u001b[0m \u001b[39melse\u001b[39;00m:\n\u001b[0;32m   6244\u001b[0m     \u001b[39m# else, only a single dtype is given\u001b[39;00m\n\u001b[1;32m-> 6245\u001b[0m     new_data \u001b[39m=\u001b[39m \u001b[39mself\u001b[39;49m\u001b[39m.\u001b[39;49m_mgr\u001b[39m.\u001b[39;49mastype(dtype\u001b[39m=\u001b[39;49mdtype, copy\u001b[39m=\u001b[39;49mcopy, errors\u001b[39m=\u001b[39;49merrors)\n\u001b[0;32m   6246\u001b[0m     \u001b[39mreturn\u001b[39;00m \u001b[39mself\u001b[39m\u001b[39m.\u001b[39m_constructor(new_data)\u001b[39m.\u001b[39m__finalize__(\u001b[39mself\u001b[39m, method\u001b[39m=\u001b[39m\u001b[39m\"\u001b[39m\u001b[39mastype\u001b[39m\u001b[39m\"\u001b[39m)\n\u001b[0;32m   6248\u001b[0m \u001b[39m# GH 33113: handle empty frame or series\u001b[39;00m\n",
      "File \u001b[1;32mc:\\Users\\nvic\\Desktop\\Exercise\\venv_win\\lib\\site-packages\\pandas\\core\\internals\\managers.py:446\u001b[0m, in \u001b[0;36mBaseBlockManager.astype\u001b[1;34m(self, dtype, copy, errors)\u001b[0m\n\u001b[0;32m    445\u001b[0m \u001b[39mdef\u001b[39;00m \u001b[39mastype\u001b[39m(\u001b[39mself\u001b[39m: T, dtype, copy: \u001b[39mbool\u001b[39m \u001b[39m=\u001b[39m \u001b[39mFalse\u001b[39;00m, errors: \u001b[39mstr\u001b[39m \u001b[39m=\u001b[39m \u001b[39m\"\u001b[39m\u001b[39mraise\u001b[39m\u001b[39m\"\u001b[39m) \u001b[39m-\u001b[39m\u001b[39m>\u001b[39m T:\n\u001b[1;32m--> 446\u001b[0m     \u001b[39mreturn\u001b[39;00m \u001b[39mself\u001b[39;49m\u001b[39m.\u001b[39;49mapply(\u001b[39m\"\u001b[39;49m\u001b[39mastype\u001b[39;49m\u001b[39m\"\u001b[39;49m, dtype\u001b[39m=\u001b[39;49mdtype, copy\u001b[39m=\u001b[39;49mcopy, errors\u001b[39m=\u001b[39;49merrors)\n",
      "File \u001b[1;32mc:\\Users\\nvic\\Desktop\\Exercise\\venv_win\\lib\\site-packages\\pandas\\core\\internals\\managers.py:348\u001b[0m, in \u001b[0;36mBaseBlockManager.apply\u001b[1;34m(self, f, align_keys, ignore_failures, **kwargs)\u001b[0m\n\u001b[0;32m    346\u001b[0m         applied \u001b[39m=\u001b[39m b\u001b[39m.\u001b[39mapply(f, \u001b[39m*\u001b[39m\u001b[39m*\u001b[39mkwargs)\n\u001b[0;32m    347\u001b[0m     \u001b[39melse\u001b[39;00m:\n\u001b[1;32m--> 348\u001b[0m         applied \u001b[39m=\u001b[39m \u001b[39mgetattr\u001b[39m(b, f)(\u001b[39m*\u001b[39m\u001b[39m*\u001b[39mkwargs)\n\u001b[0;32m    349\u001b[0m \u001b[39mexcept\u001b[39;00m (\u001b[39mTypeError\u001b[39;00m, \u001b[39mNotImplementedError\u001b[39;00m):\n\u001b[0;32m    350\u001b[0m     \u001b[39mif\u001b[39;00m \u001b[39mnot\u001b[39;00m ignore_failures:\n",
      "File \u001b[1;32mc:\\Users\\nvic\\Desktop\\Exercise\\venv_win\\lib\\site-packages\\pandas\\core\\internals\\blocks.py:527\u001b[0m, in \u001b[0;36mBlock.astype\u001b[1;34m(self, dtype, copy, errors)\u001b[0m\n\u001b[0;32m    509\u001b[0m \u001b[39m\"\"\"\u001b[39;00m\n\u001b[0;32m    510\u001b[0m \u001b[39mCoerce to the new dtype.\u001b[39;00m\n\u001b[0;32m    511\u001b[0m \n\u001b[1;32m   (...)\u001b[0m\n\u001b[0;32m    523\u001b[0m \u001b[39mBlock\u001b[39;00m\n\u001b[0;32m    524\u001b[0m \u001b[39m\"\"\"\u001b[39;00m\n\u001b[0;32m    525\u001b[0m values \u001b[39m=\u001b[39m \u001b[39mself\u001b[39m\u001b[39m.\u001b[39mvalues\n\u001b[1;32m--> 527\u001b[0m new_values \u001b[39m=\u001b[39m astype_array_safe(values, dtype, copy\u001b[39m=\u001b[39;49mcopy, errors\u001b[39m=\u001b[39;49merrors)\n\u001b[0;32m    529\u001b[0m new_values \u001b[39m=\u001b[39m maybe_coerce_values(new_values)\n\u001b[0;32m    530\u001b[0m newb \u001b[39m=\u001b[39m \u001b[39mself\u001b[39m\u001b[39m.\u001b[39mmake_block(new_values)\n",
      "File \u001b[1;32mc:\\Users\\nvic\\Desktop\\Exercise\\venv_win\\lib\\site-packages\\pandas\\core\\dtypes\\astype.py:299\u001b[0m, in \u001b[0;36mastype_array_safe\u001b[1;34m(values, dtype, copy, errors)\u001b[0m\n\u001b[0;32m    296\u001b[0m     \u001b[39mreturn\u001b[39;00m values\u001b[39m.\u001b[39mcopy()\n\u001b[0;32m    298\u001b[0m \u001b[39mtry\u001b[39;00m:\n\u001b[1;32m--> 299\u001b[0m     new_values \u001b[39m=\u001b[39m astype_array(values, dtype, copy\u001b[39m=\u001b[39;49mcopy)\n\u001b[0;32m    300\u001b[0m \u001b[39mexcept\u001b[39;00m (\u001b[39mValueError\u001b[39;00m, \u001b[39mTypeError\u001b[39;00m):\n\u001b[0;32m    301\u001b[0m     \u001b[39m# e.g. astype_nansafe can fail on object-dtype of strings\u001b[39;00m\n\u001b[0;32m    302\u001b[0m     \u001b[39m#  trying to convert to float\u001b[39;00m\n\u001b[0;32m    303\u001b[0m     \u001b[39mif\u001b[39;00m errors \u001b[39m==\u001b[39m \u001b[39m\"\u001b[39m\u001b[39mignore\u001b[39m\u001b[39m\"\u001b[39m:\n",
      "File \u001b[1;32mc:\\Users\\nvic\\Desktop\\Exercise\\venv_win\\lib\\site-packages\\pandas\\core\\dtypes\\astype.py:230\u001b[0m, in \u001b[0;36mastype_array\u001b[1;34m(values, dtype, copy)\u001b[0m\n\u001b[0;32m    227\u001b[0m     values \u001b[39m=\u001b[39m values\u001b[39m.\u001b[39mastype(dtype, copy\u001b[39m=\u001b[39mcopy)\n\u001b[0;32m    229\u001b[0m \u001b[39melse\u001b[39;00m:\n\u001b[1;32m--> 230\u001b[0m     values \u001b[39m=\u001b[39m astype_nansafe(values, dtype, copy\u001b[39m=\u001b[39;49mcopy)\n\u001b[0;32m    232\u001b[0m \u001b[39m# in pandas we don't store numpy str dtypes, so convert to object\u001b[39;00m\n\u001b[0;32m    233\u001b[0m \u001b[39mif\u001b[39;00m \u001b[39misinstance\u001b[39m(dtype, np\u001b[39m.\u001b[39mdtype) \u001b[39mand\u001b[39;00m \u001b[39missubclass\u001b[39m(values\u001b[39m.\u001b[39mdtype\u001b[39m.\u001b[39mtype, \u001b[39mstr\u001b[39m):\n",
      "File \u001b[1;32mc:\\Users\\nvic\\Desktop\\Exercise\\venv_win\\lib\\site-packages\\pandas\\core\\dtypes\\astype.py:170\u001b[0m, in \u001b[0;36mastype_nansafe\u001b[1;34m(arr, dtype, copy, skipna)\u001b[0m\n\u001b[0;32m    166\u001b[0m     \u001b[39mraise\u001b[39;00m \u001b[39mValueError\u001b[39;00m(msg)\n\u001b[0;32m    168\u001b[0m \u001b[39mif\u001b[39;00m copy \u001b[39mor\u001b[39;00m is_object_dtype(arr\u001b[39m.\u001b[39mdtype) \u001b[39mor\u001b[39;00m is_object_dtype(dtype):\n\u001b[0;32m    169\u001b[0m     \u001b[39m# Explicit copy, or required since NumPy can't view from / to object.\u001b[39;00m\n\u001b[1;32m--> 170\u001b[0m     \u001b[39mreturn\u001b[39;00m arr\u001b[39m.\u001b[39;49mastype(dtype, copy\u001b[39m=\u001b[39;49m\u001b[39mTrue\u001b[39;49;00m)\n\u001b[0;32m    172\u001b[0m \u001b[39mreturn\u001b[39;00m arr\u001b[39m.\u001b[39mastype(dtype, copy\u001b[39m=\u001b[39mcopy)\n",
      "\u001b[1;31mValueError\u001b[0m: invalid literal for int() with base 10: '---'"
     ]
    }
   ],
   "source": [
    "raw_dataset.co = raw_dataset.co.astype(int)"
   ]
  },
  {
   "cell_type": "code",
   "execution_count": 35,
   "id": "0dfdfc9e",
   "metadata": {},
   "outputs": [],
   "source": [
    "raw_dataset.co = raw_dataset.co.replace(\"---\", -1).astype(int)"
   ]
  },
  {
   "cell_type": "code",
   "execution_count": 36,
   "id": "5b5abbcd",
   "metadata": {},
   "outputs": [
    {
     "name": "stdout",
     "output_type": "stream",
     "text": [
      "<class 'pandas.core.frame.DataFrame'>\n",
      "RangeIndex: 1830 entries, 0 to 1829\n",
      "Data columns (total 11 columns):\n",
      " #   Column    Non-Null Count  Dtype         \n",
      "---  ------    --------------  -----         \n",
      " 0   tanggal   1830 non-null   datetime64[ns]\n",
      " 1   stasiun   1830 non-null   object        \n",
      " 2   pm10      1830 non-null   int32         \n",
      " 3   pm25      1830 non-null   int32         \n",
      " 4   so2       1830 non-null   int32         \n",
      " 5   co        1830 non-null   int32         \n",
      " 6   o3        1830 non-null   object        \n",
      " 7   no2       1830 non-null   object        \n",
      " 8   max       1830 non-null   object        \n",
      " 9   critical  1813 non-null   object        \n",
      " 10  categori  1829 non-null   object        \n",
      "dtypes: datetime64[ns](1), int32(4), object(6)\n",
      "memory usage: 128.8+ KB\n"
     ]
    }
   ],
   "source": [
    "raw_dataset.info()"
   ]
  },
  {
   "cell_type": "markdown",
   "id": "3a0917c6",
   "metadata": {},
   "source": [
    "#### 3.4.6. Handling Variable \"O3\""
   ]
  },
  {
   "cell_type": "code",
   "execution_count": 37,
   "id": "e874ae5a",
   "metadata": {},
   "outputs": [
    {
     "ename": "ValueError",
     "evalue": "invalid literal for int() with base 10: '---'",
     "output_type": "error",
     "traceback": [
      "\u001b[1;31m---------------------------------------------------------------------------\u001b[0m",
      "\u001b[1;31mValueError\u001b[0m                                Traceback (most recent call last)",
      "Cell \u001b[1;32mIn [37], line 1\u001b[0m\n\u001b[1;32m----> 1\u001b[0m raw_dataset\u001b[39m.\u001b[39mo3 \u001b[39m=\u001b[39m raw_dataset\u001b[39m.\u001b[39;49mo3\u001b[39m.\u001b[39;49mastype(\u001b[39mint\u001b[39;49m)\n",
      "File \u001b[1;32mc:\\Users\\nvic\\Desktop\\Exercise\\venv_win\\lib\\site-packages\\pandas\\core\\generic.py:6245\u001b[0m, in \u001b[0;36mNDFrame.astype\u001b[1;34m(self, dtype, copy, errors)\u001b[0m\n\u001b[0;32m   6238\u001b[0m     results \u001b[39m=\u001b[39m [\n\u001b[0;32m   6239\u001b[0m         \u001b[39mself\u001b[39m\u001b[39m.\u001b[39miloc[:, i]\u001b[39m.\u001b[39mastype(dtype, copy\u001b[39m=\u001b[39mcopy)\n\u001b[0;32m   6240\u001b[0m         \u001b[39mfor\u001b[39;00m i \u001b[39min\u001b[39;00m \u001b[39mrange\u001b[39m(\u001b[39mlen\u001b[39m(\u001b[39mself\u001b[39m\u001b[39m.\u001b[39mcolumns))\n\u001b[0;32m   6241\u001b[0m     ]\n\u001b[0;32m   6243\u001b[0m \u001b[39melse\u001b[39;00m:\n\u001b[0;32m   6244\u001b[0m     \u001b[39m# else, only a single dtype is given\u001b[39;00m\n\u001b[1;32m-> 6245\u001b[0m     new_data \u001b[39m=\u001b[39m \u001b[39mself\u001b[39;49m\u001b[39m.\u001b[39;49m_mgr\u001b[39m.\u001b[39;49mastype(dtype\u001b[39m=\u001b[39;49mdtype, copy\u001b[39m=\u001b[39;49mcopy, errors\u001b[39m=\u001b[39;49merrors)\n\u001b[0;32m   6246\u001b[0m     \u001b[39mreturn\u001b[39;00m \u001b[39mself\u001b[39m\u001b[39m.\u001b[39m_constructor(new_data)\u001b[39m.\u001b[39m__finalize__(\u001b[39mself\u001b[39m, method\u001b[39m=\u001b[39m\u001b[39m\"\u001b[39m\u001b[39mastype\u001b[39m\u001b[39m\"\u001b[39m)\n\u001b[0;32m   6248\u001b[0m \u001b[39m# GH 33113: handle empty frame or series\u001b[39;00m\n",
      "File \u001b[1;32mc:\\Users\\nvic\\Desktop\\Exercise\\venv_win\\lib\\site-packages\\pandas\\core\\internals\\managers.py:446\u001b[0m, in \u001b[0;36mBaseBlockManager.astype\u001b[1;34m(self, dtype, copy, errors)\u001b[0m\n\u001b[0;32m    445\u001b[0m \u001b[39mdef\u001b[39;00m \u001b[39mastype\u001b[39m(\u001b[39mself\u001b[39m: T, dtype, copy: \u001b[39mbool\u001b[39m \u001b[39m=\u001b[39m \u001b[39mFalse\u001b[39;00m, errors: \u001b[39mstr\u001b[39m \u001b[39m=\u001b[39m \u001b[39m\"\u001b[39m\u001b[39mraise\u001b[39m\u001b[39m\"\u001b[39m) \u001b[39m-\u001b[39m\u001b[39m>\u001b[39m T:\n\u001b[1;32m--> 446\u001b[0m     \u001b[39mreturn\u001b[39;00m \u001b[39mself\u001b[39;49m\u001b[39m.\u001b[39;49mapply(\u001b[39m\"\u001b[39;49m\u001b[39mastype\u001b[39;49m\u001b[39m\"\u001b[39;49m, dtype\u001b[39m=\u001b[39;49mdtype, copy\u001b[39m=\u001b[39;49mcopy, errors\u001b[39m=\u001b[39;49merrors)\n",
      "File \u001b[1;32mc:\\Users\\nvic\\Desktop\\Exercise\\venv_win\\lib\\site-packages\\pandas\\core\\internals\\managers.py:348\u001b[0m, in \u001b[0;36mBaseBlockManager.apply\u001b[1;34m(self, f, align_keys, ignore_failures, **kwargs)\u001b[0m\n\u001b[0;32m    346\u001b[0m         applied \u001b[39m=\u001b[39m b\u001b[39m.\u001b[39mapply(f, \u001b[39m*\u001b[39m\u001b[39m*\u001b[39mkwargs)\n\u001b[0;32m    347\u001b[0m     \u001b[39melse\u001b[39;00m:\n\u001b[1;32m--> 348\u001b[0m         applied \u001b[39m=\u001b[39m \u001b[39mgetattr\u001b[39m(b, f)(\u001b[39m*\u001b[39m\u001b[39m*\u001b[39mkwargs)\n\u001b[0;32m    349\u001b[0m \u001b[39mexcept\u001b[39;00m (\u001b[39mTypeError\u001b[39;00m, \u001b[39mNotImplementedError\u001b[39;00m):\n\u001b[0;32m    350\u001b[0m     \u001b[39mif\u001b[39;00m \u001b[39mnot\u001b[39;00m ignore_failures:\n",
      "File \u001b[1;32mc:\\Users\\nvic\\Desktop\\Exercise\\venv_win\\lib\\site-packages\\pandas\\core\\internals\\blocks.py:527\u001b[0m, in \u001b[0;36mBlock.astype\u001b[1;34m(self, dtype, copy, errors)\u001b[0m\n\u001b[0;32m    509\u001b[0m \u001b[39m\"\"\"\u001b[39;00m\n\u001b[0;32m    510\u001b[0m \u001b[39mCoerce to the new dtype.\u001b[39;00m\n\u001b[0;32m    511\u001b[0m \n\u001b[1;32m   (...)\u001b[0m\n\u001b[0;32m    523\u001b[0m \u001b[39mBlock\u001b[39;00m\n\u001b[0;32m    524\u001b[0m \u001b[39m\"\"\"\u001b[39;00m\n\u001b[0;32m    525\u001b[0m values \u001b[39m=\u001b[39m \u001b[39mself\u001b[39m\u001b[39m.\u001b[39mvalues\n\u001b[1;32m--> 527\u001b[0m new_values \u001b[39m=\u001b[39m astype_array_safe(values, dtype, copy\u001b[39m=\u001b[39;49mcopy, errors\u001b[39m=\u001b[39;49merrors)\n\u001b[0;32m    529\u001b[0m new_values \u001b[39m=\u001b[39m maybe_coerce_values(new_values)\n\u001b[0;32m    530\u001b[0m newb \u001b[39m=\u001b[39m \u001b[39mself\u001b[39m\u001b[39m.\u001b[39mmake_block(new_values)\n",
      "File \u001b[1;32mc:\\Users\\nvic\\Desktop\\Exercise\\venv_win\\lib\\site-packages\\pandas\\core\\dtypes\\astype.py:299\u001b[0m, in \u001b[0;36mastype_array_safe\u001b[1;34m(values, dtype, copy, errors)\u001b[0m\n\u001b[0;32m    296\u001b[0m     \u001b[39mreturn\u001b[39;00m values\u001b[39m.\u001b[39mcopy()\n\u001b[0;32m    298\u001b[0m \u001b[39mtry\u001b[39;00m:\n\u001b[1;32m--> 299\u001b[0m     new_values \u001b[39m=\u001b[39m astype_array(values, dtype, copy\u001b[39m=\u001b[39;49mcopy)\n\u001b[0;32m    300\u001b[0m \u001b[39mexcept\u001b[39;00m (\u001b[39mValueError\u001b[39;00m, \u001b[39mTypeError\u001b[39;00m):\n\u001b[0;32m    301\u001b[0m     \u001b[39m# e.g. astype_nansafe can fail on object-dtype of strings\u001b[39;00m\n\u001b[0;32m    302\u001b[0m     \u001b[39m#  trying to convert to float\u001b[39;00m\n\u001b[0;32m    303\u001b[0m     \u001b[39mif\u001b[39;00m errors \u001b[39m==\u001b[39m \u001b[39m\"\u001b[39m\u001b[39mignore\u001b[39m\u001b[39m\"\u001b[39m:\n",
      "File \u001b[1;32mc:\\Users\\nvic\\Desktop\\Exercise\\venv_win\\lib\\site-packages\\pandas\\core\\dtypes\\astype.py:230\u001b[0m, in \u001b[0;36mastype_array\u001b[1;34m(values, dtype, copy)\u001b[0m\n\u001b[0;32m    227\u001b[0m     values \u001b[39m=\u001b[39m values\u001b[39m.\u001b[39mastype(dtype, copy\u001b[39m=\u001b[39mcopy)\n\u001b[0;32m    229\u001b[0m \u001b[39melse\u001b[39;00m:\n\u001b[1;32m--> 230\u001b[0m     values \u001b[39m=\u001b[39m astype_nansafe(values, dtype, copy\u001b[39m=\u001b[39;49mcopy)\n\u001b[0;32m    232\u001b[0m \u001b[39m# in pandas we don't store numpy str dtypes, so convert to object\u001b[39;00m\n\u001b[0;32m    233\u001b[0m \u001b[39mif\u001b[39;00m \u001b[39misinstance\u001b[39m(dtype, np\u001b[39m.\u001b[39mdtype) \u001b[39mand\u001b[39;00m \u001b[39missubclass\u001b[39m(values\u001b[39m.\u001b[39mdtype\u001b[39m.\u001b[39mtype, \u001b[39mstr\u001b[39m):\n",
      "File \u001b[1;32mc:\\Users\\nvic\\Desktop\\Exercise\\venv_win\\lib\\site-packages\\pandas\\core\\dtypes\\astype.py:170\u001b[0m, in \u001b[0;36mastype_nansafe\u001b[1;34m(arr, dtype, copy, skipna)\u001b[0m\n\u001b[0;32m    166\u001b[0m     \u001b[39mraise\u001b[39;00m \u001b[39mValueError\u001b[39;00m(msg)\n\u001b[0;32m    168\u001b[0m \u001b[39mif\u001b[39;00m copy \u001b[39mor\u001b[39;00m is_object_dtype(arr\u001b[39m.\u001b[39mdtype) \u001b[39mor\u001b[39;00m is_object_dtype(dtype):\n\u001b[0;32m    169\u001b[0m     \u001b[39m# Explicit copy, or required since NumPy can't view from / to object.\u001b[39;00m\n\u001b[1;32m--> 170\u001b[0m     \u001b[39mreturn\u001b[39;00m arr\u001b[39m.\u001b[39;49mastype(dtype, copy\u001b[39m=\u001b[39;49m\u001b[39mTrue\u001b[39;49;00m)\n\u001b[0;32m    172\u001b[0m \u001b[39mreturn\u001b[39;00m arr\u001b[39m.\u001b[39mastype(dtype, copy\u001b[39m=\u001b[39mcopy)\n",
      "\u001b[1;31mValueError\u001b[0m: invalid literal for int() with base 10: '---'"
     ]
    }
   ],
   "source": [
    "raw_dataset.o3 = raw_dataset.o3.astype(int)"
   ]
  },
  {
   "cell_type": "code",
   "execution_count": 38,
   "id": "78d8c4a9",
   "metadata": {},
   "outputs": [],
   "source": [
    "raw_dataset.o3 = raw_dataset.o3.replace(\"---\", -1).astype(int)"
   ]
  },
  {
   "cell_type": "code",
   "execution_count": 39,
   "id": "fd6682f4",
   "metadata": {},
   "outputs": [
    {
     "name": "stdout",
     "output_type": "stream",
     "text": [
      "<class 'pandas.core.frame.DataFrame'>\n",
      "RangeIndex: 1830 entries, 0 to 1829\n",
      "Data columns (total 11 columns):\n",
      " #   Column    Non-Null Count  Dtype         \n",
      "---  ------    --------------  -----         \n",
      " 0   tanggal   1830 non-null   datetime64[ns]\n",
      " 1   stasiun   1830 non-null   object        \n",
      " 2   pm10      1830 non-null   int32         \n",
      " 3   pm25      1830 non-null   int32         \n",
      " 4   so2       1830 non-null   int32         \n",
      " 5   co        1830 non-null   int32         \n",
      " 6   o3        1830 non-null   int32         \n",
      " 7   no2       1830 non-null   object        \n",
      " 8   max       1830 non-null   object        \n",
      " 9   critical  1813 non-null   object        \n",
      " 10  categori  1829 non-null   object        \n",
      "dtypes: datetime64[ns](1), int32(5), object(5)\n",
      "memory usage: 121.6+ KB\n"
     ]
    }
   ],
   "source": [
    "raw_dataset.info()"
   ]
  },
  {
   "cell_type": "markdown",
   "id": "3e49a346",
   "metadata": {},
   "source": [
    "#### 3.4.7. Handling Variable \"NO2\""
   ]
  },
  {
   "cell_type": "code",
   "execution_count": 40,
   "id": "4cfe05fa",
   "metadata": {},
   "outputs": [
    {
     "ename": "ValueError",
     "evalue": "invalid literal for int() with base 10: '---'",
     "output_type": "error",
     "traceback": [
      "\u001b[1;31m---------------------------------------------------------------------------\u001b[0m",
      "\u001b[1;31mValueError\u001b[0m                                Traceback (most recent call last)",
      "Cell \u001b[1;32mIn [40], line 1\u001b[0m\n\u001b[1;32m----> 1\u001b[0m raw_dataset\u001b[39m.\u001b[39mno2 \u001b[39m=\u001b[39m raw_dataset\u001b[39m.\u001b[39;49mno2\u001b[39m.\u001b[39;49mastype(\u001b[39mint\u001b[39;49m)\n",
      "File \u001b[1;32mc:\\Users\\nvic\\Desktop\\Exercise\\venv_win\\lib\\site-packages\\pandas\\core\\generic.py:6245\u001b[0m, in \u001b[0;36mNDFrame.astype\u001b[1;34m(self, dtype, copy, errors)\u001b[0m\n\u001b[0;32m   6238\u001b[0m     results \u001b[39m=\u001b[39m [\n\u001b[0;32m   6239\u001b[0m         \u001b[39mself\u001b[39m\u001b[39m.\u001b[39miloc[:, i]\u001b[39m.\u001b[39mastype(dtype, copy\u001b[39m=\u001b[39mcopy)\n\u001b[0;32m   6240\u001b[0m         \u001b[39mfor\u001b[39;00m i \u001b[39min\u001b[39;00m \u001b[39mrange\u001b[39m(\u001b[39mlen\u001b[39m(\u001b[39mself\u001b[39m\u001b[39m.\u001b[39mcolumns))\n\u001b[0;32m   6241\u001b[0m     ]\n\u001b[0;32m   6243\u001b[0m \u001b[39melse\u001b[39;00m:\n\u001b[0;32m   6244\u001b[0m     \u001b[39m# else, only a single dtype is given\u001b[39;00m\n\u001b[1;32m-> 6245\u001b[0m     new_data \u001b[39m=\u001b[39m \u001b[39mself\u001b[39;49m\u001b[39m.\u001b[39;49m_mgr\u001b[39m.\u001b[39;49mastype(dtype\u001b[39m=\u001b[39;49mdtype, copy\u001b[39m=\u001b[39;49mcopy, errors\u001b[39m=\u001b[39;49merrors)\n\u001b[0;32m   6246\u001b[0m     \u001b[39mreturn\u001b[39;00m \u001b[39mself\u001b[39m\u001b[39m.\u001b[39m_constructor(new_data)\u001b[39m.\u001b[39m__finalize__(\u001b[39mself\u001b[39m, method\u001b[39m=\u001b[39m\u001b[39m\"\u001b[39m\u001b[39mastype\u001b[39m\u001b[39m\"\u001b[39m)\n\u001b[0;32m   6248\u001b[0m \u001b[39m# GH 33113: handle empty frame or series\u001b[39;00m\n",
      "File \u001b[1;32mc:\\Users\\nvic\\Desktop\\Exercise\\venv_win\\lib\\site-packages\\pandas\\core\\internals\\managers.py:446\u001b[0m, in \u001b[0;36mBaseBlockManager.astype\u001b[1;34m(self, dtype, copy, errors)\u001b[0m\n\u001b[0;32m    445\u001b[0m \u001b[39mdef\u001b[39;00m \u001b[39mastype\u001b[39m(\u001b[39mself\u001b[39m: T, dtype, copy: \u001b[39mbool\u001b[39m \u001b[39m=\u001b[39m \u001b[39mFalse\u001b[39;00m, errors: \u001b[39mstr\u001b[39m \u001b[39m=\u001b[39m \u001b[39m\"\u001b[39m\u001b[39mraise\u001b[39m\u001b[39m\"\u001b[39m) \u001b[39m-\u001b[39m\u001b[39m>\u001b[39m T:\n\u001b[1;32m--> 446\u001b[0m     \u001b[39mreturn\u001b[39;00m \u001b[39mself\u001b[39;49m\u001b[39m.\u001b[39;49mapply(\u001b[39m\"\u001b[39;49m\u001b[39mastype\u001b[39;49m\u001b[39m\"\u001b[39;49m, dtype\u001b[39m=\u001b[39;49mdtype, copy\u001b[39m=\u001b[39;49mcopy, errors\u001b[39m=\u001b[39;49merrors)\n",
      "File \u001b[1;32mc:\\Users\\nvic\\Desktop\\Exercise\\venv_win\\lib\\site-packages\\pandas\\core\\internals\\managers.py:348\u001b[0m, in \u001b[0;36mBaseBlockManager.apply\u001b[1;34m(self, f, align_keys, ignore_failures, **kwargs)\u001b[0m\n\u001b[0;32m    346\u001b[0m         applied \u001b[39m=\u001b[39m b\u001b[39m.\u001b[39mapply(f, \u001b[39m*\u001b[39m\u001b[39m*\u001b[39mkwargs)\n\u001b[0;32m    347\u001b[0m     \u001b[39melse\u001b[39;00m:\n\u001b[1;32m--> 348\u001b[0m         applied \u001b[39m=\u001b[39m \u001b[39mgetattr\u001b[39m(b, f)(\u001b[39m*\u001b[39m\u001b[39m*\u001b[39mkwargs)\n\u001b[0;32m    349\u001b[0m \u001b[39mexcept\u001b[39;00m (\u001b[39mTypeError\u001b[39;00m, \u001b[39mNotImplementedError\u001b[39;00m):\n\u001b[0;32m    350\u001b[0m     \u001b[39mif\u001b[39;00m \u001b[39mnot\u001b[39;00m ignore_failures:\n",
      "File \u001b[1;32mc:\\Users\\nvic\\Desktop\\Exercise\\venv_win\\lib\\site-packages\\pandas\\core\\internals\\blocks.py:527\u001b[0m, in \u001b[0;36mBlock.astype\u001b[1;34m(self, dtype, copy, errors)\u001b[0m\n\u001b[0;32m    509\u001b[0m \u001b[39m\"\"\"\u001b[39;00m\n\u001b[0;32m    510\u001b[0m \u001b[39mCoerce to the new dtype.\u001b[39;00m\n\u001b[0;32m    511\u001b[0m \n\u001b[1;32m   (...)\u001b[0m\n\u001b[0;32m    523\u001b[0m \u001b[39mBlock\u001b[39;00m\n\u001b[0;32m    524\u001b[0m \u001b[39m\"\"\"\u001b[39;00m\n\u001b[0;32m    525\u001b[0m values \u001b[39m=\u001b[39m \u001b[39mself\u001b[39m\u001b[39m.\u001b[39mvalues\n\u001b[1;32m--> 527\u001b[0m new_values \u001b[39m=\u001b[39m astype_array_safe(values, dtype, copy\u001b[39m=\u001b[39;49mcopy, errors\u001b[39m=\u001b[39;49merrors)\n\u001b[0;32m    529\u001b[0m new_values \u001b[39m=\u001b[39m maybe_coerce_values(new_values)\n\u001b[0;32m    530\u001b[0m newb \u001b[39m=\u001b[39m \u001b[39mself\u001b[39m\u001b[39m.\u001b[39mmake_block(new_values)\n",
      "File \u001b[1;32mc:\\Users\\nvic\\Desktop\\Exercise\\venv_win\\lib\\site-packages\\pandas\\core\\dtypes\\astype.py:299\u001b[0m, in \u001b[0;36mastype_array_safe\u001b[1;34m(values, dtype, copy, errors)\u001b[0m\n\u001b[0;32m    296\u001b[0m     \u001b[39mreturn\u001b[39;00m values\u001b[39m.\u001b[39mcopy()\n\u001b[0;32m    298\u001b[0m \u001b[39mtry\u001b[39;00m:\n\u001b[1;32m--> 299\u001b[0m     new_values \u001b[39m=\u001b[39m astype_array(values, dtype, copy\u001b[39m=\u001b[39;49mcopy)\n\u001b[0;32m    300\u001b[0m \u001b[39mexcept\u001b[39;00m (\u001b[39mValueError\u001b[39;00m, \u001b[39mTypeError\u001b[39;00m):\n\u001b[0;32m    301\u001b[0m     \u001b[39m# e.g. astype_nansafe can fail on object-dtype of strings\u001b[39;00m\n\u001b[0;32m    302\u001b[0m     \u001b[39m#  trying to convert to float\u001b[39;00m\n\u001b[0;32m    303\u001b[0m     \u001b[39mif\u001b[39;00m errors \u001b[39m==\u001b[39m \u001b[39m\"\u001b[39m\u001b[39mignore\u001b[39m\u001b[39m\"\u001b[39m:\n",
      "File \u001b[1;32mc:\\Users\\nvic\\Desktop\\Exercise\\venv_win\\lib\\site-packages\\pandas\\core\\dtypes\\astype.py:230\u001b[0m, in \u001b[0;36mastype_array\u001b[1;34m(values, dtype, copy)\u001b[0m\n\u001b[0;32m    227\u001b[0m     values \u001b[39m=\u001b[39m values\u001b[39m.\u001b[39mastype(dtype, copy\u001b[39m=\u001b[39mcopy)\n\u001b[0;32m    229\u001b[0m \u001b[39melse\u001b[39;00m:\n\u001b[1;32m--> 230\u001b[0m     values \u001b[39m=\u001b[39m astype_nansafe(values, dtype, copy\u001b[39m=\u001b[39;49mcopy)\n\u001b[0;32m    232\u001b[0m \u001b[39m# in pandas we don't store numpy str dtypes, so convert to object\u001b[39;00m\n\u001b[0;32m    233\u001b[0m \u001b[39mif\u001b[39;00m \u001b[39misinstance\u001b[39m(dtype, np\u001b[39m.\u001b[39mdtype) \u001b[39mand\u001b[39;00m \u001b[39missubclass\u001b[39m(values\u001b[39m.\u001b[39mdtype\u001b[39m.\u001b[39mtype, \u001b[39mstr\u001b[39m):\n",
      "File \u001b[1;32mc:\\Users\\nvic\\Desktop\\Exercise\\venv_win\\lib\\site-packages\\pandas\\core\\dtypes\\astype.py:170\u001b[0m, in \u001b[0;36mastype_nansafe\u001b[1;34m(arr, dtype, copy, skipna)\u001b[0m\n\u001b[0;32m    166\u001b[0m     \u001b[39mraise\u001b[39;00m \u001b[39mValueError\u001b[39;00m(msg)\n\u001b[0;32m    168\u001b[0m \u001b[39mif\u001b[39;00m copy \u001b[39mor\u001b[39;00m is_object_dtype(arr\u001b[39m.\u001b[39mdtype) \u001b[39mor\u001b[39;00m is_object_dtype(dtype):\n\u001b[0;32m    169\u001b[0m     \u001b[39m# Explicit copy, or required since NumPy can't view from / to object.\u001b[39;00m\n\u001b[1;32m--> 170\u001b[0m     \u001b[39mreturn\u001b[39;00m arr\u001b[39m.\u001b[39;49mastype(dtype, copy\u001b[39m=\u001b[39;49m\u001b[39mTrue\u001b[39;49;00m)\n\u001b[0;32m    172\u001b[0m \u001b[39mreturn\u001b[39;00m arr\u001b[39m.\u001b[39mastype(dtype, copy\u001b[39m=\u001b[39mcopy)\n",
      "\u001b[1;31mValueError\u001b[0m: invalid literal for int() with base 10: '---'"
     ]
    }
   ],
   "source": [
    "raw_dataset.no2 = raw_dataset.no2.astype(int)"
   ]
  },
  {
   "cell_type": "code",
   "execution_count": 41,
   "id": "599079e2",
   "metadata": {},
   "outputs": [],
   "source": [
    "raw_dataset.no2 = raw_dataset.no2.replace(\"---\", -1).astype(int)"
   ]
  },
  {
   "cell_type": "code",
   "execution_count": 42,
   "id": "dbe4a2a1",
   "metadata": {},
   "outputs": [
    {
     "name": "stdout",
     "output_type": "stream",
     "text": [
      "<class 'pandas.core.frame.DataFrame'>\n",
      "RangeIndex: 1830 entries, 0 to 1829\n",
      "Data columns (total 11 columns):\n",
      " #   Column    Non-Null Count  Dtype         \n",
      "---  ------    --------------  -----         \n",
      " 0   tanggal   1830 non-null   datetime64[ns]\n",
      " 1   stasiun   1830 non-null   object        \n",
      " 2   pm10      1830 non-null   int32         \n",
      " 3   pm25      1830 non-null   int32         \n",
      " 4   so2       1830 non-null   int32         \n",
      " 5   co        1830 non-null   int32         \n",
      " 6   o3        1830 non-null   int32         \n",
      " 7   no2       1830 non-null   int32         \n",
      " 8   max       1830 non-null   object        \n",
      " 9   critical  1813 non-null   object        \n",
      " 10  categori  1829 non-null   object        \n",
      "dtypes: datetime64[ns](1), int32(6), object(4)\n",
      "memory usage: 114.5+ KB\n"
     ]
    }
   ],
   "source": [
    "raw_dataset.info()"
   ]
  },
  {
   "cell_type": "markdown",
   "id": "491dd326",
   "metadata": {},
   "source": [
    "#### 3.4.8. Handling Variable \"Max\""
   ]
  },
  {
   "cell_type": "code",
   "execution_count": 43,
   "id": "16af1eba",
   "metadata": {},
   "outputs": [
    {
     "ename": "ValueError",
     "evalue": "invalid literal for int() with base 10: 'PM25'",
     "output_type": "error",
     "traceback": [
      "\u001b[1;31m---------------------------------------------------------------------------\u001b[0m",
      "\u001b[1;31mValueError\u001b[0m                                Traceback (most recent call last)",
      "Cell \u001b[1;32mIn [43], line 1\u001b[0m\n\u001b[1;32m----> 1\u001b[0m raw_dataset[\u001b[39m\"\u001b[39m\u001b[39mmax\u001b[39m\u001b[39m\"\u001b[39m] \u001b[39m=\u001b[39m raw_dataset[\u001b[39m\"\u001b[39;49m\u001b[39mmax\u001b[39;49m\u001b[39m\"\u001b[39;49m]\u001b[39m.\u001b[39;49mastype(\u001b[39mint\u001b[39;49m)\n",
      "File \u001b[1;32mc:\\Users\\nvic\\Desktop\\Exercise\\venv_win\\lib\\site-packages\\pandas\\core\\generic.py:6245\u001b[0m, in \u001b[0;36mNDFrame.astype\u001b[1;34m(self, dtype, copy, errors)\u001b[0m\n\u001b[0;32m   6238\u001b[0m     results \u001b[39m=\u001b[39m [\n\u001b[0;32m   6239\u001b[0m         \u001b[39mself\u001b[39m\u001b[39m.\u001b[39miloc[:, i]\u001b[39m.\u001b[39mastype(dtype, copy\u001b[39m=\u001b[39mcopy)\n\u001b[0;32m   6240\u001b[0m         \u001b[39mfor\u001b[39;00m i \u001b[39min\u001b[39;00m \u001b[39mrange\u001b[39m(\u001b[39mlen\u001b[39m(\u001b[39mself\u001b[39m\u001b[39m.\u001b[39mcolumns))\n\u001b[0;32m   6241\u001b[0m     ]\n\u001b[0;32m   6243\u001b[0m \u001b[39melse\u001b[39;00m:\n\u001b[0;32m   6244\u001b[0m     \u001b[39m# else, only a single dtype is given\u001b[39;00m\n\u001b[1;32m-> 6245\u001b[0m     new_data \u001b[39m=\u001b[39m \u001b[39mself\u001b[39;49m\u001b[39m.\u001b[39;49m_mgr\u001b[39m.\u001b[39;49mastype(dtype\u001b[39m=\u001b[39;49mdtype, copy\u001b[39m=\u001b[39;49mcopy, errors\u001b[39m=\u001b[39;49merrors)\n\u001b[0;32m   6246\u001b[0m     \u001b[39mreturn\u001b[39;00m \u001b[39mself\u001b[39m\u001b[39m.\u001b[39m_constructor(new_data)\u001b[39m.\u001b[39m__finalize__(\u001b[39mself\u001b[39m, method\u001b[39m=\u001b[39m\u001b[39m\"\u001b[39m\u001b[39mastype\u001b[39m\u001b[39m\"\u001b[39m)\n\u001b[0;32m   6248\u001b[0m \u001b[39m# GH 33113: handle empty frame or series\u001b[39;00m\n",
      "File \u001b[1;32mc:\\Users\\nvic\\Desktop\\Exercise\\venv_win\\lib\\site-packages\\pandas\\core\\internals\\managers.py:446\u001b[0m, in \u001b[0;36mBaseBlockManager.astype\u001b[1;34m(self, dtype, copy, errors)\u001b[0m\n\u001b[0;32m    445\u001b[0m \u001b[39mdef\u001b[39;00m \u001b[39mastype\u001b[39m(\u001b[39mself\u001b[39m: T, dtype, copy: \u001b[39mbool\u001b[39m \u001b[39m=\u001b[39m \u001b[39mFalse\u001b[39;00m, errors: \u001b[39mstr\u001b[39m \u001b[39m=\u001b[39m \u001b[39m\"\u001b[39m\u001b[39mraise\u001b[39m\u001b[39m\"\u001b[39m) \u001b[39m-\u001b[39m\u001b[39m>\u001b[39m T:\n\u001b[1;32m--> 446\u001b[0m     \u001b[39mreturn\u001b[39;00m \u001b[39mself\u001b[39;49m\u001b[39m.\u001b[39;49mapply(\u001b[39m\"\u001b[39;49m\u001b[39mastype\u001b[39;49m\u001b[39m\"\u001b[39;49m, dtype\u001b[39m=\u001b[39;49mdtype, copy\u001b[39m=\u001b[39;49mcopy, errors\u001b[39m=\u001b[39;49merrors)\n",
      "File \u001b[1;32mc:\\Users\\nvic\\Desktop\\Exercise\\venv_win\\lib\\site-packages\\pandas\\core\\internals\\managers.py:348\u001b[0m, in \u001b[0;36mBaseBlockManager.apply\u001b[1;34m(self, f, align_keys, ignore_failures, **kwargs)\u001b[0m\n\u001b[0;32m    346\u001b[0m         applied \u001b[39m=\u001b[39m b\u001b[39m.\u001b[39mapply(f, \u001b[39m*\u001b[39m\u001b[39m*\u001b[39mkwargs)\n\u001b[0;32m    347\u001b[0m     \u001b[39melse\u001b[39;00m:\n\u001b[1;32m--> 348\u001b[0m         applied \u001b[39m=\u001b[39m \u001b[39mgetattr\u001b[39m(b, f)(\u001b[39m*\u001b[39m\u001b[39m*\u001b[39mkwargs)\n\u001b[0;32m    349\u001b[0m \u001b[39mexcept\u001b[39;00m (\u001b[39mTypeError\u001b[39;00m, \u001b[39mNotImplementedError\u001b[39;00m):\n\u001b[0;32m    350\u001b[0m     \u001b[39mif\u001b[39;00m \u001b[39mnot\u001b[39;00m ignore_failures:\n",
      "File \u001b[1;32mc:\\Users\\nvic\\Desktop\\Exercise\\venv_win\\lib\\site-packages\\pandas\\core\\internals\\blocks.py:527\u001b[0m, in \u001b[0;36mBlock.astype\u001b[1;34m(self, dtype, copy, errors)\u001b[0m\n\u001b[0;32m    509\u001b[0m \u001b[39m\"\"\"\u001b[39;00m\n\u001b[0;32m    510\u001b[0m \u001b[39mCoerce to the new dtype.\u001b[39;00m\n\u001b[0;32m    511\u001b[0m \n\u001b[1;32m   (...)\u001b[0m\n\u001b[0;32m    523\u001b[0m \u001b[39mBlock\u001b[39;00m\n\u001b[0;32m    524\u001b[0m \u001b[39m\"\"\"\u001b[39;00m\n\u001b[0;32m    525\u001b[0m values \u001b[39m=\u001b[39m \u001b[39mself\u001b[39m\u001b[39m.\u001b[39mvalues\n\u001b[1;32m--> 527\u001b[0m new_values \u001b[39m=\u001b[39m astype_array_safe(values, dtype, copy\u001b[39m=\u001b[39;49mcopy, errors\u001b[39m=\u001b[39;49merrors)\n\u001b[0;32m    529\u001b[0m new_values \u001b[39m=\u001b[39m maybe_coerce_values(new_values)\n\u001b[0;32m    530\u001b[0m newb \u001b[39m=\u001b[39m \u001b[39mself\u001b[39m\u001b[39m.\u001b[39mmake_block(new_values)\n",
      "File \u001b[1;32mc:\\Users\\nvic\\Desktop\\Exercise\\venv_win\\lib\\site-packages\\pandas\\core\\dtypes\\astype.py:299\u001b[0m, in \u001b[0;36mastype_array_safe\u001b[1;34m(values, dtype, copy, errors)\u001b[0m\n\u001b[0;32m    296\u001b[0m     \u001b[39mreturn\u001b[39;00m values\u001b[39m.\u001b[39mcopy()\n\u001b[0;32m    298\u001b[0m \u001b[39mtry\u001b[39;00m:\n\u001b[1;32m--> 299\u001b[0m     new_values \u001b[39m=\u001b[39m astype_array(values, dtype, copy\u001b[39m=\u001b[39;49mcopy)\n\u001b[0;32m    300\u001b[0m \u001b[39mexcept\u001b[39;00m (\u001b[39mValueError\u001b[39;00m, \u001b[39mTypeError\u001b[39;00m):\n\u001b[0;32m    301\u001b[0m     \u001b[39m# e.g. astype_nansafe can fail on object-dtype of strings\u001b[39;00m\n\u001b[0;32m    302\u001b[0m     \u001b[39m#  trying to convert to float\u001b[39;00m\n\u001b[0;32m    303\u001b[0m     \u001b[39mif\u001b[39;00m errors \u001b[39m==\u001b[39m \u001b[39m\"\u001b[39m\u001b[39mignore\u001b[39m\u001b[39m\"\u001b[39m:\n",
      "File \u001b[1;32mc:\\Users\\nvic\\Desktop\\Exercise\\venv_win\\lib\\site-packages\\pandas\\core\\dtypes\\astype.py:230\u001b[0m, in \u001b[0;36mastype_array\u001b[1;34m(values, dtype, copy)\u001b[0m\n\u001b[0;32m    227\u001b[0m     values \u001b[39m=\u001b[39m values\u001b[39m.\u001b[39mastype(dtype, copy\u001b[39m=\u001b[39mcopy)\n\u001b[0;32m    229\u001b[0m \u001b[39melse\u001b[39;00m:\n\u001b[1;32m--> 230\u001b[0m     values \u001b[39m=\u001b[39m astype_nansafe(values, dtype, copy\u001b[39m=\u001b[39;49mcopy)\n\u001b[0;32m    232\u001b[0m \u001b[39m# in pandas we don't store numpy str dtypes, so convert to object\u001b[39;00m\n\u001b[0;32m    233\u001b[0m \u001b[39mif\u001b[39;00m \u001b[39misinstance\u001b[39m(dtype, np\u001b[39m.\u001b[39mdtype) \u001b[39mand\u001b[39;00m \u001b[39missubclass\u001b[39m(values\u001b[39m.\u001b[39mdtype\u001b[39m.\u001b[39mtype, \u001b[39mstr\u001b[39m):\n",
      "File \u001b[1;32mc:\\Users\\nvic\\Desktop\\Exercise\\venv_win\\lib\\site-packages\\pandas\\core\\dtypes\\astype.py:170\u001b[0m, in \u001b[0;36mastype_nansafe\u001b[1;34m(arr, dtype, copy, skipna)\u001b[0m\n\u001b[0;32m    166\u001b[0m     \u001b[39mraise\u001b[39;00m \u001b[39mValueError\u001b[39;00m(msg)\n\u001b[0;32m    168\u001b[0m \u001b[39mif\u001b[39;00m copy \u001b[39mor\u001b[39;00m is_object_dtype(arr\u001b[39m.\u001b[39mdtype) \u001b[39mor\u001b[39;00m is_object_dtype(dtype):\n\u001b[0;32m    169\u001b[0m     \u001b[39m# Explicit copy, or required since NumPy can't view from / to object.\u001b[39;00m\n\u001b[1;32m--> 170\u001b[0m     \u001b[39mreturn\u001b[39;00m arr\u001b[39m.\u001b[39;49mastype(dtype, copy\u001b[39m=\u001b[39;49m\u001b[39mTrue\u001b[39;49;00m)\n\u001b[0;32m    172\u001b[0m \u001b[39mreturn\u001b[39;00m arr\u001b[39m.\u001b[39mastype(dtype, copy\u001b[39m=\u001b[39mcopy)\n",
      "\u001b[1;31mValueError\u001b[0m: invalid literal for int() with base 10: 'PM25'"
     ]
    }
   ],
   "source": [
    "raw_dataset[\"max\"] = raw_dataset[\"max\"].astype(int)"
   ]
  },
  {
   "cell_type": "code",
   "execution_count": 44,
   "id": "75ebf3bb",
   "metadata": {},
   "outputs": [
    {
     "data": {
      "text/html": [
       "<div>\n",
       "<style scoped>\n",
       "    .dataframe tbody tr th:only-of-type {\n",
       "        vertical-align: middle;\n",
       "    }\n",
       "\n",
       "    .dataframe tbody tr th {\n",
       "        vertical-align: top;\n",
       "    }\n",
       "\n",
       "    .dataframe thead th {\n",
       "        text-align: right;\n",
       "    }\n",
       "</style>\n",
       "<table border=\"1\" class=\"dataframe\">\n",
       "  <thead>\n",
       "    <tr style=\"text-align: right;\">\n",
       "      <th></th>\n",
       "      <th>tanggal</th>\n",
       "      <th>stasiun</th>\n",
       "      <th>pm10</th>\n",
       "      <th>pm25</th>\n",
       "      <th>so2</th>\n",
       "      <th>co</th>\n",
       "      <th>o3</th>\n",
       "      <th>no2</th>\n",
       "      <th>max</th>\n",
       "      <th>critical</th>\n",
       "      <th>categori</th>\n",
       "    </tr>\n",
       "  </thead>\n",
       "  <tbody>\n",
       "    <tr>\n",
       "      <th>1372</th>\n",
       "      <td>2021-12-03</td>\n",
       "      <td>DKI1 (Bunderan HI)</td>\n",
       "      <td>49</td>\n",
       "      <td>31</td>\n",
       "      <td>9</td>\n",
       "      <td>19</td>\n",
       "      <td>7</td>\n",
       "      <td>49</td>\n",
       "      <td>PM25</td>\n",
       "      <td>BAIK</td>\n",
       "      <td>NaN</td>\n",
       "    </tr>\n",
       "  </tbody>\n",
       "</table>\n",
       "</div>"
      ],
      "text/plain": [
       "        tanggal             stasiun  pm10  pm25  so2  co  o3  no2   max  \\\n",
       "1372 2021-12-03  DKI1 (Bunderan HI)    49    31    9  19   7   49  PM25   \n",
       "\n",
       "     critical categori  \n",
       "1372     BAIK      NaN  "
      ]
     },
     "execution_count": 44,
     "metadata": {},
     "output_type": "execute_result"
    }
   ],
   "source": [
    "# This seems like different from before, we need to investigate\n",
    "raw_dataset[raw_dataset[\"max\"] == \"PM25\"]"
   ]
  },
  {
   "cell_type": "code",
   "execution_count": 45,
   "id": "c757a0e8",
   "metadata": {},
   "outputs": [],
   "source": [
    "# From row 1372, we know that data in variable max should be integer value from pm10 or no2\n",
    "# Data in critical should be pm10 or no2\n",
    "# For categori, we could assumpt that it is baik, but need to check it later in eda step based on other variables"
   ]
  },
  {
   "cell_type": "code",
   "execution_count": 46,
   "id": "36c8b9d3",
   "metadata": {},
   "outputs": [],
   "source": [
    "# quick fix the problem\n",
    "raw_dataset.loc[1372, \"max\"] = 49\n",
    "raw_dataset.loc[1372, \"critical\"] = \"PM10\"\n",
    "raw_dataset.loc[1372, \"categori\"] = \"BAIK\""
   ]
  },
  {
   "cell_type": "code",
   "execution_count": 47,
   "id": "07ebcec6",
   "metadata": {},
   "outputs": [
    {
     "data": {
      "text/html": [
       "<div>\n",
       "<style scoped>\n",
       "    .dataframe tbody tr th:only-of-type {\n",
       "        vertical-align: middle;\n",
       "    }\n",
       "\n",
       "    .dataframe tbody tr th {\n",
       "        vertical-align: top;\n",
       "    }\n",
       "\n",
       "    .dataframe thead th {\n",
       "        text-align: right;\n",
       "    }\n",
       "</style>\n",
       "<table border=\"1\" class=\"dataframe\">\n",
       "  <thead>\n",
       "    <tr style=\"text-align: right;\">\n",
       "      <th></th>\n",
       "      <th>tanggal</th>\n",
       "      <th>stasiun</th>\n",
       "      <th>pm10</th>\n",
       "      <th>pm25</th>\n",
       "      <th>so2</th>\n",
       "      <th>co</th>\n",
       "      <th>o3</th>\n",
       "      <th>no2</th>\n",
       "      <th>max</th>\n",
       "      <th>critical</th>\n",
       "      <th>categori</th>\n",
       "    </tr>\n",
       "  </thead>\n",
       "  <tbody>\n",
       "  </tbody>\n",
       "</table>\n",
       "</div>"
      ],
      "text/plain": [
       "Empty DataFrame\n",
       "Columns: [tanggal, stasiun, pm10, pm25, so2, co, o3, no2, max, critical, categori]\n",
       "Index: []"
      ]
     },
     "execution_count": 47,
     "metadata": {},
     "output_type": "execute_result"
    }
   ],
   "source": [
    "# Check the result\n",
    "raw_dataset[raw_dataset[\"max\"] == \"PM25\"]"
   ]
  },
  {
   "cell_type": "code",
   "execution_count": 48,
   "id": "9d67cf2c",
   "metadata": {},
   "outputs": [
    {
     "data": {
      "text/plain": [
       "tanggal     2021-12-03 00:00:00\n",
       "stasiun      DKI1 (Bunderan HI)\n",
       "pm10                         49\n",
       "pm25                         31\n",
       "so2                           9\n",
       "co                           19\n",
       "o3                            7\n",
       "no2                          49\n",
       "max                          49\n",
       "critical                   PM10\n",
       "categori                   BAIK\n",
       "Name: 1372, dtype: object"
      ]
     },
     "execution_count": 48,
     "metadata": {},
     "output_type": "execute_result"
    }
   ],
   "source": [
    "raw_dataset.loc[1372]"
   ]
  },
  {
   "cell_type": "code",
   "execution_count": 49,
   "id": "b758a950",
   "metadata": {},
   "outputs": [],
   "source": [
    "raw_dataset[\"max\"] = raw_dataset[\"max\"].astype(int)"
   ]
  },
  {
   "cell_type": "code",
   "execution_count": 50,
   "id": "822cda29",
   "metadata": {},
   "outputs": [
    {
     "name": "stdout",
     "output_type": "stream",
     "text": [
      "<class 'pandas.core.frame.DataFrame'>\n",
      "RangeIndex: 1830 entries, 0 to 1829\n",
      "Data columns (total 11 columns):\n",
      " #   Column    Non-Null Count  Dtype         \n",
      "---  ------    --------------  -----         \n",
      " 0   tanggal   1830 non-null   datetime64[ns]\n",
      " 1   stasiun   1830 non-null   object        \n",
      " 2   pm10      1830 non-null   int32         \n",
      " 3   pm25      1830 non-null   int32         \n",
      " 4   so2       1830 non-null   int32         \n",
      " 5   co        1830 non-null   int32         \n",
      " 6   o3        1830 non-null   int32         \n",
      " 7   no2       1830 non-null   int32         \n",
      " 8   max       1830 non-null   int32         \n",
      " 9   critical  1813 non-null   object        \n",
      " 10  categori  1830 non-null   object        \n",
      "dtypes: datetime64[ns](1), int32(7), object(3)\n",
      "memory usage: 107.4+ KB\n"
     ]
    }
   ],
   "source": [
    "raw_dataset.info()"
   ]
  },
  {
   "cell_type": "markdown",
   "id": "1bf5a24d",
   "metadata": {},
   "source": [
    "#### 3.4.9. Handling Variable \"Categori\""
   ]
  },
  {
   "cell_type": "code",
   "execution_count": 51,
   "id": "5ba65c56",
   "metadata": {},
   "outputs": [
    {
     "data": {
      "text/plain": [
       "SEDANG            1305\n",
       "TIDAK SEHAT        319\n",
       "BAIK               189\n",
       "TIDAK ADA DATA      17\n",
       "Name: categori, dtype: int64"
      ]
     },
     "execution_count": 51,
     "metadata": {},
     "output_type": "execute_result"
    }
   ],
   "source": [
    "# Check range of categori\n",
    "raw_dataset.categori.value_counts()"
   ]
  },
  {
   "cell_type": "code",
   "execution_count": 52,
   "id": "9695f46b",
   "metadata": {},
   "outputs": [],
   "source": [
    "# Data \"tidak ada data\" is indication of null value, we can drop it"
   ]
  },
  {
   "cell_type": "code",
   "execution_count": 53,
   "id": "b1468712",
   "metadata": {},
   "outputs": [],
   "source": [
    "raw_dataset.drop(index = raw_dataset[raw_dataset.categori == \"TIDAK ADA DATA\"].index, inplace = True)"
   ]
  },
  {
   "cell_type": "code",
   "execution_count": 54,
   "id": "c4c6e2e1",
   "metadata": {},
   "outputs": [
    {
     "data": {
      "text/plain": [
       "SEDANG         1305\n",
       "TIDAK SEHAT     319\n",
       "BAIK            189\n",
       "Name: categori, dtype: int64"
      ]
     },
     "execution_count": 54,
     "metadata": {},
     "output_type": "execute_result"
    }
   ],
   "source": [
    "raw_dataset.categori.value_counts()"
   ]
  },
  {
   "cell_type": "code",
   "execution_count": 55,
   "id": "25eda940",
   "metadata": {},
   "outputs": [
    {
     "name": "stdout",
     "output_type": "stream",
     "text": [
      "<class 'pandas.core.frame.DataFrame'>\n",
      "Int64Index: 1813 entries, 0 to 1829\n",
      "Data columns (total 11 columns):\n",
      " #   Column    Non-Null Count  Dtype         \n",
      "---  ------    --------------  -----         \n",
      " 0   tanggal   1813 non-null   datetime64[ns]\n",
      " 1   stasiun   1813 non-null   object        \n",
      " 2   pm10      1813 non-null   int32         \n",
      " 3   pm25      1813 non-null   int32         \n",
      " 4   so2       1813 non-null   int32         \n",
      " 5   co        1813 non-null   int32         \n",
      " 6   o3        1813 non-null   int32         \n",
      " 7   no2       1813 non-null   int32         \n",
      " 8   max       1813 non-null   int32         \n",
      " 9   critical  1813 non-null   object        \n",
      " 10  categori  1813 non-null   object        \n",
      "dtypes: datetime64[ns](1), int32(7), object(3)\n",
      "memory usage: 120.4+ KB\n"
     ]
    }
   ],
   "source": [
    "raw_dataset.info()"
   ]
  },
  {
   "cell_type": "code",
   "execution_count": 56,
   "id": "17fde07c",
   "metadata": {},
   "outputs": [],
   "source": [
    "util.pickle_dump(raw_dataset, config_data[\"cleaned_raw_dataset_path\"])"
   ]
  },
  {
   "cell_type": "markdown",
   "id": "13123e29",
   "metadata": {},
   "source": [
    "## 4. Data Defense"
   ]
  },
  {
   "cell_type": "code",
   "execution_count": 57,
   "id": "b7d9c1c4",
   "metadata": {},
   "outputs": [],
   "source": [
    "def check_data(input_data, params):\n",
    "    # Check data types\n",
    "    assert input_data.select_dtypes(\"datetime\").columns.to_list() == params[\"datetime_columns\"], \"an error occurs in datetime column(s).\"\n",
    "    assert input_data.select_dtypes(\"object\").columns.to_list() == params[\"object_columns\"], \"an error occurs in object column(s).\"\n",
    "    assert input_data.select_dtypes(\"int\").columns.to_list() == params[\"int32_columns\"], \"an error occurs in int32 column(s).\"\n",
    "\n",
    "    # Check range of data\n",
    "    assert set(input_data.stasiun).issubset(set(params[\"range_stasiun\"])), \"an error occurs in stasiun range.\"\n",
    "    assert input_data.pm10.between(params[\"range_pm10\"][0], params[\"range_pm10\"][1]).sum() == len(input_data), \"an error occurs in pm10 range.\"\n",
    "    assert input_data.pm25.between(params[\"range_pm25\"][0], params[\"range_pm25\"][1]).sum() == len(input_data), \"an error occurs in pm25 range.\"\n",
    "    assert input_data.so2.between(params[\"range_so2\"][0], params[\"range_so2\"][1]).sum() == len(input_data), \"an error occurs in so2 range.\"\n",
    "    assert input_data.co.between(params[\"range_co\"][0], params[\"range_co\"][1]).sum() == len(input_data), \"an error occurs in co range.\"\n",
    "    assert input_data.o3.between(params[\"range_o3\"][0], params[\"range_o3\"][1]).sum() == len(input_data), \"an error occurs in o3 range.\"\n",
    "    assert input_data.no2.between(params[\"range_no2\"][0], params[\"range_no2\"][1]).sum() == len(input_data), \"an error occurs in no2 range.\""
   ]
  },
  {
   "cell_type": "code",
   "execution_count": 58,
   "id": "3a886a0d",
   "metadata": {},
   "outputs": [],
   "source": [
    "check_data(raw_dataset, config_data)"
   ]
  },
  {
   "cell_type": "markdown",
   "id": "bcd31b90",
   "metadata": {},
   "source": [
    "## 5. Data Splitting"
   ]
  },
  {
   "cell_type": "code",
   "execution_count": 59,
   "id": "5b47a0c3",
   "metadata": {},
   "outputs": [],
   "source": [
    "# Split input/variable/feature with target/labet/output\n",
    "x = raw_dataset[config_data[\"predictors\"]].copy()\n",
    "y = raw_dataset.categori.copy()"
   ]
  },
  {
   "cell_type": "code",
   "execution_count": 60,
   "id": "1ed33476",
   "metadata": {},
   "outputs": [
    {
     "name": "stdout",
     "output_type": "stream",
     "text": [
      "<class 'pandas.core.frame.DataFrame'>\n",
      "Int64Index: 1813 entries, 0 to 1829\n",
      "Data columns (total 7 columns):\n",
      " #   Column   Non-Null Count  Dtype \n",
      "---  ------   --------------  ----- \n",
      " 0   stasiun  1813 non-null   object\n",
      " 1   pm10     1813 non-null   int32 \n",
      " 2   pm25     1813 non-null   int32 \n",
      " 3   so2      1813 non-null   int32 \n",
      " 4   co       1813 non-null   int32 \n",
      " 5   o3       1813 non-null   int32 \n",
      " 6   no2      1813 non-null   int32 \n",
      "dtypes: int32(6), object(1)\n",
      "memory usage: 70.8+ KB\n"
     ]
    }
   ],
   "source": [
    "x.info()"
   ]
  },
  {
   "cell_type": "code",
   "execution_count": 61,
   "id": "5953c997",
   "metadata": {},
   "outputs": [
    {
     "data": {
      "text/plain": [
       "SEDANG         1305\n",
       "TIDAK SEHAT     319\n",
       "BAIK            189\n",
       "Name: categori, dtype: int64"
      ]
     },
     "execution_count": 61,
     "metadata": {},
     "output_type": "execute_result"
    }
   ],
   "source": [
    "y.value_counts()"
   ]
  },
  {
   "cell_type": "code",
   "execution_count": 62,
   "id": "09b75fec",
   "metadata": {},
   "outputs": [],
   "source": [
    "# First split, splitting train and test set with ratio 0.7:0.3 and do stratify splitting\n",
    "x_train, x_test, y_train, y_test = train_test_split(x, y, test_size = 0.3, random_state = 42, stratify = y)"
   ]
  },
  {
   "cell_type": "code",
   "execution_count": 63,
   "id": "2647c622",
   "metadata": {},
   "outputs": [],
   "source": [
    "# Second split, splitting test and valid set with ratio 0.5:0.5 and do stratify splitting\n",
    "x_valid, x_test, y_valid, y_test = train_test_split(x_test, y_test, test_size = 0.5, random_state = 42, stratify = y_test)"
   ]
  },
  {
   "cell_type": "code",
   "execution_count": 64,
   "id": "260a1cb5",
   "metadata": {},
   "outputs": [],
   "source": [
    "util.pickle_dump(x_train, config_data[\"train_set_path\"][0])\n",
    "util.pickle_dump(y_train, config_data[\"train_set_path\"][1])\n",
    "\n",
    "util.pickle_dump(x_valid, config_data[\"valid_set_path\"][0])\n",
    "util.pickle_dump(y_valid, config_data[\"valid_set_path\"][1])\n",
    "\n",
    "util.pickle_dump(x_test, config_data[\"test_set_path\"][0])\n",
    "util.pickle_dump(y_test, config_data[\"test_set_path\"][1])"
   ]
  },
  {
   "cell_type": "code",
   "execution_count": null,
   "id": "26cd2245",
   "metadata": {},
   "outputs": [],
   "source": []
  }
 ],
 "metadata": {
  "kernelspec": {
   "display_name": "Python 3 (ipykernel)",
   "language": "python",
   "name": "python3"
  },
  "language_info": {
   "codemirror_mode": {
    "name": "ipython",
    "version": 3
   },
   "file_extension": ".py",
   "mimetype": "text/x-python",
   "name": "python",
   "nbconvert_exporter": "python",
   "pygments_lexer": "ipython3",
   "version": "3.10.10"
  },
  "vscode": {
   "interpreter": {
    "hash": "f6b5ba345f865ccab9c1d1dba86e394ca61d67366183ce7e182371ee31a721f6"
   }
  }
 },
 "nbformat": 4,
 "nbformat_minor": 5
}
